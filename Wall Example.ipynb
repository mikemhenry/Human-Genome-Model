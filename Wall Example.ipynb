{
 "cells": [
  {
   "cell_type": "code",
   "execution_count": 1,
   "metadata": {},
   "outputs": [],
   "source": [
    "import hoomd\n",
    "from hoomd import *\n",
    "from hoomd.md import *\n",
    "from hoomd import deprecated\n",
    "import math\n",
    "import numpy"
   ]
  },
  {
   "cell_type": "code",
   "execution_count": 2,
   "metadata": {},
   "outputs": [
    {
     "name": "stdout",
     "output_type": "stream",
     "text": [
      "Wall_Data_Sturucture:\n",
      "spheres:2{\n",
      "[0:\tRadius=1.0\tOrigin=(0.0, 1.0, 3.0)\tInside=True]\n",
      "[1:\tRadius=1.0\tOrigin=(0.0, -1.0, 3.0)\tInside=False]}\n",
      "cylinders:3{\n",
      "[0:\tRadius=1.0\tOrigin=(1.0, 1.0, 1.0)\tAxis=(0.0, 0.0, 3.0)\tInside=True]\n",
      "[1:\tRadius=4.0\tOrigin=(0.0, 0.0, 0.0)\tAxis=(1.0, 0.0, 1.0)\tInside=True]\n",
      "[2:\tRadius=5.5\tOrigin=(1.0, 1.0, 1.0)\tAxis=(3.0, -1.0, 1.0)\tInside=False]}\n",
      "planes:3{\n",
      "[0:\tOrigin=(3.0, 2.0, 1.0)\tNormal=(2.0, 1.0, 4.0)\tInside=True]\n",
      "[1:\tOrigin=(0.0, 0.0, 0.0)\tNormal=(10.0, 2.0, 1.0)\tInside=True]\n",
      "[2:\tOrigin=(0.0, 0.0, 0.0)\tNormal=(0.0, 2.0, 1.0)\tInside=True]}\n"
     ]
    }
   ],
   "source": [
    "# Creating wall geometry definitions using convenience functions\n",
    "wallstructure=wall.group()\n",
    "wallstructure.add_sphere(r=1.0,origin=(0,1,3))\n",
    "wallstructure.add_sphere(1.0,[0,-1,3],inside=False)\n",
    "wallstructure.add_cylinder(r=1.0,origin=(1,1,1),axis=(0,0,3),inside=True)\n",
    "wallstructure.add_cylinder(4.0,[0,0,0],(1,0,1))\n",
    "wallstructure.add_cylinder(5.5,(1,1,1),(3,-1,1),False)\n",
    "wallstructure.add_plane(origin=(3,2,1),normal=(2,1,4))\n",
    "wallstructure.add_plane((0,0,0),(10,2,1))\n",
    "wallstructure.add_plane((0,0,0),(0,2,1))\n",
    "print(wallstructure)"
   ]
  },
  {
   "cell_type": "code",
   "execution_count": 3,
   "metadata": {
    "scrolled": true
   },
   "outputs": [
    {
     "name": "stdout",
     "output_type": "stream",
     "text": [
      "Wall_Data_Sturucture:\n",
      "spheres:1{\n",
      "[0:\tRadius=1.0\tOrigin=(0.0, 1.0, 3.0)\tInside=True]}\n",
      "cylinders:1{\n",
      "[0:\tRadius=4.0\tOrigin=(0.0, 0.0, 0.0)\tAxis=(1.0, 0.0, 1.0)\tInside=True]}\n",
      "planes:0{}\n"
     ]
    }
   ],
   "source": [
    "# Deleting wall geometry definitions using convenience functions in all accepted types\n",
    "wallstructure.del_plane(range(3))\n",
    "wallstructure.del_cylinder([0,2])\n",
    "wallstructure.del_sphere(1)\n",
    "print(wallstructure)"
   ]
  },
  {
   "cell_type": "code",
   "execution_count": 4,
   "metadata": {
    "scrolled": true
   },
   "outputs": [
    {
     "name": "stdout",
     "output_type": "stream",
     "text": [
      "Wall_Data_Sturucture:\n",
      "spheres:1{\n",
      "[0:\tRadius=2.0\tOrigin=(0.0, 1.0, 3.0)\tInside=True]}\n",
      "cylinders:1{\n",
      "[0:\tRadius=4.0\tOrigin=(1.0, 2.0, 1.0)\tAxis=(0.0, 0.0, 1.0)\tInside=True]}\n",
      "planes:0{}\n"
     ]
    }
   ],
   "source": [
    "# Modifying wall geometry definitions using convenience functions\n",
    "wallstructure.spheres[0].r=2.0\n",
    "wallstructure.cylinders[0].origin=[1,2,1]\n",
    "wallstructure.cylinders[0].axis=(0,0,1)\n",
    "print(wallstructure)"
   ]
  },
  {
   "cell_type": "code",
   "execution_count": 5,
   "metadata": {},
   "outputs": [
    {
     "name": "stdout",
     "output_type": "stream",
     "text": [
      "Wall_Data_Sturucture:\n",
      "spheres:1{\n",
      "[0:\tRadius=3\tOrigin=(0.0, 0.0, 0.0)\tInside=True]}\n",
      "cylinders:1{\n",
      "[0:\tRadius=2.5\tOrigin=(0.0, 0.0, 0.0)\tAxis=(0.0, 0.0, 1.0)\tInside=True]}\n",
      "planes:1{\n",
      "[0:\tOrigin=(0.0, 0.0, 0.0)\tNormal=(1.0, 0.0, 0.0)\tInside=True]}\n",
      "Wall_Data_Sturucture:\n",
      "spheres:1{\n",
      "[0:\tRadius=5.0\tOrigin=(0.0, 0.0, 1.0)\tInside=True]}\n",
      "cylinders:0{}\n",
      "planes:1{\n",
      "[0:\tOrigin=(3.0, 0.0, 0.0)\tNormal=(-1.0, 0.0, 0.0)\tInside=True]}\n",
      "Wall_Data_Sturucture:\n",
      "spheres:1{\n",
      "[0:\tRadius=5.0\tOrigin=(0.0, 0.0, 1.0)\tInside=True]}\n",
      "cylinders:0{}\n",
      "planes:1{\n",
      "[0:\tOrigin=(-3.0, 0.0, 0.0)\tNormal=(1.0, 0.0, 0.0)\tInside=True]}\n"
     ]
    }
   ],
   "source": [
    "# One line initialization\n",
    "one_line_walls=wall.group(wall.sphere(r=3,origin=(0,0,0)),wall.cylinder(r=2.5,axis=(0,0,1),inside=True), wall.plane(normal=(1,0,0)))\n",
    "print(one_line_walls)\n",
    "full_wall_object=wall.group([wall.sphere()]*20,[wall.cylinder()]*20,[wall.plane()]*60)\n",
    "# Sharing wall group elements and access by reference\n",
    "common_sphere=wall.sphere()\n",
    "linked_walls1=wall.group(common_sphere,wall.plane(origin=(3,0,0),normal=(-1,0,0)))\n",
    "linked_walls2=wall.group(common_sphere,wall.plane(origin=(-3,0,0),normal=(1,0,0)))\n",
    "common_sphere.r=5.0\n",
    "linked_walls1.spheres[0].origin=(0,0,1)\n",
    "print(linked_walls1)\n",
    "print(linked_walls2)"
   ]
  },
  {
   "cell_type": "code",
   "execution_count": 6,
   "metadata": {},
   "outputs": [
    {
     "name": "stderr",
     "output_type": "stream",
     "text": [
      "**ERROR**: Cannot create force before initialization\n"
     ]
    },
    {
     "ename": "RuntimeError",
     "evalue": "Error creating force",
     "output_type": "error",
     "traceback": [
      "\u001b[0;31m---------------------------------------------------------------------------\u001b[0m",
      "\u001b[0;31mRuntimeError\u001b[0m                              Traceback (most recent call last)",
      "\u001b[0;32m<ipython-input-6-e3523fc2de7e>\u001b[0m in \u001b[0;36m<module>\u001b[0;34m()\u001b[0m\n\u001b[1;32m      1\u001b[0m \u001b[0mwalls\u001b[0m\u001b[0;34m=\u001b[0m\u001b[0mwall\u001b[0m\u001b[0;34m.\u001b[0m\u001b[0mgroup\u001b[0m\u001b[0;34m(\u001b[0m\u001b[0;34m)\u001b[0m\u001b[0;34m\u001b[0m\u001b[0m\n\u001b[1;32m      2\u001b[0m \u001b[0;31m#add walls\u001b[0m\u001b[0;34m\u001b[0m\u001b[0;34m\u001b[0m\u001b[0m\n\u001b[0;32m----> 3\u001b[0;31m \u001b[0mlj\u001b[0m\u001b[0;34m=\u001b[0m\u001b[0mwall\u001b[0m\u001b[0;34m.\u001b[0m\u001b[0mlj\u001b[0m\u001b[0;34m(\u001b[0m\u001b[0mwalls\u001b[0m\u001b[0;34m,\u001b[0m \u001b[0mr_cut\u001b[0m\u001b[0;34m=\u001b[0m\u001b[0;36m3.0\u001b[0m\u001b[0;34m)\u001b[0m\u001b[0;34m\u001b[0m\u001b[0m\n\u001b[0m\u001b[1;32m      4\u001b[0m \u001b[0mlj\u001b[0m\u001b[0;34m.\u001b[0m\u001b[0mforce_coeff\u001b[0m\u001b[0;34m.\u001b[0m\u001b[0mset\u001b[0m\u001b[0;34m(\u001b[0m\u001b[0;34m'A'\u001b[0m\u001b[0;34m,\u001b[0m \u001b[0msigma\u001b[0m\u001b[0;34m=\u001b[0m\u001b[0;36m1.0\u001b[0m\u001b[0;34m,\u001b[0m\u001b[0mepsilon\u001b[0m\u001b[0;34m=\u001b[0m\u001b[0;36m1.0\u001b[0m\u001b[0;34m)\u001b[0m  \u001b[0;31m#plotted below in red\u001b[0m\u001b[0;34m\u001b[0m\u001b[0m\n\u001b[1;32m      5\u001b[0m \u001b[0mlj\u001b[0m\u001b[0;34m.\u001b[0m\u001b[0mforce_coeff\u001b[0m\u001b[0;34m.\u001b[0m\u001b[0mset\u001b[0m\u001b[0;34m(\u001b[0m\u001b[0;34m'B'\u001b[0m\u001b[0;34m,\u001b[0m \u001b[0msigma\u001b[0m\u001b[0;34m=\u001b[0m\u001b[0;36m1.0\u001b[0m\u001b[0;34m,\u001b[0m\u001b[0mepsilon\u001b[0m\u001b[0;34m=\u001b[0m\u001b[0;36m1.0\u001b[0m\u001b[0;34m,\u001b[0m \u001b[0mr_cut\u001b[0m\u001b[0;34m=\u001b[0m\u001b[0;36m2.0\u001b[0m\u001b[0;34m**\u001b[0m\u001b[0;34m(\u001b[0m\u001b[0;36m1.0\u001b[0m\u001b[0;34m/\u001b[0m\u001b[0;36m2.0\u001b[0m\u001b[0;34m)\u001b[0m\u001b[0;34m)\u001b[0m\u001b[0;34m\u001b[0m\u001b[0m\n",
      "\u001b[0;32m/home/mattferguson/miniconda2/lib/python2.7/site-packages/hoomd/md/wall.pyc\u001b[0m in \u001b[0;36m__init__\u001b[0;34m(self, walls, r_cut, name)\u001b[0m\n\u001b[1;32m    672\u001b[0m \u001b[0;34m\u001b[0m\u001b[0m\n\u001b[1;32m    673\u001b[0m         \u001b[0;31m# initialize the base class\u001b[0m\u001b[0;34m\u001b[0m\u001b[0;34m\u001b[0m\u001b[0m\n\u001b[0;32m--> 674\u001b[0;31m         \u001b[0mwallpotential\u001b[0m\u001b[0;34m.\u001b[0m\u001b[0m__init__\u001b[0m\u001b[0;34m(\u001b[0m\u001b[0mself\u001b[0m\u001b[0;34m,\u001b[0m \u001b[0mwalls\u001b[0m\u001b[0;34m,\u001b[0m \u001b[0mr_cut\u001b[0m\u001b[0;34m,\u001b[0m \u001b[0mname\u001b[0m\u001b[0;34m)\u001b[0m\u001b[0;34m;\u001b[0m\u001b[0;34m\u001b[0m\u001b[0m\n\u001b[0m\u001b[1;32m    675\u001b[0m \u001b[0;34m\u001b[0m\u001b[0m\n\u001b[1;32m    676\u001b[0m         \u001b[0;31m# create the c++ mirror class\u001b[0m\u001b[0;34m\u001b[0m\u001b[0;34m\u001b[0m\u001b[0m\n",
      "\u001b[0;32m/home/mattferguson/miniconda2/lib/python2.7/site-packages/hoomd/md/wall.pyc\u001b[0m in \u001b[0;36m__init__\u001b[0;34m(self, walls, r_cut, name)\u001b[0m\n\u001b[1;32m    597\u001b[0m     \"\"\"\n\u001b[1;32m    598\u001b[0m     \u001b[0;32mdef\u001b[0m \u001b[0m__init__\u001b[0m\u001b[0;34m(\u001b[0m\u001b[0mself\u001b[0m\u001b[0;34m,\u001b[0m \u001b[0mwalls\u001b[0m\u001b[0;34m,\u001b[0m \u001b[0mr_cut\u001b[0m\u001b[0;34m,\u001b[0m \u001b[0mname\u001b[0m\u001b[0;34m=\u001b[0m\u001b[0;34m\"\"\u001b[0m\u001b[0;34m)\u001b[0m\u001b[0;34m:\u001b[0m\u001b[0;34m\u001b[0m\u001b[0m\n\u001b[0;32m--> 599\u001b[0;31m         \u001b[0mexternal\u001b[0m\u001b[0;34m.\u001b[0m\u001b[0m_external_force\u001b[0m\u001b[0;34m.\u001b[0m\u001b[0m__init__\u001b[0m\u001b[0;34m(\u001b[0m\u001b[0mself\u001b[0m\u001b[0;34m,\u001b[0m \u001b[0mname\u001b[0m\u001b[0;34m)\u001b[0m\u001b[0;34m;\u001b[0m\u001b[0;34m\u001b[0m\u001b[0m\n\u001b[0m\u001b[1;32m    600\u001b[0m         \u001b[0mself\u001b[0m\u001b[0;34m.\u001b[0m\u001b[0mfield_coeff\u001b[0m \u001b[0;34m=\u001b[0m \u001b[0mwalls\u001b[0m\u001b[0;34m;\u001b[0m\u001b[0;34m\u001b[0m\u001b[0m\n\u001b[1;32m    601\u001b[0m         \u001b[0mself\u001b[0m\u001b[0;34m.\u001b[0m\u001b[0mrequired_coeffs\u001b[0m \u001b[0;34m=\u001b[0m \u001b[0;34m[\u001b[0m\u001b[0;34m\"r_cut\"\u001b[0m\u001b[0;34m,\u001b[0m \u001b[0;34m\"r_extrap\"\u001b[0m\u001b[0;34m]\u001b[0m\u001b[0;34m;\u001b[0m\u001b[0;34m\u001b[0m\u001b[0m\n",
      "\u001b[0;32m/home/mattferguson/miniconda2/lib/python2.7/site-packages/hoomd/md/external.pyc\u001b[0m in \u001b[0;36m__init__\u001b[0;34m(self, name)\u001b[0m\n\u001b[1;32m    200\u001b[0m     \u001b[0;32mdef\u001b[0m \u001b[0m__init__\u001b[0m\u001b[0;34m(\u001b[0m\u001b[0mself\u001b[0m\u001b[0;34m,\u001b[0m \u001b[0mname\u001b[0m\u001b[0;34m=\u001b[0m\u001b[0;34m\"\"\u001b[0m\u001b[0;34m)\u001b[0m\u001b[0;34m:\u001b[0m\u001b[0;34m\u001b[0m\u001b[0m\n\u001b[1;32m    201\u001b[0m         \u001b[0;31m# initialize the base class\u001b[0m\u001b[0;34m\u001b[0m\u001b[0;34m\u001b[0m\u001b[0m\n\u001b[0;32m--> 202\u001b[0;31m         \u001b[0mforce\u001b[0m\u001b[0;34m.\u001b[0m\u001b[0m_force\u001b[0m\u001b[0;34m.\u001b[0m\u001b[0m__init__\u001b[0m\u001b[0;34m(\u001b[0m\u001b[0mself\u001b[0m\u001b[0;34m,\u001b[0m \u001b[0mname\u001b[0m\u001b[0;34m)\u001b[0m\u001b[0;34m;\u001b[0m\u001b[0;34m\u001b[0m\u001b[0m\n\u001b[0m\u001b[1;32m    203\u001b[0m \u001b[0;34m\u001b[0m\u001b[0m\n\u001b[1;32m    204\u001b[0m         \u001b[0mself\u001b[0m\u001b[0;34m.\u001b[0m\u001b[0mcpp_force\u001b[0m \u001b[0;34m=\u001b[0m \u001b[0mNone\u001b[0m\u001b[0;34m;\u001b[0m\u001b[0;34m\u001b[0m\u001b[0m\n",
      "\u001b[0;32m/home/mattferguson/miniconda2/lib/python2.7/site-packages/hoomd/md/force.pyc\u001b[0m in \u001b[0;36m__init__\u001b[0;34m(self, name)\u001b[0m\n\u001b[1;32m     33\u001b[0m         \u001b[0;32mif\u001b[0m \u001b[0;32mnot\u001b[0m \u001b[0mhoomd\u001b[0m\u001b[0;34m.\u001b[0m\u001b[0minit\u001b[0m\u001b[0;34m.\u001b[0m\u001b[0mis_initialized\u001b[0m\u001b[0;34m(\u001b[0m\u001b[0;34m)\u001b[0m\u001b[0;34m:\u001b[0m\u001b[0;34m\u001b[0m\u001b[0m\n\u001b[1;32m     34\u001b[0m             \u001b[0mhoomd\u001b[0m\u001b[0;34m.\u001b[0m\u001b[0mcontext\u001b[0m\u001b[0;34m.\u001b[0m\u001b[0mmsg\u001b[0m\u001b[0;34m.\u001b[0m\u001b[0merror\u001b[0m\u001b[0;34m(\u001b[0m\u001b[0;34m\"Cannot create force before initialization\\n\"\u001b[0m\u001b[0;34m)\u001b[0m\u001b[0;34m;\u001b[0m\u001b[0;34m\u001b[0m\u001b[0m\n\u001b[0;32m---> 35\u001b[0;31m             \u001b[0;32mraise\u001b[0m \u001b[0mRuntimeError\u001b[0m\u001b[0;34m(\u001b[0m\u001b[0;34m'Error creating force'\u001b[0m\u001b[0;34m)\u001b[0m\u001b[0;34m;\u001b[0m\u001b[0;34m\u001b[0m\u001b[0m\n\u001b[0m\u001b[1;32m     36\u001b[0m \u001b[0;34m\u001b[0m\u001b[0m\n\u001b[1;32m     37\u001b[0m         \u001b[0;31m# Allow force to store a name.  Used for discombobulation in the logger\u001b[0m\u001b[0;34m\u001b[0m\u001b[0;34m\u001b[0m\u001b[0m\n",
      "\u001b[0;31mRuntimeError\u001b[0m: Error creating force"
     ]
    }
   ],
   "source": [
    "walls=wall.group()\n",
    "#add walls\n",
    "lj=wall.lj(walls, r_cut=3.0)\n",
    "lj.force_coeff.set('A', sigma=1.0,epsilon=1.0)  #plotted below in red\n",
    "lj.force_coeff.set('B', sigma=1.0,epsilon=1.0, r_cut=2.0**(1.0/2.0))\n",
    "lj.force_coeff.set(['A','B'], epsilon=2.0, sigma=1.0, alpha=1.0, r_cut=3.0)"
   ]
  }
 ],
 "metadata": {
  "kernelspec": {
   "display_name": "Python 2",
   "language": "python",
   "name": "python2"
  },
  "language_info": {
   "codemirror_mode": {
    "name": "ipython",
    "version": 2
   },
   "file_extension": ".py",
   "mimetype": "text/x-python",
   "name": "python",
   "nbconvert_exporter": "python",
   "pygments_lexer": "ipython2",
   "version": "2.7.14"
  }
 },
 "nbformat": 4,
 "nbformat_minor": 2
}
