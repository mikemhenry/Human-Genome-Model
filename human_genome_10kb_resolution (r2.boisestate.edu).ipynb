{
 "cells": [
  {
   "cell_type": "markdown",
   "metadata": {},
   "source": [
    "# A Model for the Human Genome\n",
    "This example shows a simple simulation of 24 block copolymers that is a potential model of the Human Genome in hoomdd.\n",
    "\n",
    "The human genome consists of 24 chromosomes with a total size of 3Gb.  Aiden et al. 2014 produced a 1kB resolution (below single gene resolution) Genome Contact Map.  Contact domains (∼185 kb) segregate into six nuclear subcompartments with distinct histone marks.\n",
    "This can be reproduced phenomenologically with this simple block copolymer model.\n",
    "\n",
    "from: https://lost-contact.mit.edu/afs//umich.edu/user/j/o/joaander/Public/hoomd-web/doc/page_example_scripts.html\n",
    "\n",
    "## Initialize\n",
    "First import hoomd and associated libraries and then initialize.  If no mode is given then the fastest processor cpu or gpu will be selected automatically."
   ]
  },
  {
   "cell_type": "code",
   "execution_count": null,
   "metadata": {
    "collapsed": true
   },
   "outputs": [],
   "source": []
  },
  {
   "cell_type": "code",
   "execution_count": 1,
   "metadata": {
    "scrolled": false
   },
   "outputs": [
    {
     "name": "stdout",
     "output_type": "stream",
     "text": [
      "HOOMD-blue 2.2.4-unknown CUDA (8.0) DOUBLE HPMC_MIXED SSE SSE2 SSE3 SSE4_1 SSE4_2 AVX AVX2 \n",
      "Compiled: 03/11/2018\n",
      "Copyright 2009-2017 The Regents of the University of Michigan.\n",
      "-----\n",
      "You are using HOOMD-blue. Please cite the following:\n",
      "* J A Anderson, C D Lorenz, and A Travesset. \"General purpose molecular dynamics\n",
      "  simulations fully implemented on graphics processing units\", Journal of\n",
      "  Computational Physics 227 (2008) 5342--5359\n",
      "* J Glaser, T D Nguyen, J A Anderson, P Liu, F Spiga, J A Millan, D C Morse, and\n",
      "  S C Glotzer. \"Strong scaling of general-purpose molecular dynamics simulations\n",
      "  on GPUs\", Computer Physics Communications 192 (2015) 97--107\n",
      "-----\n",
      "notice(2): This system is not compute exclusive, using local rank to select GPUs\n",
      "HOOMD-blue is running on the following GPU(s):\n",
      " [0]   GeForce GTX 1050 Ti   6 SM_6.1 @ 1.39 GHz, 4095 MiB DRAM, DIS\n"
     ]
    }
   ],
   "source": [
    "#import hoomd\n",
    "import hoomd.md\n",
    "from hoomd import *\n",
    "from hoomd.deprecated import *\n",
    "#context.initialize(\"--mode=cpu\");\n",
    "context.initialize(\"--mode=gpu\");"
   ]
  },
  {
   "cell_type": "markdown",
   "metadata": {},
   "source": [
    "## Import other libraries and define parameters\n",
    "\n",
    "The human genome has 24 chromasomes."
   ]
  },
  {
   "cell_type": "code",
   "execution_count": 2,
   "metadata": {
    "collapsed": true
   },
   "outputs": [],
   "source": [
    "import math\n",
    "# parameters\n",
    "phi_P = 0.25\n",
    "n_poly = 24"
   ]
  },
  {
   "cell_type": "markdown",
   "metadata": {},
   "source": [
    "## Define the polymer\n",
    "The average length of a human chromosome is 133 Mb"
   ]
  },
  {
   "cell_type": "code",
   "execution_count": 3,
   "metadata": {},
   "outputs": [
    {
     "data": {
      "text/plain": [
       "133"
      ]
     },
     "execution_count": 3,
     "metadata": {},
     "output_type": "execute_result"
    }
   ],
   "source": [
    "3200/24 #Mb"
   ]
  },
  {
   "cell_type": "markdown",
   "metadata": {},
   "source": [
    "So if we assume that Euchromatin makes up 60% of the genome and heterochromatin makes up 40% then a block copolymer of 10000 beads would have a resolution of approximately 13 kb/bead the average size of a human gene.  This would correspond to approximately 18 beads per enhancer promoter loop."
   ]
  },
  {
   "cell_type": "code",
   "execution_count": 5,
   "metadata": {},
   "outputs": [
    {
     "name": "stdout",
     "output_type": "stream",
     "text": [
      "notice(2): Group \"all\" created containing 240000 particles\n"
     ]
    },
    {
     "data": {
      "text/plain": [
       "<hoomd.data.system_data at 0x10ba2b050>"
      ]
     },
     "execution_count": 5,
     "metadata": {},
     "output_type": "execute_result"
    }
   ],
   "source": [
    "#polymer1 = dict(bond_len=1.2, type=['A']*300 + ['B']*400 + ['A']*300,bond=\"linear\", count=n_poly)\n",
    "polymer1 = dict(bond_len=1.2, type=['A']*3000 + ['B']*4000 + ['A']*3000,bond=\"linear\", count=n_poly)\n",
    "# perform some simple math to find the length of the box\n",
    "N = len(polymer1['type']) * polymer1['count']\n",
    "# generate the polymer system\n",
    "init.create_random_polymers(box=data.boxdim(volume=10*math.pi * N / (6.0 * phi_P)), polymers=[polymer1],separation=dict(A=0.35, B=0.35),seed=12)\n"
   ]
  },
  {
   "cell_type": "markdown",
   "metadata": {},
   "source": [
    "## Setup the bonds and force fields"
   ]
  },
  {
   "cell_type": "code",
   "execution_count": 6,
   "metadata": {
    "collapsed": true
   },
   "outputs": [],
   "source": [
    "# force field setup\n",
    "harmonic = hoomd.md.bond.harmonic()\n",
    "harmonic.bond_coeff.set('polymer', k=330.0, r0=0.84)\n",
    "nl = hoomd.md.nlist.cell();\n",
    "lj = hoomd.md.pair.lj(r_cut=3.0,nlist=nl)\n",
    "\n",
    "lj.pair_coeff.set('A', 'A', epsilon=1.0, sigma=1.0, alpha=0.0,r_cut=2**(1.0/6.0))\n",
    "lj.pair_coeff.set('A', 'B', epsilon=1.0, sigma=1.0, alpha=0.0,r_cut=2**(1.0/6.0))\n",
    "lj.pair_coeff.set('B', 'B', epsilon=1.0, sigma=1.0, alpha=1.0,r_cut=3.0)\n",
    "lj.set_params(mode='shift')\n",
    "                  \n"
   ]
  },
  {
   "cell_type": "markdown",
   "metadata": {},
   "source": [
    "## Integrate the simulation"
   ]
  },
  {
   "cell_type": "code",
   "execution_count": 7,
   "metadata": {},
   "outputs": [
    {
     "data": {
      "text/plain": [
       "<hoomd.md.integrate.nvt at 0x11c966f10>"
      ]
     },
     "execution_count": 7,
     "metadata": {},
     "output_type": "execute_result"
    }
   ],
   "source": [
    "all = group.all()\n",
    "# integrate NVT for a bunch of time steps\n",
    "hoomd.md.integrate.mode_standard(dt=0.005)\n",
    "hoomd.md.integrate.nvt(group=all, kT=1.2, tau=0.5)\n",
    "#hoomd.md.integrate.brownian(group=all, kT=1.2, seed=1)"
   ]
  },
  {
   "cell_type": "markdown",
   "metadata": {},
   "source": [
    "The results of this example may be visualized with VMD which can be installed from here: http://www.ks.uiuc.edu/Research/vmd/"
   ]
  },
  {
   "cell_type": "code",
   "execution_count": null,
   "metadata": {},
   "outputs": [
    {
     "name": "stdout",
     "output_type": "stream",
     "text": [
      "notice(2): -- Neighborlist exclusion statistics -- :\n",
      "notice(2): Particles with 1 exclusions             : 48\n",
      "notice(2): Particles with 2 exclusions             : 239952\n",
      "notice(2): Neighbors included by diameter          : no\n",
      "notice(2): Neighbors excluded when in the same body: no\n",
      "** starting run **\n",
      "notice(2): analyze.imd: listening on port 54321\n",
      "Time 00:01:17 | Step 509 / 1000000 | TPS 50.8886 | ETA 05:27:20\n",
      "Time 00:01:27 | Step 872 / 1000000 | TPS 36.2858 | ETA 07:38:54\n",
      "Time 00:01:37 | Step 1401 / 1000000 | TPS 52.8447 | ETA 05:14:56\n",
      "Time 00:01:47 | Step 1971 / 1000000 | TPS 56.9455 | ETA 04:52:06\n",
      "Time 00:01:57 | Step 2508 / 1000000 | TPS 53.5007 | ETA 05:10:44\n",
      "notice(2): analyze.imd: accepted connection\n",
      "Time 00:02:08 | Step 3026 / "
     ]
    },
    {
     "name": "stderr",
     "output_type": "stream",
     "text": [
      "**ERROR**: "
     ]
    },
    {
     "name": "stdout",
     "output_type": "stream",
     "text": [
      "1000000 | TPS 51.5442 | ETA 05:22:22\n",
      "Time 00:02:18 | Step 3493 / 1000000 | TPS 46.6726 | ETA 05:55:50\n",
      "Time 00:02:28 | Step 3936 / 1000000 | TPS 44.2787 | ETA 06:14:55\n",
      "Time 00:02:38 | Step 4386 / 1000000 | TPS 44.8438 | ETA 06:10:01\n",
      "Time 00:02:48 | Step 4824 / 1000000 | TPS 43.7708 | ETA 06:18:56\n",
      "Time 00:02:58 | Step 5337 / 1000000 | TPS 51.2616 | ETA 05:23:23\n",
      "Time 00:03:08 | Step 5870 / 1000000 | TPS 53.1044 | ETA 05:12:00\n",
      "Time 00:03:18 | Step 6395 / 1000000 | TPS 52.441 | ETA 05:15:47\n",
      "Time 00:03:28 | Step 6910 / 1000000 | TPS 51.4536 | ETA 05:21:40\n",
      "Time 00:03:38 | Step 7421 / 1000000 | TPS 50.9075 | ETA 05:24:57\n",
      "Time 00:03:48 | Step 7925 / 1000000 | TPS 50.3913 | ETA 05:28:07\n",
      "Time 00:03:58 | Step 8421 / 1000000 | TPS 49.4118 | ETA 05:34:27\n",
      "Time 00:04:08 | Step 8907 / 1000000 | TPS 48.5599 | ETA 05:40:09\n",
      "Time 00:04:18 | Step 9388 / 1000000 | TPS 48.0685 | ETA 05:43:28\n",
      "Time 00:04:28 | Step 9868 / 1000000 | TPS 47.9683 | ETA 05:44:01\n",
      "Time 00:04:38 | Step 10341 / 1000000 | TPS 47.2142 | ETA 05:49:21\n",
      "Time 00:04:48 | Step 10812 / 1000000 | TPS 47.0739 | ETA 05:50:13\n",
      "Time 00:04:58 | Step 1128"
     ]
    }
   ],
   "source": [
    "#hoomd.dump.gsd(filename=\"hum_gen_24x1000.gsd\", overwrite=True, period=None, group=group.all(), time_step=0)\n",
    "hoomd.dump.gsd(\"hum_gen_24x10000_0.gsd\", period=None, group=all, overwrite=True, time_step=0);\n",
    "# setup the IMD server\n",
    "hoomd.analyze.imd(port=54321, period=100)\n",
    "# run a very long time so the simulation can be watched in VMD\n",
    "run(1e6)"
   ]
  },
  {
   "cell_type": "markdown",
   "metadata": {},
   "source": [
    "The results of this example may be visualized with VMD which can be installed from here: http://www.ks.uiuc.edu/Research/vmd/\n",
    "\n",
    "While running must execute the following command in a terminal:"
   ]
  },
  {
   "cell_type": "code",
   "execution_count": 2,
   "metadata": {},
   "outputs": [
    {
     "name": "stdout",
     "output_type": "stream",
     "text": [
      "mol load gsd hum_gen_24x10000.gsd\r\n",
      "set sel [atomselect top all]\r\n",
      "$sel set radius 0\r\n",
      "#imd connect localhost 54321\r\n"
     ]
    }
   ],
   "source": [
    "#vmd -e imd4.vmd\n",
    "!cat imd4.vmd"
   ]
  },
  {
   "cell_type": "markdown",
   "metadata": {},
   "source": [
    "## GPU cluster\n",
    "We happen to have a high performance computing cluster on campus with 5 NVIDIA P100 GPU's.  In order to take advantage of them we need simply need to have an account and to have a little extra knowledge about how to use an HPC cluster.\n",
    "\n",
    "R2 is a heterogeneous compute cluster provided by the BSU Office of Research. It consists of 26 compute nodes and 5 GPU nodes, each with dual Intel Xeon E5-2680 CPUs. The GPU nodes each have dual Nvidia P100 GPUs.  More information about the cluster, how to gain access to it and how to use it can be found here: https://rcs.boisestate.edu/r2/\n",
    "\n",
    "While it is probably possible to use an ipython notebook on a server (see fast.ai for an example).  We will reduce our python code to a script shown below."
   ]
  },
  {
   "cell_type": "code",
   "execution_count": 3,
   "metadata": {},
   "outputs": [
    {
     "name": "stdout",
     "output_type": "stream",
     "text": [
      "import hoomd\r\n",
      "import hoomd.md\r\n",
      "from hoomd.deprecated import *\r\n",
      "\r\n",
      "hoomd.context.initialize(\"\");\r\n",
      "import math\r\n",
      "# parameters\r\n",
      "phi_P = 0.25\r\n",
      "n_poly = 24\r\n",
      "T = 1.2\r\n",
      "polymer1 = dict(bond_len=1.2, type=['A']*3000 + ['B']*4000 + ['A']*3000,bond=\"linear\", count=n_poly)\r\n",
      "# perform some simple math to find the length of the box\r\n",
      "N = len(polymer1['type']) * polymer1['count']\r\n",
      "# generate the polymer system\r\n",
      "init.create_random_polymers(box=hoomd.data.boxdim(volume=10*math.pi * N / (6.0 * phi_P)), polymers=[polymer1],separation=dict(A=0.35, B=0.35),seed=12)\r\n",
      "# force field setup\r\n",
      "harmonic = hoomd.md.bond.harmonic()\r\n",
      "harmonic.bond_coeff.set('polymer', k=330.0, r0=0.84)\r\n",
      "nl = hoomd.md.nlist.cell();\r\n",
      "lj = hoomd.md.pair.lj(r_cut=3.0,nlist=nl)\r\n",
      "lj.pair_coeff.set('A', 'A', epsilon=1.0, sigma=1.0, alpha=0.0,r_cut=2**(1.0/6.0))\r\n",
      "lj.pair_coeff.set('A', 'B', epsilon=1.0, sigma=1.0, alpha=0.0,r_cut=2**(1.0/6.0))\r\n",
      "lj.pair_coeff.set('B', 'B', epsilon=1.0, sigma=1.0, alpha=1.0)\r\n",
      "all = hoomd.group.all()\r\n",
      "hoomd.dump.gsd(\"/home/mferguson/scratch/hum_gen_24x10000.gsd\", period=1000, group=all, overwrite=True);\r\n",
      "#hoomd.analyze.imd(port=54321, period=10000)\r\n",
      "# integrate NVT for a bunch of time steps\r\n",
      "hoomd.md.integrate.mode_standard(dt=0.005)\r\n",
      "hoomd.md.integrate.nvt(group=all, kT=1.2, tau=0.5)\r\n",
      "#run(2000)\r\n",
      "# uncomment the next run() command if you have a few hours to spare\r\n",
      "# running this on a GPU the resulting dump files should show the\r\n",
      "# polymers self-assembling into the hex phase\r\n",
      "hoomd.run(1e5)\r\n"
     ]
    }
   ],
   "source": [
    "!cat hum_gen.py"
   ]
  },
  {
   "cell_type": "markdown",
   "metadata": {},
   "source": [
    "## SLURM and how to run jobs\n",
    "In addition to the python script we need also to have shell script that identifies how many and which nodes to use.  More information about the SLURM scheduler and how to use it can be found here: https://slurm.schedmd.com/quickstart.html\n",
    "and here: \n",
    "https://www.rc.fas.harvard.edu/resources/documentation/convenient-slurm-commands/\n",
    "\n",
    "Some useful commands are:\n",
    "sinfo\n",
    "squeue\n",
    "scancel\n",
    "\n",
    "to start our job type:\n",
    ">sbatch hum_gen.bash\n",
    "\n",
    "progress can be followed by typing \n",
    ">cat logs/gpu-job-*.o"
   ]
  },
  {
   "cell_type": "code",
   "execution_count": 4,
   "metadata": {},
   "outputs": [
    {
     "name": "stdout",
     "output_type": "stream",
     "text": [
      "#!/bin/bash\r\n",
      "#SBATCH --mail-user=mattferguson@boisestate.edu\r\n",
      "#SBATCH --mail-type=ALL\t#This can be set to all, end, or other options\r\n",
      "#SBATCH --nodes=1\r\n",
      "#SBATCH --ntasks=1\r\n",
      "#SBATCH --time=24:00:00         # 24 hours \r\n",
      "#SBATCH --output=logs/gpu-job-%j.o      # output file\r\n",
      "#SBATCH --error=logs/gpu-job-%j.e       # error file\r\n",
      "#SBATCH --partition=gpuq          # GPU partition\r\n",
      "#SBATCH --gres=gpu:1            # single GPU job\r\n",
      "\r\n",
      "ulimit -u 9999\r\n",
      "ulimit -s unlimited\r\n",
      "ulimit -v unlimited\r\n",
      "\r\n",
      "\r\n",
      "module load hoomd-blue/gcc/mvapich2/2.1.5\r\n",
      "\r\n",
      "mpirun python hum_gen.py\r\n"
     ]
    }
   ],
   "source": [
    "!cat hum_gen.bash"
   ]
  },
  {
   "cell_type": "code",
   "execution_count": null,
   "metadata": {
    "collapsed": true
   },
   "outputs": [],
   "source": []
  }
 ],
 "metadata": {
  "kernelspec": {
   "display_name": "Python 2",
   "language": "python",
   "name": "python2"
  },
  "language_info": {
   "codemirror_mode": {
    "name": "ipython",
    "version": 2
   },
   "file_extension": ".py",
   "mimetype": "text/x-python",
   "name": "python",
   "nbconvert_exporter": "python",
   "pygments_lexer": "ipython2",
   "version": "2.7.11"
  }
 },
 "nbformat": 4,
 "nbformat_minor": 2
}
