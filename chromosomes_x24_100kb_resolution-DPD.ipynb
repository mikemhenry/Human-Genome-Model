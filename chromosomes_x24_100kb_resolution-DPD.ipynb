{
 "cells": [
  {
   "cell_type": "markdown",
   "metadata": {},
   "source": [
    "# A Model for the Human Chromosome\n",
    "This example shows a simple simulation of a single block copolymer that is a potential model of the Human Chromosome in hoomdd.\n",
    "\n",
    "The human genome consists of 24 chromosomes with a total size of 3Gb.  Aiden et al. 2014 produced a 1kB resolution (below single gene resolution) Genome Contact Map.  Contact domains (∼185 kb) segregate into six nuclear subcompartments with distinct histone marks.\n",
    "This can be reproduced phenomenologically with this simple block copolymer model.\n",
    "\n",
    "from: https://lost-contact.mit.edu/afs//umich.edu/user/j/o/joaander/Public/hoomd-web/doc/page_example_scripts.html\n",
    "\n",
    "## Initialize\n",
    "First import hoomd and associated libraries and then initialize.  If no mode is given then the fastest processor cpu or gpu will be selected automatically."
   ]
  },
  {
   "cell_type": "code",
   "execution_count": 1,
   "metadata": {
    "scrolled": false
   },
   "outputs": [
    {
     "name": "stdout",
     "output_type": "stream",
     "text": [
      "HOOMD-blue v2.2.2-29-g1e86eec CUDA (8.0) DOUBLE HPMC_MIXED MPI SSE SSE2 \n",
      "Compiled: 01/29/18\n",
      "Copyright 2009-2017 The Regents of the University of Michigan.\n",
      "-----\n",
      "You are using HOOMD-blue. Please cite the following:\n",
      "* J A Anderson, C D Lorenz, and A Travesset. \"General purpose molecular dynamics\n",
      "  simulations fully implemented on graphics processing units\", Journal of\n",
      "  Computational Physics 227 (2008) 5342--5359\n",
      "* J Glaser, T D Nguyen, J A Anderson, P Liu, F Spiga, J A Millan, D C Morse, and\n",
      "  S C Glotzer. \"Strong scaling of general-purpose molecular dynamics simulations\n",
      "  on GPUs\", Computer Physics Communications 192 (2015) 97--107\n",
      "-----\n",
      "notice(2): This system is not compute exclusive, using local rank to select GPUs\n",
      "notice(2): Unable to identify node local rank information\n",
      "notice(2): Using global rank to select GPUs\n",
      "HOOMD-blue is running on the following GPU(s):\n",
      " [0]  GeForce GTX 1060 6GB  10 SM_6.1 @ 1.84 GHz, 6075 MiB DRAM, DIS\n"
     ]
    }
   ],
   "source": [
    "#import hoomd\n",
    "import hoomd.md\n",
    "from hoomd import *\n",
    "from hoomd.deprecated import *\n",
    "context.initialize(\"\");\n",
    "#context.initialize(\"--mode=cpu\");\n",
    "#context.initialize(\"--mode=gpu\");"
   ]
  },
  {
   "cell_type": "markdown",
   "metadata": {},
   "source": [
    "## Import other libraries and define parameters\n",
    "\n",
    "The human genome has 24 chromasomes but for now we will simulate a single chromosome."
   ]
  },
  {
   "cell_type": "code",
   "execution_count": 2,
   "metadata": {},
   "outputs": [],
   "source": [
    "import math\n",
    "# parameters\n",
    "phi_P = 0.25\n",
    "n_poly=1"
   ]
  },
  {
   "cell_type": "markdown",
   "metadata": {},
   "source": [
    "## Define the polymer\n",
    "The average length of a human chromosome is 133 Mb"
   ]
  },
  {
   "cell_type": "code",
   "execution_count": 3,
   "metadata": {},
   "outputs": [
    {
     "name": "stdout",
     "output_type": "stream",
     "text": [
      "c=0.35, d=0.35, e=0.35, f=0.35, g=0.35, h=0.35, i=0.35, j=0.35, k=0.35, l=0.35, m=0.35, n=0.35, o=0.35, p=0.35, q=0.35, u=0.35, r=0.35, s=0.35, t=0.35, u=0.35, v=0.35, w=0.35, x=0.35, y=0.35\n"
     ]
    }
   ],
   "source": [
    "import numpy as np\n",
    "genome_size=3079843747\n",
    "NChr=24 #Mb\n",
    "Nbeads=genome_size/100000\n",
    "#chromosome=np.linspace(1,Nchromosomes,Nchromosomes,dtype=intp).tolist()\n",
    "chromosome_size=np.fix(np.r_[8,7.9,6.5,6.2,5.9,5.5,5.2,4.7,4.6,4.4,4.4,4.3,3.7,3.5,3.3,2.9,2.6,2.5,2.1,2.0,1.5,1.6,5.0,1.9]/100.0*Nbeads)\n",
    "chromosome=list('cdefghijklmnopqurstuvwxy')\n",
    "separation_radius='=0.35, '.join(chromosome[:NChr])+'=0.35'\n",
    "print separation_radius\n",
    "separation_radius=dict(c=0.35, d=0.35, e=0.35, f=0.35, g=0.35, h=0.35, i=0.35, j=0.35, k=0.35, l=0.35, m=0.35, n=0.35, o=0.35, p=0.35, q=0.35, u=0.35, r=0.35, s=0.35, t=0.35)\n",
    "separation_radius.update(dict(u=0.35, v=0.35, w=0.35, x=0.35, y=0.35))"
   ]
  },
  {
   "cell_type": "markdown",
   "metadata": {},
   "source": [
    "So if we assume that Euchromatin makes up 60% of the genome and heterochromatin makes up 40% then a block copolymer of 10000 beads would have a resolution of approximately 13 kb/bead the average size of a human gene.  This would correspond to approximately 18 beads per enhancer promoter loop."
   ]
  },
  {
   "cell_type": "code",
   "execution_count": 4,
   "metadata": {},
   "outputs": [
    {
     "name": "stdout",
     "output_type": "stream",
     "text": [
      "notice(2): Group \"all\" created containing 30846 particles\n"
     ]
    },
    {
     "data": {
      "text/plain": [
       "<hoomd.data.system_data at 0x7f9f2d49a890>"
      ]
     },
     "execution_count": 4,
     "metadata": {},
     "output_type": "execute_result"
    }
   ],
   "source": [
    "#polymer1 = dict(bond_len=1.2, type=['A']*3000 + ['B']*4000 + ['A']*3000,bond=\"linear\", count=n_poly)\n",
    "polymer = [[] for i in range(NChr)]\n",
    "for i in range(NChr): polymer[i] = dict(bond_len=1.2, type=chromosome[i]*int(chromosome_size[i]),bond=\"linear\", count=1)\n",
    "# perform some simple math to find the length of the box\n",
    "#N = len(polymer1['type']) * polymer1['count']#+len(polymer2['type']) * polymer2['count']+len(polymer3['type']) * polymer3['count']\n",
    "N=0\n",
    "for i in range (NChr): N += len(polymer[i]['type']) * polymer[i]['count']#+len(polymer2['type']) * polymer2['count']+len(polymer3['type']) * polymer3['count']\n",
    "\n",
    "# generate the polymer system\n",
    "#init.create_random_polymers(box=data.boxdim(volume=10*math.pi * N / (6.0 * phi_P)), polymers=[polymer1,polymer2,polymer3],separation=separation_radius,seed=12)\n",
    "init.create_random_polymers(box=data.boxdim(volume=5*math.pi * N / (6.0 * phi_P)), polymers=polymer,separation=separation_radius,seed=12)"
   ]
  },
  {
   "cell_type": "markdown",
   "metadata": {},
   "source": [
    "## Setup the bonds and force fields"
   ]
  },
  {
   "cell_type": "code",
   "execution_count": 5,
   "metadata": {},
   "outputs": [
    {
     "name": "stdout",
     "output_type": "stream",
     "text": [
      "-----\n",
      "You are using DPD. Please cite the following:\n",
      "* C L Phillips, J A Anderson, and S C Glotzer. \"Pseudo-random number generation\n",
      "  for Brownian Dynamics and Dissipative Particle Dynamics simulations on GPU\n",
      "  devices\", Journal of Computational Physics 230 (2011) 7191--7201\n",
      "-----\n"
     ]
    }
   ],
   "source": [
    "# force field setup\n",
    "harmonic = hoomd.md.bond.harmonic()\n",
    "harmonic.bond_coeff.set('polymer', k=330.0, r0=0.84)\n",
    "nl = hoomd.md.nlist.cell();\n",
    "lj = hoomd.md.pair.lj(nlist=nl, r_cut=3.0)\n",
    "dpd = hoomd.md.pair.dpd(r_cut=1.0, nlist=nl, kT=0.8, seed=1);\n",
    "#dpd.pair_coeff.set('A', 'A', A=25.0, gamma = 4.5);\n",
    "#dpd.pair_coeff.set('A', 'B', A=100.0, gamma = 4.5);\n",
    "#dpd.pair_coeff.set('B', 'B', A=25.0, gamma = 4.5);\n",
    "for i in range(NChr): \n",
    "    lj.pair_coeff.set(chromosome[i],chromosome[i], epsilon=1.0, sigma=1.0, alpha=1.0)\n",
    "    #dpd.pair_coeff.set('A', 'A', A=25.0, gamma = 4.5);\n",
    "    dpd.pair_coeff.set(chromosome[i],chromosome[i], A=0.0, gamma = 4.5);\n",
    "for i in range(NChr):\n",
    "    for j in range(i+1,NChr): \n",
    "        lj.pair_coeff.set(chromosome[i],chromosome[j], epsilon=1.0, sigma=1.0, alpha=0.0, r_cut=2**(1.0/6.0))\n",
    "        #dpd.pair_coeff.set('A', 'B', A=100.0, gamma = 4.5);\n",
    "        dpd.pair_coeff.set(chromosome[i], chromosome[j], A=0.0, gamma = 4.5);\n",
    "#nl.reset_exclusions(exclusions = []);        \n",
    "\n",
    "lj.set_params(mode='shift')"
   ]
  },
  {
   "cell_type": "markdown",
   "metadata": {},
   "source": [
    "## Special Pairs will create our Contact Domains (not working yet)"
   ]
  },
  {
   "cell_type": "code",
   "execution_count": 6,
   "metadata": {},
   "outputs": [],
   "source": [
    "#CTCF = hoomd.md.special_pair()\n",
    "#lj_ctcf = hoomd.md.special_pair.lj(name=\"CTCF\")\n",
    "#lj_ctcf.pair_coeff.set('A','A', epsilon=1.0, sigma=1.0, r_cut=3)\n",
    "#lj_ctcf.set_params(mode='shift')"
   ]
  },
  {
   "cell_type": "markdown",
   "metadata": {},
   "source": [
    "## Integrate the simulation"
   ]
  },
  {
   "cell_type": "code",
   "execution_count": 7,
   "metadata": {},
   "outputs": [],
   "source": [
    "all = group.all()\n",
    "# integrate NVT for a bunch of time steps\n",
    "#hoomd.md.integrate.mode_standard(dt=0.005)\n",
    "#hoomd.md.integrate.nvt(group=all, kT=1.2, tau=0.5)\n",
    "hoomd.md.integrate.mode_standard(dt=0.005)\n",
    "hoomd.md.integrate.nve(group=all);\n",
    "#hoomd.md.integrate.mode_standard(dt=0.005)\n",
    "#hoomd.md.integrate.brownian(group=all, kT=1.2, seed=1, dscale=256)#10dt/k"
   ]
  },
  {
   "cell_type": "markdown",
   "metadata": {},
   "source": [
    "The results of this example may be visualized with VMD which can be installed from here: http://www.ks.uiuc.edu/Research/vmd/"
   ]
  },
  {
   "cell_type": "code",
   "execution_count": null,
   "metadata": {},
   "outputs": [
    {
     "name": "stdout",
     "output_type": "stream",
     "text": [
      "notice(2): -- Neighborlist exclusion statistics -- :\n",
      "notice(2): Particles with 1 exclusions             : 48\n",
      "notice(2): Particles with 2 exclusions             : 30798\n",
      "notice(2): Neighbors included by diameter          : no\n",
      "notice(2): Neighbors excluded when in the same body: no\n",
      "** starting run **\n",
      "notice(2): analyze.imd: listening on port 54321\n",
      "Time 00:00:10 | Step 3536 / 1000000 | TPS 353.532 | ETA 00:46:58\n",
      "notice(2): analyze.imd: accepted connection\n",
      "Time 00:00:20 | Step 6921 / 1000000 | TPS 338.103 | ETA 00:48:57\n",
      "Time 00:00:30 | Step 9957 / 1000000 | TPS 303.43 | ETA 00:54:22\n",
      "Time 00:00:40 | Step 13014 / 1000000 | TPS 305.665 | ETA 00:53:48\n",
      "Time 00:00:50 | Step 16021 / 1000000 | TPS 300.576 | ETA 00:54:33\n",
      "Time 00:01:00 | Step 19091 / 1000000 | TPS 306.785 | ETA 00:53:17\n",
      "Time 00:01:10 | Step 22209 / 1000000 | TPS 311.798 | ETA 00:52:15\n",
      "Time 00:01:20 | Step 25257 / 1000000 | TPS 304.769 | ETA 00:53:18\n",
      "Time 00:01:30 | Step 28360 / 1000000 | TPS 310.208 | ETA 00:52:12\n",
      "Time 00:01:40 | Step 31431 / 1000000 | TPS 306.796 | ETA 00:52:37\n",
      "Time 00:01:50 | Step 34501 / 1000000 | TPS 306.717 | ETA 00:52:27\n",
      "Time 00:02:00 | Step 37581 / 1000000 | TPS 307.951 | ETA 00:52:05\n",
      "Time 00:02:10 | Step 40711 / 1000000 | TPS 312.732 | ETA 00:51:07\n",
      "Time 00:02:20 | Step 43651 / 1000000 | TPS 293.921 | ETA 00:54:13\n",
      "Time 00:02:30 | Step 46561 / 1000000 | TPS 290.724 | ETA 00:54:39\n",
      "Time 00:02:40 | Step 49466 / 1000000 | TPS 290.493 | ETA 00:54:32\n",
      "Time 00:02:50 | Step 52371 / 1000000 | TPS 290.355 | ETA 00:54:23\n",
      "Time 00:03:00 | Step 55273 / 1000000 | TPS 290.056 | ETA 00:54:17\n",
      "Time 00:03:10 | Step 58153 / 1000000 | TPS 287.945 | ETA 00:54:30\n",
      "Time 00:03:20 | Step 61030 / 1000000 | TPS 287.64 | ETA 00:54:24\n",
      "Time 00:03:30 | Step 63872 / 1000000 | TPS 284.126 | ETA 00:54:54\n",
      "Time 00:03:40 | Step 66777 / 1000000 | TPS 290.423 | ETA 00:53:33\n",
      "Time 00:03:50 | Step 69791 / 1000000 | TPS 301.359 | ETA 00:51:26\n",
      "Time 00:04:00 | Step 72829 / 1000000 | TPS 303.622 | ETA 00:50:53\n",
      "Time 00:04:10 | Step 75881 / 1000000 | TPS 305.006 | ETA 00:50:29\n",
      "Time 00:04:20 | Step 78911 / 1000000 | TPS 302.795 | ETA 00:50:41\n",
      "Time 00:04:30 | Step 81943 / 1000000 | TPS 303.132 | ETA 00:50:28\n",
      "Time 00:04:40 | Step 84979 / 1000000 | TPS 303.598 | ETA 00:50:13\n",
      "Time 00:04:50 | Step 88038 / 1000000 | TPS 305.889 | ETA 00:49:41\n",
      "Time 00:05:00 | Step 91146 / 1000000 | TPS 310.793 | ETA 00:48:44\n",
      "Time 00:05:10 | Step 94207 / 1000000 | TPS 306.026 | ETA 00:49:19\n",
      "Time 00:05:20 | Step 97371 / 1000000 | TPS 316.331 | ETA 00:47:33\n",
      "Time 00:05:30 | Step 100522 / 1000000 | TPS 314.994 | ETA 00:47:35\n",
      "Time 00:05:40 | Step 103571 / 1000000 | TPS 304.774 | ETA 00:49:01\n",
      "Time 00:05:50 | Step 106671 / 1000000 | TPS 309.986 | ETA 00:48:01\n",
      "Time 00:06:00 | Step 109805 / 1000000 | TPS 313.283 | ETA 00:47:21\n",
      "Time 00:06:10 | Step 112890 / 1000000 | TPS 308.381 | ETA 00:47:56\n",
      "Time 00:06:20 | Step 116000 / 1000000 | TPS 310.995 | ETA 00:47:22\n",
      "Time 00:06:30 | Step 119106 / 1000000 | TPS 310.555 | ETA 00:47:16\n",
      "Time 00:06:40 | Step 122220 / 1000000 | TPS 311.384 | ETA 00:46:58\n",
      "Time 00:06:50 | Step 125272 / 1000000 | TPS 305.171 | ETA 00:47:46\n",
      "Time 00:07:00 | Step 128301 / 1000000 | TPS 302.634 | ETA 00:48:00\n",
      "Time 00:07:10 | Step 131307 / 1000000 | TPS 300.59 | ETA 00:48:09\n",
      "Time 00:07:20 | Step 134326 / 1000000 | TPS 301.882 | ETA 00:47:47\n",
      "Time 00:07:30 | Step 137351 / 1000000 | TPS 302.493 | ETA 00:47:31\n",
      "Time 00:07:40 | Step 140371 / 1000000 | TPS 301.954 | ETA 00:47:26\n",
      "Time 00:07:50 | Step 143383 / 1000000 | TPS 301.189 | ETA 00:47:24\n",
      "Time 00:08:00 | Step 146381 / 1000000 | TPS 299.72 | ETA 00:47:28\n",
      "Time 00:08:10 | Step 149331 / 1000000 | TPS 294.941 | ETA 00:48:04\n",
      "Time 00:08:20 | Step 152320 / 1000000 | TPS 298.797 | ETA 00:47:16\n",
      "Time 00:08:30 | Step 155296 / 1000000 | TPS 297.555 | ETA 00:47:18\n",
      "Time 00:08:40 | Step 158271 / 1000000 | TPS 297.275 | ETA 00:47:11\n",
      "Time 00:08:50 | Step 161189 / 1000000 | TPS 291.653 | ETA 00:47:56\n",
      "Time 00:09:00 | Step 164142 / 1000000 | TPS 295.277 | ETA 00:47:10\n",
      "Time 00:09:10 | Step 167078 / 1000000 | TPS 293.594 | ETA 00:47:16\n",
      "Time 00:09:20 | Step 169909 / 1000000 | TPS 283.024 | ETA 00:48:52\n",
      "Time 00:09:30 | Step 172742 / 1000000 | TPS 283.279 | ETA 00:48:40\n",
      "Time 00:09:40 | Step 175505 / 1000000 | TPS 276.214 | ETA 00:49:44\n",
      "Time 00:09:50 | Step 178308 / 1000000 | TPS 280.265 | ETA 00:48:51\n",
      "Time 00:10:00 | Step 181025 / 1000000 | TPS 271.655 | ETA 00:50:14\n",
      "Time 00:10:10 | Step 183719 / 1000000 | TPS 269.35 | ETA 00:50:30\n",
      "Time 00:10:20 | Step 186441 / 1000000 | TPS 271.953 | ETA 00:49:51\n",
      "Time 00:10:30 | Step 189176 / 1000000 | TPS 273.381 | ETA 00:49:25\n",
      "Time 00:10:40 | Step 191931 / 1000000 | TPS 275.201 | ETA 00:48:56\n",
      "Time 00:10:50 | Step 194656 / 1000000 | TPS 272.443 | ETA 00:49:16\n",
      "Time 00:11:00 | Step 197333 / 1000000 | TPS 267.697 | ETA 00:49:58\n",
      "Time 00:11:10 | Step 199921 / 1000000 | TPS 258.763 | ETA 00:51:31\n",
      "Time 00:11:20 | Step 202471 / 1000000 | TPS 254.839 | ETA 00:52:09\n",
      "Time 00:11:30 | Step 205037 / 1000000 | TPS 256.555 | ETA 00:51:38\n",
      "Time 00:11:40 | Step 207556 / 1000000 | TPS 251.762 | ETA 00:52:27\n",
      "Time 00:11:50 | Step 209996 / 1000000 | TPS 243.936 | ETA 00:53:58\n",
      "Time 00:12:00 | Step 212261 / 1000000 | TPS 226.481 | ETA 00:57:58\n",
      "Time 00:12:10 | Step 214286 / 1000000 | TPS 202.492 | ETA 01:04:40\n",
      "Time 00:12:20 | Step 216691 / 1000000 | TPS 240.285 | ETA 00:54:19\n",
      "Time 00:12:30 | Step 219227 / 1000000 | TPS 253.488 | ETA 00:51:20\n",
      "Time 00:12:40 | Step 221674 / 1000000 | TPS 244.69 | ETA 00:53:00\n",
      "Time 00:12:50 | Step 224201 / 1000000 | TPS 252.628 | ETA 00:51:10\n",
      "Time 00:13:00 | Step 226484 / 1000000 | TPS 228.256 | ETA 00:56:28\n",
      "Time 00:13:10 | Step 228866 / 1000000 | TPS 238.196 | ETA 00:53:57\n",
      "Time 00:13:20 | Step 230878 / 1000000 | TPS 199.439 | ETA 01:04:16\n",
      "Time 00:13:30 | Step 232867 / 1000000 | TPS 198.83 | ETA 01:04:18\n",
      "Time 00:13:40 | Step 234693 / 1000000 | TPS 182.579 | ETA 01:09:51\n",
      "Time 00:13:50 | Step 236985 / 1000000 | TPS 229.155 | ETA 00:55:29\n",
      "Time 00:14:00 | Step 239374 / 1000000 | TPS 238.867 | ETA 00:53:04\n",
      "Time 00:14:10 | Step 241750 / 1000000 | TPS 237.558 | ETA 00:53:11\n",
      "Time 00:14:20 | Step 244105 / 1000000 | TPS 235.457 | ETA 00:53:30\n",
      "Time 00:14:30 | Step 246432 / 1000000 | TPS 232.648 | ETA 00:53:59\n",
      "Time 00:14:40 | Step 248754 / 1000000 | TPS 232.156 | ETA 00:53:55\n",
      "Time 00:14:50 | Step 251068 / 1000000 | TPS 231.358 | ETA 00:53:57\n",
      "Time 00:15:00 | Step 253357 / 1000000 | TPS 228.872 | ETA 00:54:22\n",
      "Time 00:15:10 | Step 255612 / 1000000 | TPS 225.452 | ETA 00:55:01\n",
      "Time 00:15:20 | Step 257861 / 1000000 | TPS 224.863 | ETA 00:55:00\n",
      "Time 00:15:30 | Step 260106 / 1000000 | TPS 224.368 | ETA 00:54:57\n",
      "Time 00:15:40 | Step 262334 / 1000000 | TPS 222.736 | ETA 00:55:11\n",
      "Time 00:15:50 | Step 264481 / 1000000 | TPS 214.697 | ETA 00:57:05\n",
      "Time 00:16:00 | Step 266668 / 1000000 | TPS 218.62 | ETA 00:55:54\n",
      "Time 00:16:10 | Step 268814 / 1000000 | TPS 214.593 | ETA 00:56:47\n",
      "Time 00:16:20 | Step 270939 / 1000000 | TPS 212.455 | ETA 00:57:11\n",
      "Time 00:16:30 | Step 273083 / 1000000 | TPS 214.347 | ETA 00:56:31\n",
      "Time 00:16:40 | Step 275157 / 1000000 | TPS 207.366 | ETA 00:58:15\n",
      "Time 00:16:50 | Step 277251 / 1000000 | TPS 209.185 | ETA 00:57:35\n",
      "Time 00:17:00 | Step 279277 / 1000000 | TPS 202.493 | ETA 00:59:19\n",
      "Time 00:17:10 | Step 281332 / 1000000 | TPS 205.499 | ETA 00:58:17\n",
      "Time 00:17:20 | Step 283373 / 1000000 | TPS 204.062 | ETA 00:58:31\n",
      "Time 00:17:30 | Step 285339 / 1000000 | TPS 196.591 | ETA 01:00:35\n",
      "Time 00:17:40 | Step 287328 / 1000000 | TPS 198.877 | ETA 00:59:43\n",
      "Time 00:17:50 | Step 289297 / 1000000 | TPS 196.858 | ETA 01:00:10\n",
      "Time 00:18:00 | Step 291275 / 1000000 | TPS 197.725 | ETA 00:59:44\n",
      "Time 00:18:10 | Step 293227 / 1000000 | TPS 195.126 | ETA 01:00:22\n",
      "Time 00:18:20 | Step 295169 / 1000000 | TPS 194.188 | ETA 01:00:29\n",
      "Time 00:18:30 | Step 297084 / 1000000 | TPS 191.47 | ETA 01:01:11\n",
      "Time 00:18:40 | Step 299014 / 1000000 | TPS 192.952 | ETA 01:00:32\n",
      "Time 00:18:50 | Step 300932 / 1000000 | TPS 191.764 | ETA 01:00:45\n",
      "Time 00:19:00 | Step 302832 / 1000000 | TPS 189.983 | ETA 01:01:09\n",
      "Time 00:19:10 | Step 304721 / 1000000 | TPS 188.686 | ETA 01:01:24\n",
      "Time 00:19:20 | Step 306596 / 1000000 | TPS 187.458 | ETA 01:01:38\n",
      "Time 00:19:30 | Step 308481 / 1000000 | TPS 188.351 | ETA 01:01:11\n",
      "Time 00:19:40 | Step 310381 / 1000000 | TPS 189.935 | ETA 01:00:30\n"
     ]
    },
    {
     "name": "stdout",
     "output_type": "stream",
     "text": [
      "Time 00:19:50 | Step 312291 / 1000000 | TPS 190.911 | ETA 01:00:02\n",
      "Time 00:20:00 | Step 314058 / 1000000 | TPS 176.689 | ETA 01:04:42\n",
      "Time 00:20:10 | Step 315881 / 1000000 | TPS 182.234 | ETA 01:02:34\n",
      "Time 00:20:20 | Step 317614 / 1000000 | TPS 173.25 | ETA 01:05:38\n",
      "Time 00:20:30 | Step 319375 / 1000000 | TPS 176.087 | ETA 01:04:25\n",
      "Time 00:20:40 | Step 321105 / 1000000 | TPS 172.934 | ETA 01:05:25\n",
      "Time 00:20:50 | Step 322818 / 1000000 | TPS 171.233 | ETA 01:05:54\n",
      "Time 00:21:00 | Step 324521 / 1000000 | TPS 170.238 | ETA 01:06:07\n",
      "Time 00:21:10 | Step 326212 / 1000000 | TPS 169.1 | ETA 01:06:24\n",
      "Time 00:21:20 | Step 327858 / 1000000 | TPS 164.576 | ETA 01:08:04\n",
      "Time 00:21:30 | Step 329506 / 1000000 | TPS 164.716 | ETA 01:07:50\n",
      "Time 00:21:40 | Step 331142 / 1000000 | TPS 163.497 | ETA 01:08:10\n",
      "Time 00:21:50 | Step 332783 / 1000000 | TPS 164.073 | ETA 01:07:46\n",
      "Time 00:22:00 | Step 334421 / 1000000 | TPS 163.663 | ETA 01:07:46\n",
      "Time 00:22:10 | Step 336063 / 1000000 | TPS 164.181 | ETA 01:07:23\n",
      "Time 00:22:20 | Step 337696 / 1000000 | TPS 163.243 | ETA 01:07:37\n",
      "Time 00:22:30 | Step 339288 / 1000000 | TPS 159.155 | ETA 01:09:11\n",
      "Time 00:22:40 | Step 340927 / 1000000 | TPS 163.836 | ETA 01:07:02\n",
      "Time 00:22:50 | Step 342571 / 1000000 | TPS 164.313 | ETA 01:06:41\n",
      "Time 00:23:00 | Step 344251 / 1000000 | TPS 167.742 | ETA 01:05:09\n",
      "Time 00:23:10 | Step 345958 / 1000000 | TPS 170.614 | ETA 01:03:53\n",
      "Time 00:23:20 | Step 347659 / 1000000 | TPS 170.053 | ETA 01:03:56\n",
      "Time 00:23:30 | Step 349366 / 1000000 | TPS 170.686 | ETA 01:03:31\n",
      "Time 00:23:40 | Step 351068 / 1000000 | TPS 170.2 | ETA 01:03:32\n",
      "Time 00:23:50 | Step 352773 / 1000000 | TPS 170.489 | ETA 01:03:16\n",
      "Time 00:24:00 | Step 354486 / 1000000 | TPS 171.276 | ETA 01:02:48\n",
      "Time 00:24:10 | Step 356193 / 1000000 | TPS 170.666 | ETA 01:02:52\n",
      "Time 00:24:20 | Step 357884 / 1000000 | TPS 169.075 | ETA 01:03:17\n",
      "Time 00:24:30 | Step 359562 / 1000000 | TPS 167.785 | ETA 01:03:37\n",
      "Time 00:24:40 | Step 361190 / 1000000 | TPS 162.782 | ETA 01:05:24\n",
      "Time 00:24:50 | Step 362822 / 1000000 | TPS 163.139 | ETA 01:05:05\n",
      "Time 00:25:00 | Step 364462 / 1000000 | TPS 163.991 | ETA 01:04:35\n",
      "Time 00:25:10 | Step 366082 / 1000000 | TPS 161.825 | ETA 01:05:17\n",
      "Time 00:25:20 | Step 367697 / 1000000 | TPS 161.441 | ETA 01:05:16\n",
      "Time 00:25:30 | Step 369274 / 1000000 | TPS 157.696 | ETA 01:06:39\n",
      "Time 00:25:40 | Step 370871 / 1000000 | TPS 159.632 | ETA 01:05:41\n",
      "Time 00:25:50 | Step 372487 / 1000000 | TPS 161.565 | ETA 01:04:43\n",
      "Time 00:26:00 | Step 374098 / 1000000 | TPS 161.056 | ETA 01:04:46\n",
      "Time 00:26:10 | Step 375698 / 1000000 | TPS 159.971 | ETA 01:05:02\n",
      "Time 00:26:20 | Step 377286 / 1000000 | TPS 158.762 | ETA 01:05:22\n",
      "Time 00:26:30 | Step 378866 / 1000000 | TPS 157.934 | ETA 01:05:32\n",
      "Time 00:26:40 | Step 380455 / 1000000 | TPS 158.842 | ETA 01:05:00\n",
      "Time 00:26:50 | Step 382051 / 1000000 | TPS 159.405 | ETA 01:04:36\n",
      "Time 00:27:00 | Step 383640 / 1000000 | TPS 158.835 | ETA 01:04:40\n",
      "Time 00:27:10 | Step 385218 / 1000000 | TPS 157.751 | ETA 01:04:57\n",
      "Time 00:27:20 | Step 386797 / 1000000 | TPS 157.844 | ETA 01:04:44\n",
      "Time 00:27:30 | Step 388396 / 1000000 | TPS 159.889 | ETA 01:03:45\n",
      "Time 00:27:40 | Step 389993 / 1000000 | TPS 159.592 | ETA 01:03:42\n",
      "Time 00:27:50 | Step 391579 / 1000000 | TPS 158.582 | ETA 01:03:56\n",
      "Time 00:28:00 | Step 393150 / 1000000 | TPS 156.992 | ETA 01:04:25\n",
      "Time 00:28:10 | Step 394722 / 1000000 | TPS 157.195 | ETA 01:04:10\n",
      "Time 00:28:20 | Step 396292 / 1000000 | TPS 156.992 | ETA 01:04:05\n",
      "Time 00:28:30 | Step 397869 / 1000000 | TPS 157.671 | ETA 01:03:38\n",
      "Time 00:28:40 | Step 399422 / 1000000 | TPS 155.185 | ETA 01:04:30\n",
      "Time 00:28:50 | Step 400975 / 1000000 | TPS 155.279 | ETA 01:04:17\n",
      "Time 00:29:00 | Step 402534 / 1000000 | TPS 155.856 | ETA 01:03:53\n",
      "Time 00:29:10 | Step 404096 / 1000000 | TPS 156.139 | ETA 01:03:36\n",
      "Time 00:29:20 | Step 405661 / 1000000 | TPS 156.382 | ETA 01:03:20\n",
      "Time 00:29:31 | Step 407259 / 1000000 | TPS 159.711 | ETA 01:01:51\n",
      "Time 00:29:41 | Step 408850 / 1000000 | TPS 159.099 | ETA 01:01:55\n",
      "Time 00:29:51 | Step 410441 / 1000000 | TPS 158.988 | ETA 01:01:48\n",
      "Time 00:30:01 | Step 412031 / 1000000 | TPS 158.847 | ETA 01:01:41\n",
      "Time 00:30:11 | Step 413614 / 1000000 | TPS 158.283 | ETA 01:01:44\n",
      "Time 00:30:21 | Step 415200 / 1000000 | TPS 158.553 | ETA 01:01:28\n",
      "Time 00:30:31 | Step 416775 / 1000000 | TPS 157.472 | ETA 01:01:43\n",
      "Time 00:30:41 | Step 418360 / 1000000 | TPS 158.447 | ETA 01:01:10\n",
      "Time 00:30:51 | Step 419958 / 1000000 | TPS 159.756 | ETA 01:00:30\n",
      "Time 00:31:01 | Step 421554 / 1000000 | TPS 159.548 | ETA 01:00:25\n",
      "Time 00:31:11 | Step 423135 / 1000000 | TPS 158.099 | ETA 01:00:48\n",
      "Time 00:31:21 | Step 424716 / 1000000 | TPS 157.929 | ETA 01:00:42\n",
      "Time 00:31:31 | Step 426299 / 1000000 | TPS 158.16 | ETA 01:00:27\n",
      "Time 00:31:41 | Step 427880 / 1000000 | TPS 158.047 | ETA 01:00:19\n",
      "Time 00:31:51 | Step 429454 / 1000000 | TPS 157.317 | ETA 01:00:26\n",
      "Time 00:32:01 | Step 431024 / 1000000 | TPS 156.91 | ETA 01:00:26\n",
      "Time 00:32:11 | Step 432599 / 1000000 | TPS 157.441 | ETA 01:00:03\n",
      "Time 00:32:21 | Step 434165 / 1000000 | TPS 156.482 | ETA 01:00:15\n",
      "Time 00:32:31 | Step 435731 / 1000000 | TPS 156.431 | ETA 01:00:07\n",
      "Time 00:32:41 | Step 437300 / 1000000 | TPS 156.875 | ETA 00:59:46\n",
      "Time 00:32:51 | Step 438867 / 1000000 | TPS 156.658 | ETA 00:59:41\n",
      "Time 00:33:01 | Step 440441 / 1000000 | TPS 157.291 | ETA 00:59:17\n",
      "Time 00:33:11 | Step 441999 / 1000000 | TPS 155.653 | ETA 00:59:44\n",
      "Time 00:33:21 | Step 443558 / 1000000 | TPS 155.851 | ETA 00:59:30\n",
      "Time 00:33:31 | Step 445117 / 1000000 | TPS 155.858 | ETA 00:59:20\n",
      "Time 00:33:41 | Step 446675 / 1000000 | TPS 155.765 | ETA 00:59:12\n",
      "Time 00:33:51 | Step 448221 / 1000000 | TPS 154.556 | ETA 00:59:30\n",
      "Time 00:34:01 | Step 449778 / 1000000 | TPS 155.692 | ETA 00:58:54\n",
      "Time 00:34:11 | Step 451304 / 1000000 | TPS 152.548 | ETA 00:59:56\n",
      "Time 00:34:21 | Step 452826 / 1000000 | TPS 152.158 | ETA 00:59:56\n",
      "Time 00:34:31 | Step 454362 / 1000000 | TPS 153.574 | ETA 00:59:12\n",
      "Time 00:34:41 | Step 455890 / 1000000 | TPS 152.787 | ETA 00:59:21\n",
      "Time 00:34:51 | Step 457410 / 1000000 | TPS 151.944 | ETA 00:59:30\n",
      "Time 00:35:01 | Step 458938 / 1000000 | TPS 152.799 | ETA 00:59:01\n",
      "Time 00:35:11 | Step 460445 / 1000000 | TPS 150.607 | ETA 00:59:42\n",
      "Time 00:35:21 | Step 461964 / 1000000 | TPS 151.827 | ETA 00:59:03\n",
      "Time 00:35:31 | Step 463491 / 1000000 | TPS 152.603 | ETA 00:58:35\n",
      "Time 00:35:41 | Step 464990 / 1000000 | TPS 149.89 | ETA 00:59:29\n",
      "Time 00:35:51 | Step 466481 / 1000000 | TPS 148.966 | ETA 00:59:41\n",
      "Time 00:36:01 | Step 468001 / 1000000 | TPS 151.979 | ETA 00:58:20\n",
      "Time 00:36:11 | Step 469508 / 1000000 | TPS 150.658 | ETA 00:58:41\n",
      "Time 00:36:21 | Step 471012 / 1000000 | TPS 150.368 | ETA 00:58:37\n",
      "Time 00:36:31 | Step 472486 / 1000000 | TPS 147.263 | ETA 00:59:42\n",
      "Time 00:36:41 | Step 473986 / 1000000 | TPS 149.967 | ETA 00:58:27\n",
      "Time 00:36:51 | Step 475491 / 1000000 | TPS 150.456 | ETA 00:58:06\n",
      "Time 00:37:01 | Step 476999 / 1000000 | TPS 150.783 | ETA 00:57:48\n",
      "Time 00:37:11 | Step 478491 / 1000000 | TPS 149.136 | ETA 00:58:16\n",
      "Time 00:37:21 | Step 479982 / 1000000 | TPS 149.034 | ETA 00:58:09\n",
      "Time 00:37:31 | Step 481472 / 1000000 | TPS 148.981 | ETA 00:58:00\n",
      "Time 00:37:41 | Step 482962 / 1000000 | TPS 148.978 | ETA 00:57:50\n",
      "Time 00:37:51 | Step 484451 / 1000000 | TPS 148.76 | ETA 00:57:45\n",
      "Time 00:38:01 | Step 485952 / 1000000 | TPS 150.08 | ETA 00:57:05\n",
      "Time 00:38:11 | Step 487434 / 1000000 | TPS 148.121 | ETA 00:57:40\n",
      "Time 00:38:21 | Step 488904 / 1000000 | TPS 146.938 | ETA 00:57:58\n",
      "Time 00:38:31 | Step 490391 / 1000000 | TPS 148.537 | ETA 00:57:10\n",
      "Time 00:38:41 | Step 491870 / 1000000 | TPS 147.89 | ETA 00:57:15\n",
      "Time 00:38:51 | Step 493376 / 1000000 | TPS 150.528 | ETA 00:56:05\n",
      "Time 00:39:01 | Step 494861 / 1000000 | TPS 148.387 | ETA 00:56:44\n",
      "Time 00:39:11 | Step 496331 / 1000000 | TPS 146.844 | ETA 00:57:09\n",
      "Time 00:39:21 | Step 497811 / 1000000 | TPS 147.906 | ETA 00:56:35\n",
      "Time 00:39:31 | Step 499278 / 1000000 | TPS 146.689 | ETA 00:56:53\n",
      "Time 00:39:41 | Step 500757 / 1000000 | TPS 147.85 | ETA 00:56:16\n",
      "Time 00:39:51 | Step 502227 / 1000000 | TPS 146.996 | ETA 00:56:26\n",
      "Time 00:40:01 | Step 503734 / 1000000 | TPS 150.695 | ETA 00:54:53\n",
      "Time 00:40:11 | Step 505214 / 1000000 | TPS 147.943 | ETA 00:55:44\n"
     ]
    },
    {
     "name": "stdout",
     "output_type": "stream",
     "text": [
      "Time 00:40:21 | Step 506701 / 1000000 | TPS 148.519 | ETA 00:55:21\n",
      "Time 00:40:31 | Step 508179 / 1000000 | TPS 147.777 | ETA 00:55:28\n",
      "Time 00:40:41 | Step 509676 / 1000000 | TPS 149.665 | ETA 00:54:36\n",
      "Time 00:40:51 | Step 511180 / 1000000 | TPS 150.361 | ETA 00:54:10\n",
      "Time 00:41:01 | Step 512691 / 1000000 | TPS 150.938 | ETA 00:53:48\n",
      "Time 00:41:11 | Step 514185 / 1000000 | TPS 149.373 | ETA 00:54:12\n",
      "Time 00:41:21 | Step 515684 / 1000000 | TPS 149.873 | ETA 00:53:51\n",
      "Time 00:41:31 | Step 517181 / 1000000 | TPS 149.607 | ETA 00:53:47\n",
      "Time 00:41:41 | Step 518682 / 1000000 | TPS 150.005 | ETA 00:53:28\n",
      "Time 00:41:51 | Step 520171 / 1000000 | TPS 148.727 | ETA 00:53:46\n",
      "Time 00:42:01 | Step 521682 / 1000000 | TPS 151.084 | ETA 00:52:45\n",
      "Time 00:42:11 | Step 523174 / 1000000 | TPS 149.054 | ETA 00:53:19\n",
      "Time 00:42:21 | Step 524670 / 1000000 | TPS 149.532 | ETA 00:52:58\n",
      "Time 00:42:31 | Step 526163 / 1000000 | TPS 149.262 | ETA 00:52:54\n",
      "Time 00:42:41 | Step 527623 / 1000000 | TPS 145.944 | ETA 00:53:56\n",
      "Time 00:42:51 | Step 529090 / 1000000 | TPS 146.647 | ETA 00:53:31\n",
      "Time 00:43:01 | Step 530555 / 1000000 | TPS 146.487 | ETA 00:53:24\n",
      "Time 00:43:11 | Step 532038 / 1000000 | TPS 148.279 | ETA 00:52:35\n",
      "Time 00:43:21 | Step 533501 / 1000000 | TPS 146.142 | ETA 00:53:12\n",
      "Time 00:43:31 | Step 534978 / 1000000 | TPS 147.592 | ETA 00:52:30\n",
      "Time 00:43:41 | Step 536460 / 1000000 | TPS 148.128 | ETA 00:52:09\n",
      "Time 00:43:51 | Step 537921 / 1000000 | TPS 146.061 | ETA 00:52:43\n",
      "Time 00:44:01 | Step 539387 / 1000000 | TPS 146.59 | ETA 00:52:22\n",
      "T"
     ]
    }
   ],
   "source": [
    "hoomd.dump.gsd(\"gsd/24xchromosomes_1000_0.gsd\", period=None, group=all, overwrite=True, time_step=0);\n",
    "# setup the IMD server\n",
    "hoomd.analyze.imd(port=54321, period=10)\n",
    "# run a very long time so the simulation can be watched in VMD\n",
    "run(1e6)"
   ]
  },
  {
   "cell_type": "markdown",
   "metadata": {},
   "source": [
    "The results of this example may be visualized with VMD which can be installed from here: http://www.ks.uiuc.edu/Research/vmd/\n",
    "\n",
    "While running must execute the following command in a terminal:"
   ]
  },
  {
   "cell_type": "code",
   "execution_count": null,
   "metadata": {},
   "outputs": [],
   "source": [
    "!cat imd.vmd\n",
    "#vmd -e imd.vmd gsd/24xchromosomes_1000_0.gsd"
   ]
  },
  {
   "cell_type": "markdown",
   "metadata": {
    "collapsed": true
   },
   "source": [
    "![](snapshots/24xchromosomes_DPD.png)"
   ]
  },
  {
   "cell_type": "code",
   "execution_count": null,
   "metadata": {},
   "outputs": [],
   "source": []
  }
 ],
 "metadata": {
  "kernelspec": {
   "display_name": "Python 2",
   "language": "python",
   "name": "python2"
  },
  "language_info": {
   "codemirror_mode": {
    "name": "ipython",
    "version": 2
   },
   "file_extension": ".py",
   "mimetype": "text/x-python",
   "name": "python",
   "nbconvert_exporter": "python",
   "pygments_lexer": "ipython2",
   "version": "2.7.14"
  }
 },
 "nbformat": 4,
 "nbformat_minor": 2
}
