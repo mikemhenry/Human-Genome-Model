{
 "cells": [
  {
   "cell_type": "markdown",
   "metadata": {},
   "source": [
    "# A Model for the Human Chromosome\n",
    "This example shows a simple simulation of a single block copolymer that is a potential model of the Human Chromosome in hoomdd.\n",
    "\n",
    "The human genome consists of 24 chromosomes with a total size of 3Gb.  Aiden et al. 2014 produced a 1kB resolution (below single gene resolution) Genome Contact Map.  Contact domains (∼185 kb) segregate into six nuclear subcompartments with distinct histone marks.\n",
    "This can be reproduced phenomenologically with this simple block copolymer model.\n",
    "\n",
    "from: https://lost-contact.mit.edu/afs//umich.edu/user/j/o/joaander/Public/hoomd-web/doc/page_example_scripts.html\n",
    "\n",
    "## Initialize\n",
    "First import hoomd and associated libraries and then initialize.  If no mode is given then the fastest processor cpu or gpu will be selected automatically."
   ]
  },
  {
   "cell_type": "code",
   "execution_count": 1,
   "metadata": {
    "scrolled": false
   },
   "outputs": [
    {
     "name": "stdout",
     "output_type": "stream",
     "text": [
      "HOOMD-blue v2.2.2-29-g1e86eec CUDA (8.0) DOUBLE HPMC_MIXED MPI SSE SSE2 \n",
      "Compiled: 01/29/18\n",
      "Copyright 2009-2017 The Regents of the University of Michigan.\n",
      "-----\n",
      "You are using HOOMD-blue. Please cite the following:\n",
      "* J A Anderson, C D Lorenz, and A Travesset. \"General purpose molecular dynamics\n",
      "  simulations fully implemented on graphics processing units\", Journal of\n",
      "  Computational Physics 227 (2008) 5342--5359\n",
      "* J Glaser, T D Nguyen, J A Anderson, P Liu, F Spiga, J A Millan, D C Morse, and\n",
      "  S C Glotzer. \"Strong scaling of general-purpose molecular dynamics simulations\n",
      "  on GPUs\", Computer Physics Communications 192 (2015) 97--107\n",
      "-----\n",
      "notice(2): This system is not compute exclusive, using local rank to select GPUs\n",
      "notice(2): Unable to identify node local rank information\n",
      "notice(2): Using global rank to select GPUs\n",
      "HOOMD-blue is running on the following GPU(s):\n",
      " [0]  GeForce GTX 1060 6GB  10 SM_6.1 @ 1.84 GHz, 6075 MiB DRAM, DIS\n"
     ]
    }
   ],
   "source": [
    "#import hoomd\n",
    "import hoomd.md\n",
    "from hoomd import *\n",
    "from hoomd.deprecated import *\n",
    "context.initialize(\"\");\n",
    "#context.initialize(\"--mode=cpu\");\n",
    "#context.initialize(\"--mode=gpu\");"
   ]
  },
  {
   "cell_type": "markdown",
   "metadata": {},
   "source": [
    "## Import other libraries and define parameters\n",
    "\n",
    "The human genome has 24 chromasomes but for now we will simulate a single chromosome."
   ]
  },
  {
   "cell_type": "code",
   "execution_count": 2,
   "metadata": {},
   "outputs": [],
   "source": [
    "import math\n",
    "# parameters\n",
    "phi_P = 0.25\n",
    "n_poly=1"
   ]
  },
  {
   "cell_type": "markdown",
   "metadata": {},
   "source": [
    "## Define the polymer\n",
    "The average length of a human chromosome is 133 Mb"
   ]
  },
  {
   "cell_type": "code",
   "execution_count": 3,
   "metadata": {},
   "outputs": [
    {
     "name": "stdout",
     "output_type": "stream",
     "text": [
      "['b']*24638 + ['c']*24330 + ['d']*20018 + ['e']*19095 + ['f']*18171 + ['g']*16939 + ['h']*16015 + ['i']*14475 + ['j']*14167 + ['k']*13551 + ['l']*13551 + ['m']*13243 + ['n']*11395 + ['o']*10779 + ['p']*10163 + ['q']*8931 + ['u']*8007 + ['r']*7699 + ['s']*6467 + ['t']*6159 + ['u']*4619 + ['v']*4927 + ['w']*15399 + ['x']*5851\n",
      "b=0.35, c=0.35, d=0.35, e=0.35, f=0.35, g=0.35, h=0.35, i=0.35, j=0.35, k=0.35, l=0.35, m=0.35, n=0.35, o=0.35, p=0.35, q=0.35, u=0.35, r=0.35, s=0.35, t=0.35, u=0.35, v=0.35, w=0.35, x=0.35, y=0.35\n"
     ]
    }
   ],
   "source": [
    "import numpy as np\n",
    "genome_size=3079843747\n",
    "NChr=24 #Mb\n",
    "Nbeads=genome_size/10000\n",
    "#chromosome=np.linspace(1,Nchromosomes,Nchromosomes,dtype=intp).tolist()\n",
    "chromosome_size=np.fix(np.r_[8,7.9,6.5,6.2,5.9,5.5,5.2,4.7,4.6,4.4,4.4,4.3,3.7,3.5,3.3,2.9,2.6,2.5,2.1,2.0,1.5,1.6,5.0,1.9]/100.0*Nbeads)\n",
    "chromosome=list('bcdefghijklmnopqurstuvwxy')\n",
    "s=\"[\"+\"]*%d+[\".join(map(str, chromosome))+\"]*%d\" \n",
    "t=chromosome_size.astype(int).tolist()\n",
    "#print t\n",
    "#type_string='['+''.join(str(e) for e in [val for pair in zip(chromosome,N*']*', chromosome_size.astype(int),N*'+[]') for val in pair])\n",
    "type_string=['']\n",
    "for i in range(NChr): type_string += \"['%s']*%d\" % (chromosome[i],chromosome_size[i]), \n",
    "type_string=' + '.join(type_string)\n",
    "type_string=type_string[3:]\n",
    "print type_string\n",
    "#separation_radius=dict(b=0.35, c=0.35)\n",
    "separation_radius='=0.35, '.join(chromosome) \n",
    "print ('%s=0.35' % (separation_radius))\n",
    "#print dict(b=0.35, c=0.35, d=0.35, e=0.35, f=0.35, g=0.35, h=0.35, i=0.35, j=0.35, k=0.35, l=0.35, m=0.35, n=0.35, o=0.35, p=0.35, q=0.35, u=0.35, r=0.35, s=0.35, t=0.35)\n",
    "#print dict(u=0.35, v=0.35, w=0.35, x=0.35, y=0.35)"
   ]
  },
  {
   "cell_type": "markdown",
   "metadata": {},
   "source": [
    "So if we assume that Euchromatin makes up 60% of the genome and heterochromatin makes up 40% then a block copolymer of 10000 beads would have a resolution of approximately 13 kb/bead the average size of a human gene.  This would correspond to approximately 18 beads per enhancer promoter loop."
   ]
  },
  {
   "cell_type": "code",
   "execution_count": null,
   "metadata": {},
   "outputs": [],
   "source": [
    "type_string=['b']*24638 + ['c']*24330 + ['d']*20018 + ['e']*19095 + ['f']*18171 + ['g']*16939 + ['h']*16015 + ['i']*14475 + ['j']*14167 + ['k']*13551 + ['l']*13551 + ['m']*13243 + ['n']*11395 + ['o']*10779 + ['p']*10163 + ['q']*8931 + ['u']*8007 + ['r']*7699 + ['s']*6467 + ['t']*6159 + ['u']*4619 + ['v']*4927 + ['w']*15399 + ['x']*5851\n",
    "#polymer1 = dict(bond_len=1.2, type=['A']*3000 + ['B']*4000 + ['A']*3000,bond=\"linear\", count=n_poly)\n",
    "polymer1 = dict(bond_len=1.2, type=type_string,bond=\"linear\", count=n_poly)\n",
    "#polymer1 = dict(bond_len=1.2, type=['B']*300,bond=\"linear\", count=n_poly)\n",
    "#polymer2 = dict(bond_len=1.2, type=['C']*400,bond=\"linear\", count=n_poly)\n",
    "#polymer3 = dict(bond_len=1.2, type=['D']*300,bond=\"linear\", count=n_poly)\n",
    "# perform some simple math to find the length of the box\n",
    "N = len(polymer1['type']) * polymer1['count']#+len(polymer2['type']) * polymer2['count']+len(polymer3['type']) * polymer3['count']\n",
    "# generate the polymer system\n",
    "separation_radius=dict(b=0.35, c=0.35, d=0.35, e=0.35, f=0.35, g=0.35, h=0.35, i=0.35, j=0.35, k=0.35, l=0.35, m=0.35, n=0.35, o=0.35, p=0.35, q=0.35, u=0.35, r=0.35, s=0.35, t=0.35)\n",
    "separation_radius.update(dict(u=0.35, v=0.35, w=0.35, x=0.35, y=0.35))\n",
    "#separation_radius=dict(B=0.35, C=0.35, D=0.35)\n",
    "#init.create_random_polymers(box=data.boxdim(volume=10*math.pi * N / (6.0 * phi_P)), polymers=[polymer1,polymer2,polymer3],separation=separation_radius,seed=12)\n",
    "init.create_random_polymers(box=data.boxdim(volume=10*math.pi * N / (6.0 * phi_P)), polymers=[polymer1],separation=separation_radius,seed=12)\n"
   ]
  },
  {
   "cell_type": "markdown",
   "metadata": {},
   "source": [
    "## Setup the bonds and force fields"
   ]
  },
  {
   "cell_type": "code",
   "execution_count": null,
   "metadata": {},
   "outputs": [],
   "source": [
    "# force field setup\n",
    "harmonic = hoomd.md.bond.harmonic()\n",
    "harmonic.bond_coeff.set('polymer', k=330.0, r0=0.84)\n",
    "nl = hoomd.md.nlist.cell();\n",
    "lj = hoomd.md.pair.lj(nlist=nl, r_cut=3.0)\n",
    "for i in range(NChr): \n",
    "    lj.pair_coeff.set(chromosome[i],chromosome[i], epsilon=1.0, sigma=1.0, alpha=1.0)\n",
    "#lj.pair_coeff.set('b','b', epsilon=1.0, sigma=1.0, alpha=1.0)\n",
    "#lj.pair_coeff.set('c','c', epsilon=1.0, sigma=1.0, alpha=1.0)\n",
    "#lj.pair_coeff.set('d','d', epsilon=1.0, sigma=1.0, alpha=1.0)\n",
    "for i in range(NChr):\n",
    "    for j in range(i+1,NChr): \n",
    "        lj.pair_coeff.set(chromosome[i],chromosome[j], epsilon=1.0, sigma=1.0, alpha=0.0, r_cut=2**(1.0/6.0))\n",
    "#lj.pair_coeff.set('b','c', epsilon=1.0, sigma=1.0, alpha=0.0, r_cut=2**(1.0/6.0))\n",
    "#lj.pair_coeff.set('b','d', epsilon=1.0, sigma=1.0, alpha=0.0, r_cut=2**(1.0/6.0))\n",
    "#lj.pair_coeff.set('c','d', epsilon=1.0, sigma=1.0, alpha=0.0, r_cut=2**(1.0/6.0))\n",
    "lj.set_params(mode='shift')"
   ]
  },
  {
   "cell_type": "markdown",
   "metadata": {},
   "source": [
    "## Special Pairs will create our Contact Domains (not working yet)"
   ]
  },
  {
   "cell_type": "code",
   "execution_count": null,
   "metadata": {},
   "outputs": [],
   "source": [
    "#CTCF = hoomd.md.special_pair()\n",
    "#lj_ctcf = hoomd.md.special_pair.lj(name=\"CTCF\")\n",
    "#lj_ctcf.pair_coeff.set('A','A', epsilon=1.0, sigma=1.0, r_cut=3)\n",
    "#lj_ctcf.set_params(mode='shift')"
   ]
  },
  {
   "cell_type": "markdown",
   "metadata": {},
   "source": [
    "## Integrate the simulation"
   ]
  },
  {
   "cell_type": "code",
   "execution_count": null,
   "metadata": {},
   "outputs": [],
   "source": [
    "all = group.all()\n",
    "# integrate NVT for a bunch of time steps\n",
    "hoomd.md.integrate.mode_standard(dt=0.005)\n",
    "hoomd.md.integrate.nvt(group=all, kT=1.2, tau=0.5)\n",
    "#hoomd.md.integrate.brownian(group=all, kT=1.2, seed=1)"
   ]
  },
  {
   "cell_type": "markdown",
   "metadata": {},
   "source": [
    "The results of this example may be visualized with VMD which can be installed from here: http://www.ks.uiuc.edu/Research/vmd/"
   ]
  },
  {
   "cell_type": "code",
   "execution_count": null,
   "metadata": {},
   "outputs": [],
   "source": [
    "hoomd.dump.gsd(filename=\"/home/mferguson/scratch/24xchromosomes_10000.gsd\", overwrite=True, period=1000, group=group.all())\n",
    "#hoomd.dump.gsd(\"gsd/24xchromosomes_10000_0.gsd\", period=None, group=all, overwrite=True, time_step=0);\n",
    "# setup the IMD server\n",
    "#hoomd.analyze.imd(port=54321, period=1)\n",
    "# run a very long time so the simulation can be watched in VMD\n",
    "run(1e5)"
   ]
  },
  {
   "cell_type": "markdown",
   "metadata": {},
   "source": [
    "The results of this example may be visualized with VMD which can be installed from here: http://www.ks.uiuc.edu/Research/vmd/\n",
    "\n",
    "While running must execute the following command in a terminal:"
   ]
  },
  {
   "cell_type": "code",
   "execution_count": null,
   "metadata": {},
   "outputs": [],
   "source": [
    "#!cat points.vmd\n",
    "#vmd -e points.vmd gsd/24xchromosomes_10000.gsd"
   ]
  },
  {
   "cell_type": "markdown",
   "metadata": {},
   "source": [
    "## GPU cluster\n",
    "We happen to have a high performance computing cluster on campus with 5 NVIDIA P100 GPU's.  In order to take advantage of them we need simply need to have an account and to have a little extra knowledge about how to use an HPC cluster.\n",
    "\n",
    "R2 is a heterogeneous compute cluster provided by the BSU Office of Research. It consists of 26 compute nodes and 5 GPU nodes, each with dual Intel Xeon E5-2680 CPUs. The GPU nodes each have dual Nvidia P100 GPUs.  More information about the cluster, how to gain access to it and how to use it can be found here: https://rcs.boisestate.edu/r2/\n",
    "\n",
    "While it is probably possible to use an ipython notebook on a server (see fast.ai for an example).  We will reduce our python code to a script shown below."
   ]
  },
  {
   "cell_type": "markdown",
   "metadata": {
    "collapsed": true
   },
   "source": [
    "![](snapshots/24xchromosomes_10k.png)"
   ]
  },
  {
   "cell_type": "code",
   "execution_count": 4,
   "metadata": {},
   "outputs": [
    {
     "name": "stdout",
     "output_type": "stream",
     "text": [
      "\r\n",
      "# coding: utf-8\r\n",
      "\r\n",
      "# # A Model for the Human Chromosome\r\n",
      "# This example shows a simple simulation of a single block copolymer that is a potential model of the Human Chromosome in hoomdd.\r\n",
      "# \r\n",
      "# The human genome consists of 24 chromosomes with a total size of 3Gb.  Aiden et al. 2014 produced a 1kB resolution (below single gene resolution) Genome Contact Map.  Contact domains (∼185 kb) segregate into six nuclear subcompartments with distinct histone marks.\r\n",
      "# This can be reproduced phenomenologically with this simple block copolymer model.\r\n",
      "# \r\n",
      "# from: https://lost-contact.mit.edu/afs//umich.edu/user/j/o/joaander/Public/hoomd-web/doc/page_example_scripts.html\r\n",
      "# \r\n",
      "# ## Initialize\r\n",
      "# First import hoomd and associated libraries and then initialize.  If no mode is given then the fastest processor cpu or gpu will be selected automatically.\r\n",
      "\r\n",
      "# In[1]:\r\n",
      "\r\n",
      "\r\n",
      "#import hoomd\r\n",
      "import hoomd.md\r\n",
      "from hoomd import *\r\n",
      "from hoomd.deprecated import *\r\n",
      "context.initialize(\"\");\r\n",
      "#context.initialize(\"--mode=cpu\");\r\n",
      "#context.initialize(\"--mode=gpu\");\r\n",
      "\r\n",
      "\r\n",
      "# ## Import other libraries and define parameters\r\n",
      "# \r\n",
      "# The human genome has 24 chromasomes but for now we will simulate a single chromosome.\r\n",
      "\r\n",
      "# In[2]:\r\n",
      "\r\n",
      "\r\n",
      "import math\r\n",
      "# parameters\r\n",
      "phi_P = 0.25\r\n",
      "n_poly=1\r\n",
      "\r\n",
      "\r\n",
      "# ## Define the polymer\r\n",
      "# The average length of a human chromosome is 133 Mb\r\n",
      "\r\n",
      "# In[3]:\r\n",
      "\r\n",
      "\r\n",
      "import numpy as np\r\n",
      "genome_size=3079843747\r\n",
      "NChr=24 #Mb\r\n",
      "Nbeads=genome_size/10000\r\n",
      "#chromosome=np.linspace(1,Nchromosomes,Nchromosomes,dtype=intp).tolist()\r\n",
      "chromosome_size=np.fix(np.r_[8,7.9,6.5,6.2,5.9,5.5,5.2,4.7,4.6,4.4,4.4,4.3,3.7,3.5,3.3,2.9,2.6,2.5,2.1,2.0,1.5,1.6,5.0,1.9]/100.0*Nbeads)\r\n",
      "chromosome=list('bcdefghijklmnopqurstuvwxy')\r\n",
      "s=\"[\"+\"]*%d+[\".join(map(str, chromosome))+\"]*%d\" \r\n",
      "t=chromosome_size.astype(int).tolist()\r\n",
      "#print t\r\n",
      "#type_string='['+''.join(str(e) for e in [val for pair in zip(chromosome,N*']*', chromosome_size.astype(int),N*'+[]') for val in pair])\r\n",
      "type_string=['']\r\n",
      "for i in range(NChr): type_string += \"['%s']*%d\" % (chromosome[i],chromosome_size[i]), \r\n",
      "type_string=' + '.join(type_string)\r\n",
      "type_string=type_string[3:]\r\n",
      "print type_string\r\n",
      "#separation_radius=dict(b=0.35, c=0.35)\r\n",
      "separation_radius='=0.35, '.join(chromosome) \r\n",
      "print ('%s=0.35' % (separation_radius))\r\n",
      "#print dict(b=0.35, c=0.35, d=0.35, e=0.35, f=0.35, g=0.35, h=0.35, i=0.35, j=0.35, k=0.35, l=0.35, m=0.35, n=0.35, o=0.35, p=0.35, q=0.35, u=0.35, r=0.35, s=0.35, t=0.35)\r\n",
      "#print dict(u=0.35, v=0.35, w=0.35, x=0.35, y=0.35)\r\n",
      "\r\n",
      "\r\n",
      "# So if we assume that Euchromatin makes up 60% of the genome and heterochromatin makes up 40% then a block copolymer of 10000 beads would have a resolution of approximately 13 kb/bead the average size of a human gene.  This would correspond to approximately 18 beads per enhancer promoter loop.\r\n",
      "\r\n",
      "# In[ ]:\r\n",
      "\r\n",
      "\r\n",
      "type_string=['b']*24638 + ['c']*24330 + ['d']*20018 + ['e']*19095 + ['f']*18171 + ['g']*16939 + ['h']*16015 + ['i']*14475 + ['j']*14167 + ['k']*13551 + ['l']*13551 + ['m']*13243 + ['n']*11395 + ['o']*10779 + ['p']*10163 + ['q']*8931 + ['u']*8007 + ['r']*7699 + ['s']*6467 + ['t']*6159 + ['u']*4619 + ['v']*4927 + ['w']*15399 + ['x']*5851\r\n",
      "#polymer1 = dict(bond_len=1.2, type=['A']*3000 + ['B']*4000 + ['A']*3000,bond=\"linear\", count=n_poly)\r\n",
      "polymer1 = dict(bond_len=1.2, type=type_string,bond=\"linear\", count=n_poly)\r\n",
      "#polymer1 = dict(bond_len=1.2, type=['B']*300,bond=\"linear\", count=n_poly)\r\n",
      "#polymer2 = dict(bond_len=1.2, type=['C']*400,bond=\"linear\", count=n_poly)\r\n",
      "#polymer3 = dict(bond_len=1.2, type=['D']*300,bond=\"linear\", count=n_poly)\r\n",
      "# perform some simple math to find the length of the box\r\n",
      "N = len(polymer1['type']) * polymer1['count']#+len(polymer2['type']) * polymer2['count']+len(polymer3['type']) * polymer3['count']\r\n",
      "# generate the polymer system\r\n",
      "separation_radius=dict(b=0.35, c=0.35, d=0.35, e=0.35, f=0.35, g=0.35, h=0.35, i=0.35, j=0.35, k=0.35, l=0.35, m=0.35, n=0.35, o=0.35, p=0.35, q=0.35, u=0.35, r=0.35, s=0.35, t=0.35)\r\n",
      "separation_radius.update(dict(u=0.35, v=0.35, w=0.35, x=0.35, y=0.35))\r\n",
      "#separation_radius=dict(B=0.35, C=0.35, D=0.35)\r\n",
      "#init.create_random_polymers(box=data.boxdim(volume=10*math.pi * N / (6.0 * phi_P)), polymers=[polymer1,polymer2,polymer3],separation=separation_radius,seed=12)\r\n",
      "init.create_random_polymers(box=data.boxdim(volume=10*math.pi * N / (6.0 * phi_P)), polymers=[polymer1],separation=separation_radius,seed=12)\r\n",
      "\r\n",
      "\r\n",
      "# ## Setup the bonds and force fields\r\n",
      "\r\n",
      "# In[ ]:\r\n",
      "\r\n",
      "\r\n",
      "# force field setup\r\n",
      "harmonic = hoomd.md.bond.harmonic()\r\n",
      "harmonic.bond_coeff.set('polymer', k=330.0, r0=0.84)\r\n",
      "nl = hoomd.md.nlist.cell();\r\n",
      "lj = hoomd.md.pair.lj(nlist=nl, r_cut=3.0)\r\n",
      "for i in range(NChr): \r\n",
      "    lj.pair_coeff.set(chromosome[i],chromosome[i], epsilon=1.0, sigma=1.0, alpha=1.0)\r\n",
      "#lj.pair_coeff.set('b','b', epsilon=1.0, sigma=1.0, alpha=1.0)\r\n",
      "#lj.pair_coeff.set('c','c', epsilon=1.0, sigma=1.0, alpha=1.0)\r\n",
      "#lj.pair_coeff.set('d','d', epsilon=1.0, sigma=1.0, alpha=1.0)\r\n",
      "for i in range(NChr):\r\n",
      "    for j in range(i+1,NChr): \r\n",
      "        lj.pair_coeff.set(chromosome[i],chromosome[j], epsilon=1.0, sigma=1.0, alpha=0.0, r_cut=2**(1.0/6.0))\r\n",
      "#lj.pair_coeff.set('b','c', epsilon=1.0, sigma=1.0, alpha=0.0, r_cut=2**(1.0/6.0))\r\n",
      "#lj.pair_coeff.set('b','d', epsilon=1.0, sigma=1.0, alpha=0.0, r_cut=2**(1.0/6.0))\r\n",
      "#lj.pair_coeff.set('c','d', epsilon=1.0, sigma=1.0, alpha=0.0, r_cut=2**(1.0/6.0))\r\n",
      "lj.set_params(mode='shift')\r\n",
      "\r\n",
      "\r\n",
      "# ## Special Pairs will create our Contact Domains (not working yet)\r\n",
      "\r\n",
      "# In[ ]:\r\n",
      "\r\n",
      "\r\n",
      "#CTCF = hoomd.md.special_pair()\r\n",
      "#lj_ctcf = hoomd.md.special_pair.lj(name=\"CTCF\")\r\n",
      "#lj_ctcf.pair_coeff.set('A','A', epsilon=1.0, sigma=1.0, r_cut=3)\r\n",
      "#lj_ctcf.set_params(mode='shift')\r\n",
      "\r\n",
      "\r\n",
      "# ## Integrate the simulation\r\n",
      "\r\n",
      "# In[ ]:\r\n",
      "\r\n",
      "\r\n",
      "all = group.all()\r\n",
      "# integrate NVT for a bunch of time steps\r\n",
      "hoomd.md.integrate.mode_standard(dt=0.005)\r\n",
      "hoomd.md.integrate.nvt(group=all, kT=1.2, tau=0.5)\r\n",
      "#hoomd.md.integrate.brownian(group=all, kT=1.2, seed=1)\r\n",
      "\r\n",
      "\r\n",
      "# The results of this example may be visualized with VMD which can be installed from here: http://www.ks.uiuc.edu/Research/vmd/\r\n",
      "\r\n",
      "# In[ ]:\r\n",
      "\r\n",
      "\r\n",
      "hoomd.dump.gsd(filename=\"/home/mferguson/scratch/24xchromosomes_10000.gsd\", overwrite=True, period=1000, group=group.all())\r\n",
      "#hoomd.dump.gsd(\"gsd/24xchromosomes_10000_0.gsd\", period=None, group=all, overwrite=True, time_step=0);\r\n",
      "# setup the IMD server\r\n",
      "#hoomd.analyze.imd(port=54321, period=1)\r\n",
      "# run a very long time so the simulation can be watched in VMD\r\n",
      "run(1e5)\r\n",
      "\r\n",
      "\r\n",
      "# The results of this example may be visualized with VMD which can be installed from here: http://www.ks.uiuc.edu/Research/vmd/\r\n",
      "# \r\n",
      "# While running must execute the following command in a terminal:\r\n",
      "\r\n",
      "# In[ ]:\r\n",
      "\r\n",
      "\r\n",
      "#!cat imd.vmd\r\n",
      "#vmd -e imd.vmd gsd/24xchromosomes_10000_0.gsd\r\n",
      "\r\n",
      "\r\n",
      "# ![](snapshots/24xchromosomes_10k.png)\r\n"
     ]
    }
   ],
   "source": [
    "!cat chromosomes_x24_10kb_resolution.py"
   ]
  },
  {
   "cell_type": "markdown",
   "metadata": {},
   "source": [
    "## SLURM and how to run jobs\n",
    "In addition to the python script we need also to have shell script that identifies how many and which nodes to use.  More information about the SLURM scheduler and how to use it can be found here: https://slurm.schedmd.com/quickstart.html\n",
    "and here: \n",
    "https://www.rc.fas.harvard.edu/resources/documentation/convenient-slurm-commands/\n",
    "\n",
    "Some useful commands are:\n",
    "sinfo\n",
    "squeue\n",
    "scancel\n",
    "\n",
    "to start our job type:\n",
    ">sbatch hum_gen.bash\n",
    "\n",
    "progress can be followed by typing \n",
    ">cat logs/gpu-job-*.o"
   ]
  },
  {
   "cell_type": "code",
   "execution_count": 3,
   "metadata": {},
   "outputs": [
    {
     "name": "stdout",
     "output_type": "stream",
     "text": [
      "#!/bin/bash\r\n",
      "#SBATCH --mail-user=mattferguson@boisestate.edu\r\n",
      "#SBATCH --mail-type=ALL\t#This can be set to all, end, or other options\r\n",
      "#SBATCH --nodes=1\r\n",
      "#SBATCH --ntasks=1\r\n",
      "#SBATCH --time=24:00:00         # 24 hours \r\n",
      "#SBATCH --output=logs/gpu-job-%j.o      # output file\r\n",
      "#SBATCH --error=logs/gpu-job-%j.e       # error file\r\n",
      "#SBATCH --partition=gpuq          # GPU partition\r\n",
      "#SBATCH --gres=gpu:1            # single GPU job\r\n",
      "\r\n",
      "ulimit -u 9999\r\n",
      "ulimit -s unlimited\r\n",
      "ulimit -v unlimited\r\n",
      "\r\n",
      "\r\n",
      "module load hoomd-blue/gcc/mvapich2/2.1.5\r\n",
      "\r\n",
      "mpirun python chromosomes_x24_10kb_resolution.py\r\n"
     ]
    }
   ],
   "source": []
  },
  {
   "cell_type": "markdown",
   "metadata": {},
   "source": [
    "Then copy the output from the scratch folder on R2 using secure copy (scp):\n",
    ">scp mferguson@r2.boisestate.edu:scratch/24xchromosomes_10000.gsd ./gsd/"
   ]
  },
  {
   "cell_type": "markdown",
   "metadata": {},
   "source": [
    "![](snapshots/24xchromosomes_10000.png)"
   ]
  },
  {
   "cell_type": "code",
   "execution_count": null,
   "metadata": {},
   "outputs": [],
   "source": []
  }
 ],
 "metadata": {
  "kernelspec": {
   "display_name": "Python 2",
   "language": "python",
   "name": "python2"
  },
  "language_info": {
   "codemirror_mode": {
    "name": "ipython",
    "version": 2
   },
   "file_extension": ".py",
   "mimetype": "text/x-python",
   "name": "python",
   "nbconvert_exporter": "python",
   "pygments_lexer": "ipython2",
   "version": "2.7.14"
  }
 },
 "nbformat": 4,
 "nbformat_minor": 2
}
