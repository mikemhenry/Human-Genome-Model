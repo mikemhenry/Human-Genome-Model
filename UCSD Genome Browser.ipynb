{
 "cells": [
  {
   "cell_type": "markdown",
   "metadata": {},
   "source": [
    "pip install mechanize\n",
    "pip install bs4"
   ]
  },
  {
   "cell_type": "code",
   "execution_count": 1,
   "metadata": {},
   "outputs": [
    {
     "ename": "BrowserStateError",
     "evalue": "not viewing any document",
     "output_type": "error",
     "traceback": [
      "\u001b[0;31m---------------------------------------------------------------------------\u001b[0m",
      "\u001b[0;31mBrowserStateError\u001b[0m                         Traceback (most recent call last)",
      "\u001b[0;32m<ipython-input-1-eb229fcc5083>\u001b[0m in \u001b[0;36m<module>\u001b[0;34m()\u001b[0m\n\u001b[1;32m      8\u001b[0m \u001b[0mbr\u001b[0m\u001b[0;34m.\u001b[0m\u001b[0mset_handle_robots\u001b[0m\u001b[0;34m(\u001b[0m \u001b[0mFalse\u001b[0m \u001b[0;34m)\u001b[0m\u001b[0;34m\u001b[0m\u001b[0m\n\u001b[1;32m      9\u001b[0m \u001b[0;34m\u001b[0m\u001b[0m\n\u001b[0;32m---> 10\u001b[0;31m \u001b[0;32mfor\u001b[0m \u001b[0mform\u001b[0m \u001b[0;32min\u001b[0m \u001b[0mbr\u001b[0m\u001b[0;34m.\u001b[0m\u001b[0mforms\u001b[0m\u001b[0;34m(\u001b[0m\u001b[0;34m)\u001b[0m\u001b[0;34m:\u001b[0m\u001b[0;34m\u001b[0m\u001b[0m\n\u001b[0m\u001b[1;32m     11\u001b[0m      \u001b[0;32mif\u001b[0m \u001b[0mform\u001b[0m\u001b[0;34m[\u001b[0m\u001b[0;34m'position'\u001b[0m\u001b[0;34m]\u001b[0m\u001b[0;34m:\u001b[0m\u001b[0;34m\u001b[0m\u001b[0m\n\u001b[1;32m     12\u001b[0m           \u001b[0;32mprint\u001b[0m \u001b[0mform\u001b[0m\u001b[0;34m[\u001b[0m\u001b[0;34m'position'\u001b[0m\u001b[0;34m]\u001b[0m\u001b[0;34m\u001b[0m\u001b[0m\n",
      "\u001b[0;32m/home/mattferguson/miniconda2/lib/python2.7/site-packages/mechanize/_mechanize.pyc\u001b[0m in \u001b[0;36mforms\u001b[0;34m(self)\u001b[0m\n\u001b[1;32m    523\u001b[0m \u001b[0;34m\u001b[0m\u001b[0m\n\u001b[1;32m    524\u001b[0m         \"\"\"\n\u001b[0;32m--> 525\u001b[0;31m         \u001b[0;32mif\u001b[0m \u001b[0;32mnot\u001b[0m \u001b[0mself\u001b[0m\u001b[0;34m.\u001b[0m\u001b[0mviewing_html\u001b[0m\u001b[0;34m(\u001b[0m\u001b[0;34m)\u001b[0m\u001b[0;34m:\u001b[0m\u001b[0;34m\u001b[0m\u001b[0m\n\u001b[0m\u001b[1;32m    526\u001b[0m             \u001b[0;32mraise\u001b[0m \u001b[0mBrowserStateError\u001b[0m\u001b[0;34m(\u001b[0m\u001b[0;34m\"not viewing HTML\"\u001b[0m\u001b[0;34m)\u001b[0m\u001b[0;34m\u001b[0m\u001b[0m\n\u001b[1;32m    527\u001b[0m         \u001b[0;32mreturn\u001b[0m \u001b[0mself\u001b[0m\u001b[0;34m.\u001b[0m\u001b[0m_factory\u001b[0m\u001b[0;34m.\u001b[0m\u001b[0mforms\u001b[0m\u001b[0;34m(\u001b[0m\u001b[0;34m)\u001b[0m\u001b[0;34m\u001b[0m\u001b[0m\n",
      "\u001b[0;32m/home/mattferguson/miniconda2/lib/python2.7/site-packages/mechanize/_mechanize.pyc\u001b[0m in \u001b[0;36mviewing_html\u001b[0;34m(self)\u001b[0m\n\u001b[1;32m    549\u001b[0m         \u001b[0;34m\"\"\"Return whether the current response contains HTML data.\"\"\"\u001b[0m\u001b[0;34m\u001b[0m\u001b[0m\n\u001b[1;32m    550\u001b[0m         \u001b[0;32mif\u001b[0m \u001b[0mself\u001b[0m\u001b[0;34m.\u001b[0m\u001b[0m_response\u001b[0m \u001b[0;32mis\u001b[0m \u001b[0mNone\u001b[0m\u001b[0;34m:\u001b[0m\u001b[0;34m\u001b[0m\u001b[0m\n\u001b[0;32m--> 551\u001b[0;31m             \u001b[0;32mraise\u001b[0m \u001b[0mBrowserStateError\u001b[0m\u001b[0;34m(\u001b[0m\u001b[0;34m\"not viewing any document\"\u001b[0m\u001b[0;34m)\u001b[0m\u001b[0;34m\u001b[0m\u001b[0m\n\u001b[0m\u001b[1;32m    552\u001b[0m         \u001b[0;32mreturn\u001b[0m \u001b[0mself\u001b[0m\u001b[0;34m.\u001b[0m\u001b[0m_factory\u001b[0m\u001b[0;34m.\u001b[0m\u001b[0mis_html\u001b[0m\u001b[0;34m\u001b[0m\u001b[0m\n\u001b[1;32m    553\u001b[0m \u001b[0;34m\u001b[0m\u001b[0m\n",
      "\u001b[0;31mBrowserStateError\u001b[0m: not viewing any document"
     ]
    }
   ],
   "source": [
    " from mechanize import Browser\n",
    " from bs4 import BeautifulSoup\n",
    " import requests\n",
    " import re\n",
    "\n",
    " br = Browser()\n",
    " url = 'http://genome-euro.ucsc.edu/cgi-bin/hgTables?hgsid=201790284_dkwVYFu7V6ISmTzFGlXzo23aUhXk'\n",
    " br.set_handle_robots( False )\n",
    "\n",
    " for form in br.forms():\n",
    "      if form['position']:\n",
    "           print form['position']\n",
    "           form['position'] = 'chr9:21802635-21865969'\n",
    "           print form['position']\n",
    "           break\n",
    "\n",
    " for form in br.forms():\n",
    "     if form['hgta_doTopSubmit']:\n",
    "          br.submit()"
   ]
  },
  {
   "cell_type": "code",
   "execution_count": 2,
   "metadata": {
    "scrolled": true
   },
   "outputs": [
    {
     "name": "stdout",
     "output_type": "stream",
     "text": [
      "chr9\thg19_refFlat\tstart_codon\t21802748\t21802750\t0.000000\t+\t.\tgene_id \"MTAP\"; transcript_id \"MTAP\"; \n",
      "chr9\thg19_refFlat\tCDS\t21802748\t21802780\t0.000000\t+\t0\tgene_id \"MTAP\"; transcript_id \"MTAP\"; \n",
      "chr9\thg19_refFlat\texon\t21802635\t21802780\t0.000000\t+\t.\tgene_id \"MTAP\"; transcript_id \"MTAP\"; \n",
      "chr9\thg19_refFlat\tCDS\t21815432\t21815518\t0.000000\t+\t0\tgene_id \"MTAP\"; transcript_id \"MTAP\"; \n",
      "chr9\thg19_refFlat\texon\t21815432\t21815518\t0.000000\t+\t.\tgene_id \"MTAP\"; transcript_id \"MTAP\"; \n",
      "chr9\thg19_refFlat\tCDS\t21816713\t21816771\t0.000000\t+\t0\tgene_id \"MTAP\"; transcript_id \"MTAP\"; \n",
      "chr9\thg19_refFlat\texon\t21816713\t21816771\t0.000000\t+\t.\tgene_id \"MTAP\"; transcript_id \"MTAP\"; \n",
      "chr9\thg19_refFlat\tCDS\t21818034\t21818201\t0.000000\t+\t1\tgene_id \"MTAP\"; transcript_id \"MTAP\"; \n",
      "chr9\thg19_refFlat\texon\t21818034\t21818201\t0.000000\t+\t.\tgene_id \"MTAP\"; transcript_id \"MTAP\"; \n",
      "chr9\thg19_refFlat\tCDS\t21837907\t21838009\t0.000000\t+\t1\tgene_id \"MTAP\"; transcript_id \"MTAP\"; \n",
      "chr9\thg19_refFlat\texon\t21837907\t21838009\t0.000000\t+\t.\tgene_id \"MTAP\"; transcript_id \"MTAP\"; \n",
      "chr9\thg19_refFlat\tCDS\t21854630\t21854869\t0.000000\t+\t0\tgene_id \"MTAP\"; transcript_id \"MTAP\"; \n",
      "chr9\thg19_refFlat\texon\t21854630\t21854869\t0.000000\t+\t.\tgene_id \"MTAP\"; transcript_id \"MTAP\"; \n",
      "chr9\thg19_refFlat\tCDS\t21859302\t21859424\t0.000000\t+\t0\tgene_id \"MTAP\"; transcript_id \"MTAP\"; \n",
      "chr9\thg19_refFlat\texon\t21859302\t21859424\t0.000000\t+\t.\tgene_id \"MTAP\"; transcript_id \"MTAP\"; \n",
      "chr9\thg19_refFlat\tCDS\t21861975\t21862010\t0.000000\t+\t0\tgene_id \"MTAP\"; transcript_id \"MTAP\"; \n",
      "chr9\thg19_refFlat\tstop_codon\t21862011\t21862013\t0.000000\t+\t.\tgene_id \"MTAP\"; transcript_id \"MTAP\"; \n",
      "chr9\thg19_refFlat\texon\t21861975\t21865969\t0.000000\t+\t.\tgene_id \"MTAP\"; transcript_id \"MTAP\"; \n",
      "\n"
     ]
    }
   ],
   "source": [
    "import requests\n",
    "\n",
    "url = 'http://genome-euro.ucsc.edu/cgi-bin/hgTables?hgsid=201790284_dkwVYFu7V6ISmTzFGlXzo23aUhXk'    \n",
    "session = requests.Session()\n",
    "\n",
    "params = {\n",
    "    'hgsid': '201790284_dkwVYFu7V6ISmTzFGlXzo23aUhXk',\n",
    "    'jsh_pageVertPos': '0',\n",
    "    'clade': 'mammal',\n",
    "    'org': 'Human',\n",
    "    'db': 'hg19',\n",
    "    'hgta_group': 'genes',\n",
    "    'hgta_track': 'refGene',\n",
    "    'hgta_table': 'refFlat',\n",
    "    'hgta_regionType': 'range',\n",
    "    'position': 'chr9:21802635-21865969',\n",
    "    'hgta_outputType': 'gff',\n",
    "    'boolshad.sendToGalaxy': '0',\n",
    "    'boolshad.sendToGreat': '0',\n",
    "    'boolshad.sendToGenomeSpace': '0',\n",
    "    'hgta_outFileName': '',\n",
    "    'hgta_compressType': 'none',\n",
    "    'hgta_doTopSubmit': 'get output'\n",
    "}\n",
    "\n",
    "response = session.post(url, data=params)\n",
    "print response.content"
   ]
  },
  {
   "cell_type": "code",
   "execution_count": null,
   "metadata": {},
   "outputs": [],
   "source": [
    "import requests\n",
    "\n",
    "url = 'http://genome-euro.ucsc.edu/cgi-bin/hgTables?hgsid=201790284_dkwVYFu7V6ISmTzFGlXzo23aUhXk'    \n",
    "session = requests.Session()\n",
    "\n",
    "params = {\n",
    "    'hgsid': '201790284_dkwVYFu7V6ISmTzFGlXzo23aUhXk',\n",
    "    'jsh_pageVertPos': '0',\n",
    "    'clade': 'mammal',\n",
    "    'org': 'Human',\n",
    "    'db': 'hg19',\n",
    "    'hgta_group': 'genes',\n",
    "    'hgta_track': 'refGene',\n",
    "    'hgta_table': 'refFlat',\n",
    "    'hgta_regionType': 'range',\n",
    "    'position': 'chr9:21802635-21865969',\n",
    "    'hgta_outputType': 'gff',\n",
    "    'boolshad.sendToGalaxy': '0',\n",
    "    'boolshad.sendToGreat': '0',\n",
    "    'boolshad.sendToGenomeSpace': '0',\n",
    "    'hgta_outFileName': '',\n",
    "    'hgta_compressType': 'none',\n",
    "    'hgta_doTopSubmit': 'get output'\n",
    "}\n",
    "\n",
    "response = session.post(url, data=params)\n",
    "print response.content"
   ]
  }
 ],
 "metadata": {
  "kernelspec": {
   "display_name": "Python 2",
   "language": "python",
   "name": "python2"
  },
  "language_info": {
   "codemirror_mode": {
    "name": "ipython",
    "version": 2
   },
   "file_extension": ".py",
   "mimetype": "text/x-python",
   "name": "python",
   "nbconvert_exporter": "python",
   "pygments_lexer": "ipython2",
   "version": "2.7.14"
  }
 },
 "nbformat": 4,
 "nbformat_minor": 2
}
