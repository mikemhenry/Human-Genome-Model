{
 "cells": [
  {
   "cell_type": "markdown",
   "metadata": {},
   "source": [
    "# Random polymer\n",
    "This example shows you how to run a simple polymer simulation in hoomd-blue.\n",
    "http://glotzerlab.engin.umich.edu/hoomd-blue/\n",
    "\n",
    "Here is a script that generates a system of bead-spring polymers that self-assemble into a hex phase when run for a few million time steps. The polymers are A6B7A6 block copolymers in an implicit solvent. The script also shows a few examples of how writing python code in the script can be handy: here the concentration phi_P is a parameter and math operations are performed to calculate the length of the box.\n",
    "\n",
    "For more information on the model in this script, see \"Micellar crystals in solution from molecular dynamics simulations\" J. Chem. Phys. 128, 184906 (2008); DOI:10.1063/1.2913522 http://link.aip.org/link/?JCPSA6/128/184906/1\n",
    "\n",
    "Any of the polymer systems in the paper could be easily run just by changing a few parameters in this script. from: https://lost-contact.mit.edu/afs//umich.edu/user/j/o/joaander/Public/hoomd-web/doc/page_example_scripts.html\n",
    "\n",
    "## Initialize\n",
    "First import hoomd and associated libraries and then initialize. If no mode is given then the fastest processor cpu or gpu will be selected automatically."
   ]
  },
  {
   "cell_type": "code",
   "execution_count": 1,
   "metadata": {
    "scrolled": false
   },
   "outputs": [
    {
     "name": "stdout",
     "output_type": "stream",
     "text": [
      "HOOMD-blue 2.2.4-unknown CUDA (8.0) DOUBLE HPMC_MIXED SSE SSE2 SSE3 SSE4_1 SSE4_2 AVX AVX2 \n",
      "Compiled: 03/11/2018\n",
      "Copyright 2009-2017 The Regents of the University of Michigan.\n",
      "-----\n",
      "You are using HOOMD-blue. Please cite the following:\n",
      "* J A Anderson, C D Lorenz, and A Travesset. \"General purpose molecular dynamics\n",
      "  simulations fully implemented on graphics processing units\", Journal of\n",
      "  Computational Physics 227 (2008) 5342--5359\n",
      "* J Glaser, T D Nguyen, J A Anderson, P Liu, F Spiga, J A Millan, D C Morse, and\n",
      "  S C Glotzer. \"Strong scaling of general-purpose molecular dynamics simulations\n",
      "  on GPUs\", Computer Physics Communications 192 (2015) 97--107\n",
      "-----\n",
      "notice(2): This system is not compute exclusive, using local rank to select GPUs\n",
      "HOOMD-blue is running on the following GPU(s):\n",
      " [0]   GeForce GTX 1050 Ti   6 SM_6.1 @ 1.39 GHz, 4095 MiB DRAM, DIS\n"
     ]
    }
   ],
   "source": [
    "#import hoomd\n",
    "import hoomd.md\n",
    "from hoomd import *\n",
    "from hoomd.deprecated import *\n",
    "\n",
    "#context.initialize();\n",
    "#context.initialize(\"--mode=cpu\");\n",
    "context.initialize(\"--mode=gpu\");"
   ]
  },
  {
   "cell_type": "markdown",
   "metadata": {},
   "source": [
    "## Import other libraries and define parameters"
   ]
  },
  {
   "cell_type": "code",
   "execution_count": 2,
   "metadata": {
    "collapsed": true
   },
   "outputs": [],
   "source": [
    "import math\n",
    "# parameters\n",
    "phi_P = 0.25\n",
    "n_poly = 1"
   ]
  },
  {
   "cell_type": "markdown",
   "metadata": {},
   "source": [
    "## Define the polymer"
   ]
  },
  {
   "cell_type": "code",
   "execution_count": 3,
   "metadata": {},
   "outputs": [
    {
     "name": "stdout",
     "output_type": "stream",
     "text": [
      "notice(2): Group \"all\" created containing 1000 particles\n"
     ]
    },
    {
     "data": {
      "text/plain": [
       "<hoomd.data.system_data at 0x11afc3190>"
      ]
     },
     "execution_count": 3,
     "metadata": {},
     "output_type": "execute_result"
    }
   ],
   "source": [
    "polymer1 = dict(bond_len=1.2, type=['A']*300 + ['B']*400 + ['A']*300,bond=\"linear\", count=n_poly)\n",
    "# perform some simple math to find the length of the box\n",
    "N = len(polymer1['type']) * polymer1['count']\n",
    "\n",
    "# generate the polymer system\n",
    "init.create_random_polymers(box=data.boxdim(volume=10*math.pi * N / (6.0 * phi_P)), polymers=[polymer1],separation=dict(A=0.35, B=0.35),seed=12)"
   ]
  },
  {
   "cell_type": "markdown",
   "metadata": {},
   "source": [
    "## Setup the bonds and force fields"
   ]
  },
  {
   "cell_type": "code",
   "execution_count": null,
   "metadata": {
    "collapsed": true
   },
   "outputs": [],
   "source": [
    "# force field setup\n",
    "harmonic = hoomd.md.bond.harmonic()\n",
    "harmonic.bond_coeff.set('polymer', k=330.0, r0=0.84)\n",
    "nl = hoomd.md.nlist.cell();\n",
    "lj = hoomd.md.pair.lj(r_cut=3.0,nlist=nl)\n",
    "#nl = hoomd.md.nlist.tree();\n",
    "#lj = hoomd.md.pair.lj(r_cut=3.0,nlist=nl)\n",
    "lj.pair_coeff.set('A', 'A', epsilon=1.0, sigma=1.0, alpha=0.0,r_cut=2**(1.0/6.0))\n",
    "lj.pair_coeff.set('A', 'B', epsilon=1.0, sigma=1.0, alpha=0.0,r_cut=2**(1.0/6.0))\n",
    "lj.pair_coeff.set('B', 'B', epsilon=1.0, sigma=1.0, alpha=1.0,r_cut=3.0)\n",
    "lj.set_params(mode='shift')"
   ]
  },
  {
   "cell_type": "markdown",
   "metadata": {},
   "source": [
    "## Integrate the simulation"
   ]
  },
  {
   "cell_type": "code",
   "execution_count": null,
   "metadata": {
    "scrolled": true
   },
   "outputs": [
    {
     "name": "stdout",
     "output_type": "stream",
     "text": [
      "notice(2): -- Neighborlist exclusion statistics -- :\n",
      "notice(2): Particles with 1 exclusions             : 2\n",
      "notice(2): Particles with 2 exclusions             : 998\n",
      "notice(2): Neighbors included by diameter          : no\n",
      "notice(2): Neighbors excluded when in the same body: no\n",
      "** starting run **\n",
      "notice(2): analyze.imd: listening on port 54321\n",
      "Time 00:00:10 | Step 47521 / 1000000 | TPS 4752.03 | ETA 00:03:20\n",
      "Time 00:00:20 | Step 95762 / 1000000 | TPS 4824.03 | ETA 00:03:07\n",
      "notice(2): analyze.imd: accepted connection\n",
      "Time 00:00:30 | Step 140085 / 1000000 | TPS 4432.24 | ETA 00:03:14\n",
      "Time 00:00:40 | Step 179356 / 1000000 | TPS 3927.08 | ETA 00:03:28\n",
      "Time 00:00:50 | Step 217784 / 1000000 | TPS 3842.75 | ETA 00:03:23\n",
      "Time 00:01:00 | Step 257270 / 1000000 | TPS 3948.57 | ETA 00:03:08\n",
      "Time 00:01:10 | Step 298279 / 1000000 | TPS 4100.87 | ETA 00:02:51\n",
      "Time 00:01:20 | Step 342909 / 1000000 | TPS 4462.97 | ETA 00:02:27\n",
      "Time 00:01:30 | Step 389178 / 1000000 | TPS 4626.83 | ETA 00:02:12\n",
      "Time 00:01:40 | Step 433762 / 1000000 | TPS 4458.31 | ETA 00:02:07\n",
      "Time 00:01:50 | Step 478029 / 1000000 | TPS 4426.58 | ETA 00:01:57\n",
      "Time 00:02:00 | Step 524740 / 1000000 | TPS 4671.09 | ETA 00:01:41\n",
      "Time 00:02:10 | Step 572970 / 1000000 | TPS 4822.93 | ETA 00:01:28\n",
      "Time 00:02:20 | Step 623578 / 1000000 | TPS 5060.75 | ETA 00:01:14\n",
      "Time 00:02:30 | Step 673624 / 1000000 | TPS 5004.58 | ETA 00:01:05\n",
      "Time 00:02:40 | Step 723268 / 1000000 | TPS 4964.36 | ETA 00:00:55\n",
      "Time 00:02:50 | Step 772660 / 1000000 | TPS 4939.14 | ETA 00:00:46\n",
      "Time 00:03:00 | Step 822941 / 1000000 | TPS 5028.02 | ETA 00:00:35\n",
      "Time 00:03:10 | Step 872826 / 1000000 | TPS 4988.43 | ETA 00:00:25\n",
      "Time 00:03:20 | Step 923507 / 1000000 | TPS 5068.05 | ETA 00:00:15\n",
      "Time 00:03:30 | Step 974512 / 1000000 | TPS 5100.43 | ETA 00:00:04\n",
      "Time 00:03:35 | Step 1000000 / 1000000 | TPS 5210.9 | ETA 00:00:00\n",
      "Average TPS: 4653.35\n",
      "---------\n",
      "-- Neighborlist stats:\n",
      "106377 normal updates / 3334 forced updates / 0 dangerous updates\n",
      "n_neigh_min: 0 / n_neigh_max: 171 / n_neigh_avg: 39.272\n",
      "shortest rebuild period: 3\n",
      "-- Cell list stats:\n",
      "Dimension: 8, 8, 8\n",
      "n_min    : 0 / n_max: 43 / n_avg: 1.95312\n",
      "** run complete **\n"
     ]
    }
   ],
   "source": [
    "# integrate NVT for a bunch of time steps\n",
    "all = group.all()\n",
    "hoomd.md.integrate.mode_standard(dt=0.005)\n",
    "hoomd.md.integrate.nvt(group=all, kT=1.2, tau=0.5)\n",
    "\n",
    "#save a gsd file at t=0\n",
    "hoomd.dump.gsd(filename=\"random_polymer2.gsd\", overwrite=True, period=None, group=group.all(), time_step=0)\n",
    "# setup the IMD server\n",
    "hoomd.analyze.imd(port=54321, period=100)\n",
    "# run a very long time so the simulation can be watched in VMD\n",
    "run(1e6)"
   ]
  },
  {
   "cell_type": "markdown",
   "metadata": {},
   "source": [
    "The results of this example may be visualized with VMD which can be installed from here: http://www.ks.uiuc.edu/Research/vmd/\n",
    "\n",
    "While running must execute the following command in a terminal:"
   ]
  },
  {
   "cell_type": "code",
   "execution_count": 1,
   "metadata": {},
   "outputs": [
    {
     "name": "stdout",
     "output_type": "stream",
     "text": [
      "mol load gsd random_polymer2.gsd\r\n",
      "set sel [atomselect top all]\r\n",
      "$sel set radius 0.5\r\n",
      "imd connect localhost 54321\r\n"
     ]
    }
   ],
   "source": [
    "#vmd -e imd.vmd\n",
    "!cat imd.vmd"
   ]
  },
  {
   "cell_type": "code",
   "execution_count": null,
   "metadata": {
    "collapsed": true
   },
   "outputs": [],
   "source": []
  }
 ],
 "metadata": {
  "kernelspec": {
   "display_name": "Python 2",
   "language": "python",
   "name": "python2"
  },
  "language_info": {
   "codemirror_mode": {
    "name": "ipython",
    "version": 2
   },
   "file_extension": ".py",
   "mimetype": "text/x-python",
   "name": "python",
   "nbconvert_exporter": "python",
   "pygments_lexer": "ipython2",
   "version": "2.7.11"
  }
 },
 "nbformat": 4,
 "nbformat_minor": 2
}
