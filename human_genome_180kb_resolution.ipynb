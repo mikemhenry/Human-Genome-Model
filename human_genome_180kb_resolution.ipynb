{
 "cells": [
  {
   "cell_type": "markdown",
   "metadata": {},
   "source": [
    "# A Model for the Human Genome\n",
    "This example shows a simple simulation of 24 block copolymers that is a potential model of the Human Genome in hoomdd.\n",
    "\n",
    "The human genome consists of 24 chromosomes with a total size of 3Gb.  Aiden et al. 2014 produced a 1kB resolution (below single gene resolution) Genome Contact Map.  Contact domains (∼185 kb) segregate into six nuclear subcompartments with distinct histone marks.\n",
    "This can be reproduced phenomenologically with this simple block copolymer model.\n",
    "\n",
    "from: https://lost-contact.mit.edu/afs//umich.edu/user/j/o/joaander/Public/hoomd-web/doc/page_example_scripts.html\n",
    "\n",
    "## Initialize\n",
    "First import hoomd and associated libraries and then initialize.  If no mode is given then the fastest processor cpu or gpu will be selected automatically."
   ]
  },
  {
   "cell_type": "code",
   "execution_count": 1,
   "metadata": {
    "scrolled": false
   },
   "outputs": [
    {
     "name": "stdout",
     "output_type": "stream",
     "text": [
      "HOOMD-blue v2.2.2-29-g1e86eec CUDA (8.0) DOUBLE HPMC_MIXED MPI SSE SSE2 \n",
      "Compiled: 01/29/18\n",
      "Copyright 2009-2017 The Regents of the University of Michigan.\n",
      "-----\n",
      "You are using HOOMD-blue. Please cite the following:\n",
      "* J A Anderson, C D Lorenz, and A Travesset. \"General purpose molecular dynamics\n",
      "  simulations fully implemented on graphics processing units\", Journal of\n",
      "  Computational Physics 227 (2008) 5342--5359\n",
      "* J Glaser, T D Nguyen, J A Anderson, P Liu, F Spiga, J A Millan, D C Morse, and\n",
      "  S C Glotzer. \"Strong scaling of general-purpose molecular dynamics simulations\n",
      "  on GPUs\", Computer Physics Communications 192 (2015) 97--107\n",
      "-----\n",
      "notice(2): This system is not compute exclusive, using local rank to select GPUs\n",
      "notice(2): Unable to identify node local rank information\n",
      "notice(2): Using global rank to select GPUs\n",
      "HOOMD-blue is running on the following GPU(s):\n",
      " [0]  GeForce GTX 1060 6GB  10 SM_6.1 @ 1.84 GHz, 6075 MiB DRAM, DIS\n"
     ]
    }
   ],
   "source": [
    "#import hoomd\n",
    "import hoomd.md\n",
    "from hoomd import *\n",
    "from hoomd.deprecated import *\n",
    "#context.initialize(\"--mode=cpu\");\n",
    "context.initialize(\"--mode=gpu\");"
   ]
  },
  {
   "cell_type": "markdown",
   "metadata": {},
   "source": [
    "## Import other libraries and define parameters\n",
    "\n",
    "The human genome has 24 chromasomes."
   ]
  },
  {
   "cell_type": "code",
   "execution_count": 2,
   "metadata": {},
   "outputs": [],
   "source": [
    "import math\n",
    "# parameters\n",
    "phi_P = 0.25\n",
    "n_poly = 24"
   ]
  },
  {
   "cell_type": "markdown",
   "metadata": {},
   "source": [
    "## Define the polymer\n",
    "The average length of a human chromosome is 133 Mb"
   ]
  },
  {
   "cell_type": "code",
   "execution_count": 3,
   "metadata": {},
   "outputs": [
    {
     "data": {
      "text/plain": [
       "133"
      ]
     },
     "execution_count": 3,
     "metadata": {},
     "output_type": "execute_result"
    }
   ],
   "source": [
    "3200/24 #Mb"
   ]
  },
  {
   "cell_type": "markdown",
   "metadata": {},
   "source": [
    "So if we assume that Euchromatin makes up 60% of the genome and heterochromatin makes up 40% then a block copolymer of 1000 beads would have a resolution of approximately 133 kb/bead."
   ]
  },
  {
   "cell_type": "code",
   "execution_count": 4,
   "metadata": {},
   "outputs": [
    {
     "name": "stdout",
     "output_type": "stream",
     "text": [
      "notice(2): Group \"all\" created containing 24000 particles\n"
     ]
    },
    {
     "data": {
      "text/plain": [
       "<hoomd.data.system_data at 0x7f7d83fea390>"
      ]
     },
     "execution_count": 4,
     "metadata": {},
     "output_type": "execute_result"
    }
   ],
   "source": [
    "polymer1 = dict(bond_len=1.2, type=['A']*300 + ['B']*400 + ['A']*300,bond=\"linear\", count=n_poly)\n",
    "# perform some simple math to find the length of the box\n",
    "N = len(polymer1['type']) * polymer1['count']\n",
    "# generate the polymer system\n",
    "init.create_random_polymers(box=data.boxdim(volume=10*math.pi * N / (6.0 * phi_P)), polymers=[polymer1],separation=dict(A=0.35, B=0.35),seed=12)\n"
   ]
  },
  {
   "cell_type": "markdown",
   "metadata": {},
   "source": [
    "## Setup the bonds and force fields"
   ]
  },
  {
   "cell_type": "code",
   "execution_count": 5,
   "metadata": {},
   "outputs": [],
   "source": [
    "# force field setup\n",
    "harmonic = hoomd.md.bond.harmonic()\n",
    "harmonic.bond_coeff.set('polymer', k=330.0, r0=0.84)\n",
    "nl = hoomd.md.nlist.cell();\n",
    "lj = hoomd.md.pair.lj(r_cut=3.0,nlist=nl)\n",
    "\n",
    "lj.pair_coeff.set('A', 'A', epsilon=1.0, sigma=1.0, alpha=0.0,r_cut=2**(1.0/6.0))\n",
    "lj.pair_coeff.set('A', 'B', epsilon=1.0, sigma=1.0, alpha=0.0,r_cut=2**(1.0/6.0))\n",
    "lj.pair_coeff.set('B', 'B', epsilon=1.0, sigma=1.0, alpha=1.0,r_cut=3.0)\n",
    "lj.set_params(mode='shift')\n",
    "                  \n"
   ]
  },
  {
   "cell_type": "markdown",
   "metadata": {},
   "source": [
    "## Integrate the simulation"
   ]
  },
  {
   "cell_type": "code",
   "execution_count": 6,
   "metadata": {},
   "outputs": [
    {
     "data": {
      "text/plain": [
       "<hoomd.md.integrate.nvt at 0x7f7da4334b10>"
      ]
     },
     "execution_count": 6,
     "metadata": {},
     "output_type": "execute_result"
    }
   ],
   "source": [
    "all = group.all()\n",
    "# integrate NVT for a bunch of time steps\n",
    "hoomd.md.integrate.mode_standard(dt=0.005)\n",
    "hoomd.md.integrate.nvt(group=all, kT=1.2, tau=0.5)\n",
    "#hoomd.md.integrate.brownian(group=all, kT=1.2, seed=1)"
   ]
  },
  {
   "cell_type": "markdown",
   "metadata": {},
   "source": [
    "The results of this example may be visualized with VMD which can be installed from here: http://www.ks.uiuc.edu/Research/vmd/"
   ]
  },
  {
   "cell_type": "code",
   "execution_count": null,
   "metadata": {},
   "outputs": [
    {
     "name": "stdout",
     "output_type": "stream",
     "text": [
      "notice(2): -- Neighborlist exclusion statistics -- :\n",
      "notice(2): Particles with 1 exclusions             : 48\n",
      "notice(2): Particles with 2 exclusions             : 23952\n",
      "notice(2): Neighbors included by diameter          : no\n",
      "notice(2): Neighbors excluded when in the same body: no\n",
      "** starting run **\n",
      "notice(2): analyze.imd: listening on port 54321\n",
      "Time 00:00:10 | Step 9083 / 1000000 | TPS 908.247 | ETA 00:18:11\n",
      "notice(2): analyze.imd: accepted connection\n",
      "Time 00:00:20 | Step 14281 / 1000000 | TPS 519.746 | ETA 00:31:36\n",
      "Time 00:00:30 | Step 18541 / 1000000 | TPS 425.613 | ETA 00:38:25\n",
      "Time 00:00:40 | Step 22781 / 1000000 | TPS 423.572 | ETA 00:38:27\n",
      "Time 00:00:50 | Step 26839 / 1000000 | TPS 405.764 | ETA 00:39:58\n",
      "Time 00:01:00 | Step 30841 / 1000000 | TPS 399.92 | ETA 00:40:23\n",
      "Time 00:01:10 | Step 34805 / 1000000 | TPS 396.353 | ETA 00:40:35\n",
      "Time 00:01:20 | Step 38769 / 1000000 | TPS 396.367 | ETA 00:40:25\n",
      "Time 00:01:30 | Step 44046 / 1000000 | TPS 527.658 | ETA 00:30:11\n",
      "Time 00:01:40 | Step 50216 / 1000000 | TPS 616.93 | ETA 00:25:39\n",
      "Time 00:01:50 | Step 56306 / 1000000 | TPS 608.941 | ETA 00:25:49\n",
      "notice(2): analyze.imd: accepted connection\n",
      "Time 00:02:00 | Step 61344 / 1000000 | TPS 503.704 | ETA 00:31:03\n",
      "Time 00:02:10 | Step 65592 / 1000000 | TPS 424.751 | ETA 00:36:39\n",
      "Time 00:02:20 | Step 69821 / 1000000 | TPS 422.632 | ETA 00:36:40\n",
      "Time 00:02:30 | Step 73981 / 1000000 | TPS 415.689 | ETA 00:37:07\n",
      "Time 00:02:40 | Step 78161 / 1000000 | TPS 417.736 | ETA 00:36:46\n",
      "Time 00:02:50 | Step 82329 / 1000000 | TPS 416.791 | ETA 00:36:41\n",
      "Time 00:03:00 | Step 86502 / 1000000 | TPS 417.289 | ETA 00:36:29\n",
      "Time 00:03:10 | Step 90670 / 1000000 | TPS 416.778 | ETA 00:36:21\n",
      "Time 00:03:20 | Step 94814 / 1000000 | TPS 414.292 | ETA 00:36:24\n",
      "Time 00:03:30 | Step 98922 / 1000000 | TPS 410.764 | ETA 00:36:33\n"
     ]
    },
    {
     "name": "stderr",
     "output_type": "stream",
     "text": [
      "**ERROR**: analyze.imd: I/O error while sending coordinates, disconnecting\n"
     ]
    },
    {
     "name": "stdout",
     "output_type": "stream",
     "text": [
      "Time 00:03:40 | Step 103198 / 1000000 | TPS 427.554 | ETA 00:34:57\n",
      "Time"
     ]
    }
   ],
   "source": [
    "hoomd.dump.gsd(filename=\"gsd/hum_gen_24x1000.gsd\", overwrite=True, period=None, group=group.all(), time_step=0)\n",
    "# setup the IMD server\n",
    "hoomd.analyze.imd(port=54321, period=10)\n",
    "# run a very long time so the simulation can be watched in VMD\n",
    "run(1e6)"
   ]
  },
  {
   "cell_type": "markdown",
   "metadata": {},
   "source": [
    "The results of this example may be visualized with VMD which can be installed from here: http://www.ks.uiuc.edu/Research/vmd/\n",
    "\n",
    "While running must execute the following command in a terminal:"
   ]
  },
  {
   "cell_type": "code",
   "execution_count": null,
   "metadata": {},
   "outputs": [],
   "source": [
    "#vmd -e imd2.vmd\n",
    "!cat imd2.vmd"
   ]
  },
  {
   "cell_type": "markdown",
   "metadata": {
    "collapsed": true
   },
   "source": [
    "![](snapshots/hum_gen_100kb.png)"
   ]
  },
  {
   "cell_type": "code",
   "execution_count": null,
   "metadata": {},
   "outputs": [],
   "source": []
  }
 ],
 "metadata": {
  "kernelspec": {
   "display_name": "Python 2",
   "language": "python",
   "name": "python2"
  },
  "language_info": {
   "codemirror_mode": {
    "name": "ipython",
    "version": 2
   },
   "file_extension": ".py",
   "mimetype": "text/x-python",
   "name": "python",
   "nbconvert_exporter": "python",
   "pygments_lexer": "ipython2",
   "version": "2.7.14"
  }
 },
 "nbformat": 4,
 "nbformat_minor": 2
}
