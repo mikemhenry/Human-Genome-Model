{
 "cells": [
  {
   "cell_type": "markdown",
   "metadata": {},
   "source": [
    "# A Model for the Human Chromosome\n",
    "This example shows a simple simulation of a single block copolymer that is a potential model of the Human Chromosome in hoomdd.\n",
    "\n",
    "The human genome consists of 24 chromosomes with a total size of 3Gb.  Aiden et al. 2014 produced a 1kB resolution (below single gene resolution) Genome Contact Map.  Contact domains (∼185 kb) segregate into six nuclear subcompartments with distinct histone marks.\n",
    "This can be reproduced phenomenologically with this simple block copolymer model.\n",
    "\n",
    "from: https://lost-contact.mit.edu/afs//umich.edu/user/j/o/joaander/Public/hoomd-web/doc/page_example_scripts.html\n",
    "\n",
    "## Initialize\n",
    "First import hoomd and associated libraries and then initialize.  If no mode is given then the fastest processor cpu or gpu will be selected automatically."
   ]
  },
  {
   "cell_type": "code",
   "execution_count": 1,
   "metadata": {
    "scrolled": false
   },
   "outputs": [
    {
     "name": "stdout",
     "output_type": "stream",
     "text": [
      "HOOMD-blue 2.2.4-unknown CUDA (8.0) DOUBLE HPMC_MIXED SSE SSE2 SSE3 SSE4_1 SSE4_2 AVX AVX2 \n",
      "Compiled: 03/13/2018\n",
      "Copyright 2009-2017 The Regents of the University of Michigan.\n",
      "-----\n",
      "You are using HOOMD-blue. Please cite the following:\n",
      "* J A Anderson, C D Lorenz, and A Travesset. \"General purpose molecular dynamics\n",
      "  simulations fully implemented on graphics processing units\", Journal of\n",
      "  Computational Physics 227 (2008) 5342--5359\n",
      "* J Glaser, T D Nguyen, J A Anderson, P Liu, F Spiga, J A Millan, D C Morse, and\n",
      "  S C Glotzer. \"Strong scaling of general-purpose molecular dynamics simulations\n",
      "  on GPUs\", Computer Physics Communications 192 (2015) 97--107\n",
      "-----\n",
      "notice(2): This system is not compute exclusive, using local rank to select GPUs\n",
      "HOOMD-blue is running on the following GPU(s):\n",
      " [0]      GeForce GTX 775M   7 SM_3.0 @ 0.797 GHz, 2047 MiB DRAM, DIS\n"
     ]
    }
   ],
   "source": [
    "#import hoomd\n",
    "import hoomd.md\n",
    "from hoomd import *\n",
    "from hoomd.deprecated import *\n",
    "context.initialize(\"\");\n",
    "#context.initialize(\"--mode=cpu\");\n",
    "#context.initialize(\"--mode=gpu\");"
   ]
  },
  {
   "cell_type": "markdown",
   "metadata": {},
   "source": [
    "## Import other libraries and define parameters\n",
    "\n",
    "The human genome has 24 chromasomes but for now we will simulate a single chromosome."
   ]
  },
  {
   "cell_type": "code",
   "execution_count": 2,
   "metadata": {
    "collapsed": true
   },
   "outputs": [],
   "source": [
    "import math\n",
    "# parameters\n",
    "phi_P = 0.25\n",
    "n_poly=1"
   ]
  },
  {
   "cell_type": "markdown",
   "metadata": {},
   "source": [
    "## Define the polymer\n",
    "The average length of a human chromosome is 133 Mb"
   ]
  },
  {
   "cell_type": "code",
   "execution_count": 3,
   "metadata": {},
   "outputs": [
    {
     "name": "stdout",
     "output_type": "stream",
     "text": [
      "['b']*2463 + ['c']*2433 + ['d']*2001 + ['e']*1909 + ['f']*1817 + ['g']*1693 + ['h']*1601 + ['i']*1447 + ['j']*1416 + ['k']*1355 + ['l']*1355 + ['m']*1324 + ['n']*1139 + ['o']*1077 + ['p']*1016 + ['q']*893 + ['u']*800 + ['r']*769 + ['s']*646 + ['t']*615 + ['u']*461 + ['v']*492 + ['w']*1539 + ['x']*585\n",
      "b=0.35, c=0.35, d=0.35, e=0.35, f=0.35, g=0.35, h=0.35, i=0.35, j=0.35, k=0.35, l=0.35, m=0.35, n=0.35, o=0.35, p=0.35, q=0.35, u=0.35, r=0.35, s=0.35, t=0.35, u=0.35, v=0.35, w=0.35, x=0.35, y=0.35\n"
     ]
    }
   ],
   "source": [
    "import numpy as np\n",
    "genome_size=3079843747\n",
    "NChr=24 #Mb\n",
    "Nbeads=genome_size/100000\n",
    "#chromosome=np.linspace(1,Nchromosomes,Nchromosomes,dtype=intp).tolist()\n",
    "chromosome_size=np.fix(np.r_[8,7.9,6.5,6.2,5.9,5.5,5.2,4.7,4.6,4.4,4.4,4.3,3.7,3.5,3.3,2.9,2.6,2.5,2.1,2.0,1.5,1.6,5.0,1.9]/100.0*Nbeads)\n",
    "chromosome=list('bcdefghijklmnopqurstuvwxy')\n",
    "s=\"[\"+\"]*%d+[\".join(map(str, chromosome))+\"]*%d\" \n",
    "t=chromosome_size.astype(int).tolist()\n",
    "#print t\n",
    "#type_string='['+''.join(str(e) for e in [val for pair in zip(chromosome,N*']*', chromosome_size.astype(int),N*'+[]') for val in pair])\n",
    "type_string=['']\n",
    "for i in range(NChr): type_string += \"['%s']*%d\" % (chromosome[i],chromosome_size[i]), \n",
    "type_string=' + '.join(type_string)\n",
    "type_string=type_string[3:]\n",
    "print type_string\n",
    "#separation_radius=dict(b=0.35, c=0.35)\n",
    "separation_radius='=0.35, '.join(chromosome) \n",
    "print ('%s=0.35' % (separation_radius))\n",
    "#print dict(b=0.35, c=0.35, d=0.35, e=0.35, f=0.35, g=0.35, h=0.35, i=0.35, j=0.35, k=0.35, l=0.35, m=0.35, n=0.35, o=0.35, p=0.35, q=0.35, u=0.35, r=0.35, s=0.35, t=0.35)\n",
    "#print dict(u=0.35, v=0.35, w=0.35, x=0.35, y=0.35)"
   ]
  },
  {
   "cell_type": "markdown",
   "metadata": {},
   "source": [
    "So if we assume that Euchromatin makes up 60% of the genome and heterochromatin makes up 40% then a block copolymer of 10000 beads would have a resolution of approximately 13 kb/bead the average size of a human gene.  This would correspond to approximately 18 beads per enhancer promoter loop."
   ]
  },
  {
   "cell_type": "code",
   "execution_count": 4,
   "metadata": {},
   "outputs": [
    {
     "name": "stdout",
     "output_type": "stream",
     "text": [
      "notice(2): Group \"all\" created containing 1000 particles\n"
     ]
    },
    {
     "data": {
      "text/plain": [
       "<hoomd.data.system_data at 0x1211f3ad0>"
      ]
     },
     "execution_count": 4,
     "metadata": {},
     "output_type": "execute_result"
    }
   ],
   "source": [
    "#type_string=['b']*2463 + ['c']*2433 + ['d']*2001 + ['e']*1909 + ['f']*1817 + ['g']*1693 + ['h']*1601 + ['i']*1447 + ['j']*1416 + ['k']*1355 + ['l']*1355 + ['m']*1324 + ['n']*1139 + ['o']*1077 + ['p']*1016 + ['q']*893 + ['u']*800 + ['r']*769 + ['s']*646 + ['t']*615 + ['u']*461 + ['v']*492 + ['w']*1539 + ['x']*585\n",
    "#polymer1 = dict(bond_len=1.2, type=['A']*3000 + ['B']*4000 + ['A']*3000,bond=\"linear\", count=n_poly)\n",
    "#polymer1 = dict(bond_len=1.2, type=type_string,bond=\"linear\", count=n_poly)\n",
    "polymer1 = dict(bond_len=1.2, type=['B']*300,bond=\"linear\", count=n_poly)\n",
    "polymer2 = dict(bond_len=1.2, type=['C']*400,bond=\"linear\", count=n_poly)\n",
    "polymer3 = dict(bond_len=1.2, type=['D']*300,bond=\"linear\", count=n_poly)\n",
    "# perform some simple math to find the length of the box\n",
    "N = len(polymer1['type']) * polymer1['count']+len(polymer2['type']) * polymer2['count']+len(polymer3['type']) * polymer3['count']\n",
    "# generate the polymer system\n",
    "#separation_radius=dict(b=0.35, c=0.35, d=0.35, e=0.35, f=0.35, g=0.35, h=0.35, i=0.35, j=0.35, k=0.35, l=0.35, m=0.35, n=0.35, o=0.35, p=0.35, q=0.35, u=0.35, r=0.35, s=0.35, t=0.35)\n",
    "#separation_radius.update(dict(u=0.35, v=0.35, w=0.35, x=0.35, y=0.35))\n",
    "separation_radius=dict(B=0.35, C=0.35, D=0.35)\n",
    "init.create_random_polymers(box=data.boxdim(volume=10*math.pi * N / (6.0 * phi_P)), polymers=[polymer1,polymer2,polymer3],separation=separation_radius,seed=12)\n"
   ]
  },
  {
   "cell_type": "markdown",
   "metadata": {},
   "source": [
    "## Setup the bonds and force fields"
   ]
  },
  {
   "cell_type": "code",
   "execution_count": 5,
   "metadata": {
    "collapsed": true
   },
   "outputs": [],
   "source": [
    "# force field setup\n",
    "harmonic = hoomd.md.bond.harmonic()\n",
    "harmonic.bond_coeff.set('polymer', k=330.0, r0=0.84)\n",
    "nl = hoomd.md.nlist.cell();\n",
    "lj = hoomd.md.pair.lj(nlist=nl, r_cut=3.0)\n",
    "lj.pair_coeff.set('B','B', epsilon=1.0, sigma=1.0, alpha=1.0)\n",
    "lj.pair_coeff.set('C','C', epsilon=1.0, sigma=1.0, alpha=1.0)\n",
    "lj.pair_coeff.set('D','D', epsilon=1.0, sigma=1.0, alpha=1.0)\n",
    "lj.pair_coeff.set('B','C', epsilon=1.0, sigma=1.0, alpha=0.0, r_cut=2**(1.0/6.0))\n",
    "lj.pair_coeff.set('B','D', epsilon=1.0, sigma=1.0, alpha=0.0, r_cut=2**(1.0/6.0))\n",
    "lj.pair_coeff.set('C','D', epsilon=1.0, sigma=1.0, alpha=0.0, r_cut=2**(1.0/6.0))\n",
    "lj.set_params(mode='shift')"
   ]
  },
  {
   "cell_type": "markdown",
   "metadata": {},
   "source": [
    "## Special Pairs will create our Contact Domains (not working yet)"
   ]
  },
  {
   "cell_type": "code",
   "execution_count": 6,
   "metadata": {
    "collapsed": true
   },
   "outputs": [],
   "source": [
    "#CTCF = hoomd.md.special_pair()\n",
    "#lj_ctcf = hoomd.md.special_pair.lj(name=\"CTCF\")\n",
    "#lj_ctcf.pair_coeff.set('A','A', epsilon=1.0, sigma=1.0, r_cut=3)\n",
    "#lj_ctcf.set_params(mode='shift')"
   ]
  },
  {
   "cell_type": "markdown",
   "metadata": {},
   "source": [
    "## Integrate the simulation"
   ]
  },
  {
   "cell_type": "code",
   "execution_count": 7,
   "metadata": {},
   "outputs": [
    {
     "data": {
      "text/plain": [
       "<hoomd.md.integrate.nvt at 0x12120ac10>"
      ]
     },
     "execution_count": 7,
     "metadata": {},
     "output_type": "execute_result"
    }
   ],
   "source": [
    "all = group.all()\n",
    "# integrate NVT for a bunch of time steps\n",
    "hoomd.md.integrate.mode_standard(dt=0.005)\n",
    "hoomd.md.integrate.nvt(group=all, kT=1.2, tau=0.5)\n",
    "#hoomd.md.integrate.brownian(group=all, kT=1.2, seed=1)"
   ]
  },
  {
   "cell_type": "markdown",
   "metadata": {},
   "source": [
    "The results of this example may be visualized with VMD which can be installed from here: http://www.ks.uiuc.edu/Research/vmd/"
   ]
  },
  {
   "cell_type": "code",
   "execution_count": 8,
   "metadata": {},
   "outputs": [
    {
     "name": "stdout",
     "output_type": "stream",
     "text": [
      "notice(2): -- Neighborlist exclusion statistics -- :\n",
      "notice(2): Particles with 1 exclusions             : 6\n",
      "notice(2): Particles with 2 exclusions             : 994\n",
      "notice(2): Neighbors included by diameter          : no\n",
      "notice(2): Neighbors excluded when in the same body: no\n",
      "** starting run **\n",
      "notice(2): analyze.imd: listening on port 54321\n",
      "Time 00:00:10 | Step 21771 / 1000000 | TPS 2176.95 | ETA 00:07:29\n",
      "Time 00:00:20 | Step 42593 / 1000000 | TPS 2082.15 | ETA 00:07:39\n",
      "Time 00:00:30 | Step 59720 / 1000000 | TPS 1712.67 | ETA 00:09:09\n",
      "Time 00:00:40 | Step 83284 / 1000000 | TPS 2356.38 | ETA 00:06:29\n",
      "Time 00:00:50 | Step 102823 / 1000000 | TPS 1953.88 | ETA 00:07:39\n",
      "Time 00:01:00 | Step 118279 / 1000000 | TPS 1545.56 | ETA 00:09:30\n",
      "Time 00:01:10 | Step 143166 / 1000000 | TPS 2488.66 | ETA 00:05:44\n",
      "Time 00:01:20 | Step 164505 / 1000000 | TPS 2133.88 | ETA 00:06:31\n",
      "Time 00:01:30 | Step 183279 / 1000000 | TPS 1877.35 | ETA 00:07:15\n",
      "Time 00:01:40 | Step 205453 / 1000000 | TPS 2217.29 | ETA 00:05:58\n",
      "Time 00:01:50 | Step 228798 / 1000000 | TPS 2334.44 | ETA 00:05:30\n",
      "Time 00:02:00 | Step 247919 / 1000000 | TPS 1911.99 | ETA 00:06:33\n",
      "Time 00:02:10 | Step 271708 / 1000000 | TPS 2378.87 | ETA 00:05:06\n",
      "Time 00:02:20 | Step 293382 / 1000000 | TPS 2167.38 | ETA 00:05:26\n",
      "Time 00:02:30 | Step 310680 / 1000000 | TPS 1729.79 | ETA 00:06:38\n",
      "Time 00:02:40 | Step 334901 / 1000000 | TPS 2422.06 | ETA 00:04:34\n",
      "Time 00:02:50 | Step 354793 / 1000000 | TPS 1989.14 | ETA 00:05:24\n",
      "Time 00:03:00 | Step 372003 / 1000000 | TPS 1720.96 | ETA 00:06:04\n",
      "Time 00:03:10 | Step 395741 / 1000000 | TPS 2373.32 | ETA 00:04:14\n",
      "Time 00:03:20 | Step 417129 / 1000000 | TPS 2138.77 | ETA 00:04:32\n",
      "Time 00:03:30 | Step 437093 / 1000000 | TPS 1996.37 | ETA 00:04:41\n",
      "Time 00:03:40 | Step 458881 / 1000000 | TPS 2178.76 | ETA 00:04:08\n",
      "Time 00:03:50 | Step 484078 / 1000000 | TPS 2518.33 | ETA 00:03:24\n",
      "Time 00:04:00 | Step 502421 / 1000000 | TPS 1834.29 | ETA 00:04:31\n",
      "Time 00:04:10 | Step 525153 / 1000000 | TPS 2273.14 | ETA 00:03:28\n",
      "Time 00:04:20 | Step 550688 / 1000000 | TPS 2553.42 | ETA 00:02:55\n",
      "Time 00:04:30 | Step 568417 / 1000000 | TPS 1772.77 | ETA 00:04:03\n",
      "Time 00:04:40 | Step 590629 / 1000000 | TPS 2221.11 | ETA 00:03:04\n",
      "Time 00:04:50 | Step 606225 / 1000000 | TPS 1559.57 | ETA 00:04:12\n",
      "Time 00:05:00 | Step 627186 / 1000000 | TPS 2096.07 | ETA 00:02:57\n",
      "Time 00:05:10 | Step 641048 / 1000000 | TPS 1386.19 | ETA 00:04:18\n",
      "Time 00:05:20 | Step 662914 / 1000000 | TPS 2186 | ETA 00:02:34\n",
      "Time 00:05:30 | Step 686280 / 1000000 | TPS 2336.59 | ETA 00:02:14\n",
      "Time 00:05:40 | Step 704763 / 1000000 | TPS 1848.27 | ETA 00:02:39\n",
      "Time 00:05:50 | Step 726771 / 1000000 | TPS 2200.77 | ETA 00:02:04\n",
      "Time 00:06:00 | Step 749816 / 1000000 | TPS 2304.13 | ETA 00:01:48\n",
      "Time 00:06:10 | Step 767014 / 1000000 | TPS 1719.76 | ETA 00:02:15\n",
      "Time 00:06:20 | Step 787355 / 1000000 | TPS 2033.8 | ETA 00:01:44\n",
      "Time 00:06:30 | Step 809550 / 1000000 | TPS 2219.49 | ETA 00:01:25\n",
      "Time 00:06:40 | Step 828448 / 1000000 | TPS 1889.75 | ETA 00:01:30\n",
      "Time 00:06:50 | Step 849695 / 1000000 | TPS 2124.68 | ETA 00:01:10\n",
      "Time 00:07:00 | Step 875291 / 1000000 | TPS 2559.5 | ETA 00:00:48\n",
      "Time 00:07:10 | Step 891580 / 1000000 | TPS 1628.86 | ETA 00:01:06\n",
      "Time 00:07:20 | Step 914536 / 1000000 | TPS 2295.57 | ETA 00:00:37\n",
      "Time 00:07:30 | Step 936002 / 1000000 | TPS 2146.57 | ETA 00:00:29\n",
      "Time 00:07:40 | Step 951727 / 1000000 | TPS 1572.47 | ETA 00:00:30\n",
      "Time 00:07:50 | Step 975775 / 1000000 | TPS 2404.76 | ETA 00:00:10\n",
      "Time 00:08:00 | Step 997111 / 1000000 | TPS 2133.47 | ETA 00:00:01\n",
      "Time 00:08:01 | Step 1000000 / 1000000 | TPS 2756.71 | ETA 00:00:00\n",
      "Average TPS: 2078.69\n",
      "---------\n",
      "-- Neighborlist stats:\n",
      "102804 normal updates / 3334 forced updates / 0 dangerous updates\n",
      "n_neigh_min: 6 / n_neigh_max: 172 / n_neigh_avg: 86.66\n",
      "shortest rebuild period: 3\n",
      "-- Cell list stats:\n",
      "Dimension: 8, 8, 8\n",
      "n_min    : 0 / n_max: 45 / n_avg: 1.95312\n",
      "** run complete **\n"
     ]
    }
   ],
   "source": [
    "#hoomd.dump.gsd(filename=\"hum_gen_24x1000.gsd\", overwrite=True, period=None, group=group.all(), time_step=0)\n",
    "hoomd.dump.gsd(\"gsd/24xchromosomes_10000_0.gsd\", period=None, group=all, overwrite=True, time_step=0);\n",
    "# setup the IMD server\n",
    "hoomd.analyze.imd(port=54321, period=100)\n",
    "# run a very long time so the simulation can be watched in VMD\n",
    "run(1e6)"
   ]
  },
  {
   "cell_type": "markdown",
   "metadata": {},
   "source": [
    "The results of this example may be visualized with VMD which can be installed from here: http://www.ks.uiuc.edu/Research/vmd/\n",
    "\n",
    "While running must execute the following command in a terminal:"
   ]
  },
  {
   "cell_type": "code",
   "execution_count": 9,
   "metadata": {},
   "outputs": [
    {
     "name": "stdout",
     "output_type": "stream",
     "text": [
      "mol load gsd gsd/24xchromosomes_10000_0.gsd\r\n",
      "#set sel [atomselect top all]\r\n",
      "#$sel set radius 0\r\n",
      "imd connect localhost 54321\r\n"
     ]
    }
   ],
   "source": [
    "#vmd -e imd6.vmd\n",
    "!cat imd6.vmd"
   ]
  }
 ],
 "metadata": {
  "kernelspec": {
   "display_name": "Python 2",
   "language": "python",
   "name": "python2"
  },
  "language_info": {
   "codemirror_mode": {
    "name": "ipython",
    "version": 2
   },
   "file_extension": ".py",
   "mimetype": "text/x-python",
   "name": "python",
   "nbconvert_exporter": "python",
   "pygments_lexer": "ipython2",
   "version": "2.7.14"
  }
 },
 "nbformat": 4,
 "nbformat_minor": 2
}
