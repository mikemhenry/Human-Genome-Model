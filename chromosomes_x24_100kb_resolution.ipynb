{
 "cells": [
  {
   "cell_type": "markdown",
   "metadata": {},
   "source": [
    "# A Model for the Human Chromosome\n",
    "This example shows a simple simulation of a single block copolymer that is a potential model of the Human Chromosome in hoomdd.\n",
    "\n",
    "The human genome consists of 24 chromosomes with a total size of 3Gb.  Aiden et al. 2014 produced a 1kB resolution (below single gene resolution) Genome Contact Map.  Contact domains (∼185 kb) segregate into six nuclear subcompartments with distinct histone marks.\n",
    "This can be reproduced phenomenologically with this simple block copolymer model.\n",
    "\n",
    "from: https://lost-contact.mit.edu/afs//umich.edu/user/j/o/joaander/Public/hoomd-web/doc/page_example_scripts.html\n",
    "\n",
    "## Initialize\n",
    "First import hoomd and associated libraries and then initialize.  If no mode is given then the fastest processor cpu or gpu will be selected automatically."
   ]
  },
  {
   "cell_type": "code",
   "execution_count": 1,
   "metadata": {
    "scrolled": false
   },
   "outputs": [
    {
     "name": "stdout",
     "output_type": "stream",
     "text": [
      "HOOMD-blue v2.2.2-29-g1e86eec CUDA (8.0) DOUBLE HPMC_MIXED MPI SSE SSE2 \n",
      "Compiled: 01/29/18\n",
      "Copyright 2009-2017 The Regents of the University of Michigan.\n",
      "-----\n",
      "You are using HOOMD-blue. Please cite the following:\n",
      "* J A Anderson, C D Lorenz, and A Travesset. \"General purpose molecular dynamics\n",
      "  simulations fully implemented on graphics processing units\", Journal of\n",
      "  Computational Physics 227 (2008) 5342--5359\n",
      "* J Glaser, T D Nguyen, J A Anderson, P Liu, F Spiga, J A Millan, D C Morse, and\n",
      "  S C Glotzer. \"Strong scaling of general-purpose molecular dynamics simulations\n",
      "  on GPUs\", Computer Physics Communications 192 (2015) 97--107\n",
      "-----\n",
      "notice(2): This system is not compute exclusive, using local rank to select GPUs\n",
      "notice(2): Unable to identify node local rank information\n",
      "notice(2): Using global rank to select GPUs\n",
      "HOOMD-blue is running on the following GPU(s):\n",
      " [0]  GeForce GTX 1060 6GB  10 SM_6.1 @ 1.84 GHz, 6075 MiB DRAM, DIS\n"
     ]
    }
   ],
   "source": [
    "#import hoomd\n",
    "import hoomd.md\n",
    "from hoomd import *\n",
    "from hoomd.deprecated import *\n",
    "#context.initialize(\"--mode=cpu\");\n",
    "context.initialize(\"--mode=gpu\");"
   ]
  },
  {
   "cell_type": "markdown",
   "metadata": {},
   "source": [
    "## Import other libraries and define parameters\n",
    "\n",
    "The human genome has 24 chromasomes but for now we will simulate a single chromosome."
   ]
  },
  {
   "cell_type": "code",
   "execution_count": 2,
   "metadata": {},
   "outputs": [],
   "source": [
    "import math\n",
    "import numpy as np\n",
    "# parameters\n",
    "phi_P = 0.25\n",
    "n_poly = 1"
   ]
  },
  {
   "cell_type": "markdown",
   "metadata": {},
   "source": [
    "## Define the polymer\n",
    "The average length of a human chromosome is 133 Mb"
   ]
  },
  {
   "cell_type": "code",
   "execution_count": 3,
   "metadata": {},
   "outputs": [
    {
     "name": "stdout",
     "output_type": "stream",
     "text": [
      "[b]*%d+[c]*%d+[d]*%d+[e]*%d+[f]*%d+[g]*%d+[h]*%d+[i]*%d+[j]*%d+[k]*%d+[l]*%d+[m]*%d+[n]*%d+[o]*%d+[p]*%d+[q]*%d+[u]*%d+[r]*%d+[s]*%d+[t]*%d+[u]*%d+[v]*%d+[w]*%d+[x]*%d+[y]*%d\n",
      "['b', 24638, 'c', 24330, 'd', 20018, 'e', 19095, 'f', 18171, 'g', 16939, 'h', 16015, 'i', 14475, 'j', 14167, 'k', 13551, 'l', 13551, 'm', 13243, 'n', 11395, 'o', 10779, 'p', 10163, 'q', 8931, 'u', 8007, 'r', 7699, 's', 6467, 't', 6159, 'u', 4619, 'v', 4927, 'w', 15399, 'x', 5851]\n"
     ]
    }
   ],
   "source": [
    "genome_size=3079843747\n",
    "Nchromosomes=24 #Mb\n",
    "Nbeads=genome_size/10000\n",
    "#chromosome=np.linspace(1,Nchromosomes,Nchromosomes,dtype=intp).tolist()\n",
    "chromosome_size=np.fix(np.r_[8,7.9,6.5,6.2,5.9,5.5,5.2,4.7,4.6,4.4,4.4,4.3,3.7,3.5,3.3,2.9,2.6,2.5,2.1,2.0,1.5,1.6,5.0,1.9]/100.0*Nbeads)\n",
    "chromosome=list('bcdefghijklmnopqurstuvwxy')\n",
    "print(\"[\"+\"]*%d+[\".join(map(str, chromosome))+\"]*%d\")\n",
    "print([val for pair in zip(chromosome, chromosome_size.astype(int)) for val in pair])"
   ]
  },
  {
   "cell_type": "markdown",
   "metadata": {},
   "source": [
    "So if we assume that Euchromatin makes up 60% of the genome and heterochromatin makes up 40% then a block copolymer of 10000 beads would have a resolution of approximately 13 kb/bead the average size of a human gene.  This would correspond to approximately 18 beads per enhancer promoter loop."
   ]
  },
  {
   "cell_type": "code",
   "execution_count": 4,
   "metadata": {},
   "outputs": [
    {
     "name": "stdout",
     "output_type": "stream",
     "text": [
      "notice(2): Group \"all\" created containing 1000 particles\n"
     ]
    },
    {
     "data": {
      "text/plain": [
       "<hoomd.data.system_data at 0x7f9679c793d0>"
      ]
     },
     "execution_count": 4,
     "metadata": {},
     "output_type": "execute_result"
    }
   ],
   "source": [
    "#type_string=dict()\n",
    "#polymer1 = dict(bond_len=1.2, type=,bond=\"linear\", count=Nchromosomes)\n",
    "polymer1 = dict(bond_len=1.2, type=['b']*300 + ['c']*400 + ['b']*300,bond=\"linear\", count=n_poly)\n",
    "# perform some simple math to find the length of the box\n",
    "N = len(polymer1['type']) * polymer1['count']\n",
    "# generate the polymer system\n",
    "init.create_random_polymers(box=data.boxdim(volume=10*math.pi * N / (6.0 * phi_P)), polymers=[polymer1],separation=dict(b=0.35, c=0.35),seed=12)\n"
   ]
  },
  {
   "cell_type": "markdown",
   "metadata": {},
   "source": [
    "## Setup the bonds and force fields"
   ]
  },
  {
   "cell_type": "code",
   "execution_count": 5,
   "metadata": {},
   "outputs": [],
   "source": [
    "# force field setup\n",
    "harmonic = hoomd.md.bond.harmonic()\n",
    "harmonic.bond_coeff.set('polymer', k=330.0, r0=0.84)\n",
    "nl = hoomd.md.nlist.cell();\n",
    "lj = hoomd.md.pair.lj(nlist=nl, r_cut=3.0)\n",
    "lj.pair_coeff.set('b', 'b', epsilon=1.0, sigma=1.0, alpha=0.0, r_cut=2**(1.0/6.0))\n",
    "lj.pair_coeff.set('b', 'c', epsilon=1.0, sigma=1.0, alpha=0.0, r_cut=2**(1.0/6.0))\n",
    "lj.pair_coeff.set('c', 'c', epsilon=1.0, sigma=1.0, alpha=1.0)\n",
    "lj.set_params(mode='shift')\n",
    "                  \n"
   ]
  },
  {
   "cell_type": "markdown",
   "metadata": {},
   "source": [
    "## Special Pairs will create our Contact Domains (not working yet)"
   ]
  },
  {
   "cell_type": "code",
   "execution_count": 6,
   "metadata": {},
   "outputs": [],
   "source": [
    "#CTCF = hoomd.md.special_pair()\n",
    "#lj_ctcf = hoomd.md.special_pair.lj(name=\"CTCF\")\n",
    "#lj_ctcf.pair_coeff.set('A','A', epsilon=1.0, sigma=1.0, r_cut=3)\n",
    "#lj_ctcf.set_params(mode='shift')"
   ]
  },
  {
   "cell_type": "markdown",
   "metadata": {},
   "source": [
    "## Integrate the simulation"
   ]
  },
  {
   "cell_type": "code",
   "execution_count": 7,
   "metadata": {},
   "outputs": [
    {
     "data": {
      "text/plain": [
       "<hoomd.md.integrate.nvt at 0x7f9681607110>"
      ]
     },
     "execution_count": 7,
     "metadata": {},
     "output_type": "execute_result"
    }
   ],
   "source": [
    "all = group.all()\n",
    "# integrate NVT for a bunch of time steps\n",
    "hoomd.md.integrate.mode_standard(dt=0.005)\n",
    "hoomd.md.integrate.nvt(group=all, kT=1.2, tau=0.5)\n",
    "#hoomd.md.integrate.brownian(group=all, kT=1.2, seed=1)"
   ]
  },
  {
   "cell_type": "markdown",
   "metadata": {},
   "source": [
    "The results of this example may be visualized with VMD which can be installed from here: http://www.ks.uiuc.edu/Research/vmd/"
   ]
  },
  {
   "cell_type": "code",
   "execution_count": 8,
   "metadata": {},
   "outputs": [
    {
     "name": "stdout",
     "output_type": "stream",
     "text": [
      "notice(2): -- Neighborlist exclusion statistics -- :\n",
      "notice(2): Particles with 1 exclusions             : 2\n",
      "notice(2): Particles with 2 exclusions             : 998\n",
      "notice(2): Neighbors included by diameter          : no\n",
      "notice(2): Neighbors excluded when in the same body: no\n",
      "** starting run **\n",
      "notice(2): analyze.imd: listening on port 54321\n",
      "Time 00:00:10 | Step 87362 / 1000000 | TPS 8736.16 | ETA 00:01:44\n",
      "notice(2): analyze.imd: accepted connection\n",
      "Time 00:00:20 | Step 172601 / 1000000 | TPS 8523.89 | ETA 00:01:37\n",
      "Time 00:00:30 | Step 254955 / 1000000 | TPS 8235.38 | ETA 00:01:30\n",
      "Time 00:00:40 | Step 334753 / 1000000 | TPS 7979.78 | ETA 00:01:23\n",
      "Time 00:00:50 | Step 417526 / 1000000 | TPS 8277.18 | ETA 00:01:10\n",
      "Time 00:01:00 | Step 507377 / 1000000 | TPS 8985.02 | ETA 00:00:54\n",
      "Time 00:01:10 | Step 594651 / 1000000 | TPS 8727.32 | ETA 00:00:46\n",
      "Time 00:01:20 | Step 684422 / 1000000 | TPS 8977.03 | ETA 00:00:35\n",
      "Time 00:01:30 | Step 773940 / 1000000 | TPS 8951.64 | ETA 00:00:25\n",
      "Time 00:01:40 | Step 866210 / 1000000 | TPS 9226.94 | ETA 00:00:14\n",
      "Time 00:01:50 | Step 959263 / 1000000 | TPS 9305.28 | ETA 00:00:04\n",
      "Time 00:01:54 | Step 1000000 / 1000000 | TPS 9659.79 | ETA 00:00:00\n",
      "Average TPS: 8754.87\n",
      "---------\n",
      "-- Neighborlist stats:\n",
      "106379 normal updates / 3334 forced updates / 0 dangerous updates\n",
      "n_neigh_min: 0 / n_neigh_max: 177 / n_neigh_avg: 40.25\n",
      "shortest rebuild period: 3\n",
      "-- Cell list stats:\n",
      "Dimension: 8, 8, 8\n",
      "n_min    : 0 / n_max: 45 / n_avg: 1.95312\n",
      "** run complete **\n"
     ]
    }
   ],
   "source": [
    "#hoomd.dump.gsd(filename=\"hum_gen_24x1000.gsd\", overwrite=True, period=None, group=group.all(), time_step=0)\n",
    "hoomd.dump.gsd(\"gsd/24xchromosomes_10000_0.gsd\", period=None, group=all, overwrite=True, time_step=0);\n",
    "# setup the IMD server\n",
    "hoomd.analyze.imd(port=54321, period=100)\n",
    "# run a very long time so the simulation can be watched in VMD\n",
    "run(1e6)"
   ]
  },
  {
   "cell_type": "markdown",
   "metadata": {},
   "source": [
    "The results of this example may be visualized with VMD which can be installed from here: http://www.ks.uiuc.edu/Research/vmd/\n",
    "\n",
    "While running must execute the following command in a terminal:"
   ]
  },
  {
   "cell_type": "code",
   "execution_count": 9,
   "metadata": {},
   "outputs": [
    {
     "name": "stdout",
     "output_type": "stream",
     "text": [
      "mol load gsd gsd/24xchromosomes_10000_0.gsd\r\n",
      "#set sel [atomselect top all]\r\n",
      "#$sel set radius 0\r\n",
      "imd connect localhost 54321\r\n"
     ]
    }
   ],
   "source": [
    "#vmd -e imd6.vmd\n",
    "!cat imd6.vmd"
   ]
  },
  {
   "cell_type": "markdown",
   "metadata": {
    "collapsed": true
   },
   "source": [
    "![](snapshots/chromosome_10kb.png)"
   ]
  },
  {
   "cell_type": "code",
   "execution_count": null,
   "metadata": {},
   "outputs": [],
   "source": []
  }
 ],
 "metadata": {
  "kernelspec": {
   "display_name": "Python 2",
   "language": "python",
   "name": "python2"
  },
  "language_info": {
   "codemirror_mode": {
    "name": "ipython",
    "version": 2
   },
   "file_extension": ".py",
   "mimetype": "text/x-python",
   "name": "python",
   "nbconvert_exporter": "python",
   "pygments_lexer": "ipython2",
   "version": "2.7.14"
  }
 },
 "nbformat": 4,
 "nbformat_minor": 2
}
