{
 "cells": [
  {
   "cell_type": "markdown",
   "metadata": {},
   "source": [
    "# A Model for the Human Chromosome\n",
    "This example shows a simple simulation of a single block copolymer that is a potential model of the Human Chromosome in hoomdd.\n",
    "\n",
    "The human genome consists of 24 chromosomes with a total size of 3Gb.  Aiden et al. 2014 produced a 1kB resolution (below single gene resolution) Genome Contact Map.  Contact domains (∼185 kb) segregate into six nuclear subcompartments with distinct histone marks.\n",
    "This can be reproduced phenomenologically with this simple block copolymer model.\n",
    "\n",
    "from: https://lost-contact.mit.edu/afs//umich.edu/user/j/o/joaander/Public/hoomd-web/doc/page_example_scripts.html\n",
    "\n",
    "## Initialize\n",
    "First import hoomd and associated libraries and then initialize.  If no mode is given then the fastest processor cpu or gpu will be selected automatically."
   ]
  },
  {
   "cell_type": "code",
   "execution_count": 1,
   "metadata": {
    "scrolled": false
   },
   "outputs": [
    {
     "name": "stdout",
     "output_type": "stream",
     "text": [
      "HOOMD-blue v2.2.2-29-g1e86eec CUDA (8.0) DOUBLE HPMC_MIXED MPI SSE SSE2 \n",
      "Compiled: 01/29/18\n",
      "Copyright 2009-2017 The Regents of the University of Michigan.\n",
      "-----\n",
      "You are using HOOMD-blue. Please cite the following:\n",
      "* J A Anderson, C D Lorenz, and A Travesset. \"General purpose molecular dynamics\n",
      "  simulations fully implemented on graphics processing units\", Journal of\n",
      "  Computational Physics 227 (2008) 5342--5359\n",
      "* J Glaser, T D Nguyen, J A Anderson, P Liu, F Spiga, J A Millan, D C Morse, and\n",
      "  S C Glotzer. \"Strong scaling of general-purpose molecular dynamics simulations\n",
      "  on GPUs\", Computer Physics Communications 192 (2015) 97--107\n",
      "-----\n",
      "notice(2): This system is not compute exclusive, using local rank to select GPUs\n",
      "notice(2): Unable to identify node local rank information\n",
      "notice(2): Using global rank to select GPUs\n",
      "HOOMD-blue is running on the following GPU(s):\n",
      " [0]  GeForce GTX 1060 6GB  10 SM_6.1 @ 1.84 GHz, 6075 MiB DRAM, DIS\n"
     ]
    }
   ],
   "source": [
    "#import hoomd\n",
    "import hoomd.md\n",
    "from hoomd import *\n",
    "from hoomd.deprecated import *\n",
    "context.initialize(\"\");\n",
    "#context.initialize(\"--mode=cpu\");\n",
    "#context.initialize(\"--mode=gpu\");"
   ]
  },
  {
   "cell_type": "markdown",
   "metadata": {},
   "source": [
    "## Import other libraries and define parameters\n",
    "\n",
    "The human genome has 24 chromasomes but for now we will simulate a single chromosome."
   ]
  },
  {
   "cell_type": "code",
   "execution_count": 2,
   "metadata": {},
   "outputs": [],
   "source": [
    "import math\n",
    "# parameters\n",
    "phi_P = 0.25\n",
    "n_poly=1"
   ]
  },
  {
   "cell_type": "markdown",
   "metadata": {},
   "source": [
    "## Define the polymer\n",
    "The average length of a human chromosome is 133 Mb"
   ]
  },
  {
   "cell_type": "code",
   "execution_count": 3,
   "metadata": {},
   "outputs": [
    {
     "name": "stdout",
     "output_type": "stream",
     "text": [
      "['b']*2463 + ['c']*2433 + ['d']*2001 + ['e']*1909 + ['f']*1817 + ['g']*1693 + ['h']*1601 + ['i']*1447 + ['j']*1416 + ['k']*1355 + ['l']*1355 + ['m']*1324 + ['n']*1139 + ['o']*1077 + ['p']*1016 + ['q']*893 + ['u']*800 + ['r']*769 + ['s']*646 + ['t']*615 + ['u']*461 + ['v']*492 + ['w']*1539 + ['x']*585\n",
      "b=0.35, c=0.35, d=0.35, e=0.35, f=0.35, g=0.35, h=0.35, i=0.35, j=0.35, k=0.35, l=0.35, m=0.35, n=0.35, o=0.35, p=0.35, q=0.35, u=0.35, r=0.35, s=0.35, t=0.35, u=0.35, v=0.35, w=0.35, x=0.35, y=0.35\n"
     ]
    }
   ],
   "source": [
    "import numpy as np\n",
    "genome_size=3079843747\n",
    "NChr=24 #Mb\n",
    "Nbeads=genome_size/100000\n",
    "#chromosome=np.linspace(1,Nchromosomes,Nchromosomes,dtype=intp).tolist()\n",
    "chromosome_size=np.fix(np.r_[8,7.9,6.5,6.2,5.9,5.5,5.2,4.7,4.6,4.4,4.4,4.3,3.7,3.5,3.3,2.9,2.6,2.5,2.1,2.0,1.5,1.6,5.0,1.9]/100.0*Nbeads)\n",
    "chromosome=list('bcdefghijklmnopqurstuvwxy')\n",
    "s=\"[\"+\"]*%d+[\".join(map(str, chromosome))+\"]*%d\" \n",
    "t=chromosome_size.astype(int).tolist()\n",
    "#print t\n",
    "#type_string='['+''.join(str(e) for e in [val for pair in zip(chromosome,N*']*', chromosome_size.astype(int),N*'+[]') for val in pair])\n",
    "type_string=['']\n",
    "for i in range(NChr): type_string += \"['%s']*%d\" % (chromosome[i],chromosome_size[i]), \n",
    "type_string=' + '.join(type_string)\n",
    "type_string=type_string[3:]\n",
    "print type_string\n",
    "#separation_radius=dict(b=0.35, c=0.35)\n",
    "separation_radius='=0.35, '.join(chromosome) \n",
    "print ('%s=0.35' % (separation_radius))\n",
    "#print dict(b=0.35, c=0.35, d=0.35, e=0.35, f=0.35, g=0.35, h=0.35, i=0.35, j=0.35, k=0.35, l=0.35, m=0.35, n=0.35, o=0.35, p=0.35, q=0.35, u=0.35, r=0.35, s=0.35, t=0.35)\n",
    "#print dict(u=0.35, v=0.35, w=0.35, x=0.35, y=0.35)"
   ]
  },
  {
   "cell_type": "markdown",
   "metadata": {},
   "source": [
    "So if we assume that Euchromatin makes up 60% of the genome and heterochromatin makes up 40% then a block copolymer of 10000 beads would have a resolution of approximately 13 kb/bead the average size of a human gene.  This would correspond to approximately 18 beads per enhancer promoter loop."
   ]
  },
  {
   "cell_type": "code",
   "execution_count": 4,
   "metadata": {},
   "outputs": [
    {
     "name": "stdout",
     "output_type": "stream",
     "text": [
      "notice(2): Group \"all\" created containing 30846 particles\n"
     ]
    },
    {
     "data": {
      "text/plain": [
       "<hoomd.data.system_data at 0x7f3d79baacd0>"
      ]
     },
     "execution_count": 4,
     "metadata": {},
     "output_type": "execute_result"
    }
   ],
   "source": [
    "type_string=['b']*2463 + ['c']*2433 + ['d']*2001 + ['e']*1909 + ['f']*1817 + ['g']*1693 + ['h']*1601 + ['i']*1447 + ['j']*1416 + ['k']*1355 + ['l']*1355 + ['m']*1324 + ['n']*1139 + ['o']*1077 + ['p']*1016 + ['q']*893 + ['u']*800 + ['r']*769 + ['s']*646 + ['t']*615 + ['u']*461 + ['v']*492 + ['w']*1539 + ['x']*585\n",
    "#polymer1 = dict(bond_len=1.2, type=['A']*3000 + ['B']*4000 + ['A']*3000,bond=\"linear\", count=n_poly)\n",
    "polymer1 = dict(bond_len=1.2, type=type_string,bond=\"linear\", count=n_poly)\n",
    "#polymer1 = dict(bond_len=1.2, type=['B']*300,bond=\"linear\", count=n_poly)\n",
    "#polymer2 = dict(bond_len=1.2, type=['C']*400,bond=\"linear\", count=n_poly)\n",
    "#polymer3 = dict(bond_len=1.2, type=['D']*300,bond=\"linear\", count=n_poly)\n",
    "# perform some simple math to find the length of the box\n",
    "N = len(polymer1['type']) * polymer1['count']#+len(polymer2['type']) * polymer2['count']+len(polymer3['type']) * polymer3['count']\n",
    "# generate the polymer system\n",
    "separation_radius=dict(b=0.35, c=0.35, d=0.35, e=0.35, f=0.35, g=0.35, h=0.35, i=0.35, j=0.35, k=0.35, l=0.35, m=0.35, n=0.35, o=0.35, p=0.35, q=0.35, u=0.35, r=0.35, s=0.35, t=0.35)\n",
    "separation_radius.update(dict(u=0.35, v=0.35, w=0.35, x=0.35, y=0.35))\n",
    "#separation_radius=dict(B=0.35, C=0.35, D=0.35)\n",
    "#init.create_random_polymers(box=data.boxdim(volume=10*math.pi * N / (6.0 * phi_P)), polymers=[polymer1,polymer2,polymer3],separation=separation_radius,seed=12)\n",
    "init.create_random_polymers(box=data.boxdim(volume=10*math.pi * N / (6.0 * phi_P)), polymers=[polymer1],separation=separation_radius,seed=12)\n"
   ]
  },
  {
   "cell_type": "markdown",
   "metadata": {},
   "source": [
    "## Setup the bonds and force fields"
   ]
  },
  {
   "cell_type": "code",
   "execution_count": 5,
   "metadata": {},
   "outputs": [],
   "source": [
    "# force field setup\n",
    "harmonic = hoomd.md.bond.harmonic()\n",
    "harmonic.bond_coeff.set('polymer', k=330.0, r0=0.84)\n",
    "nl = hoomd.md.nlist.cell();\n",
    "lj = hoomd.md.pair.lj(nlist=nl, r_cut=3.0)\n",
    "for i in range(NChr): \n",
    "    lj.pair_coeff.set(chromosome[i],chromosome[i], epsilon=1.0, sigma=1.0, alpha=1.0)\n",
    "#lj.pair_coeff.set('b','b', epsilon=1.0, sigma=1.0, alpha=1.0)\n",
    "#lj.pair_coeff.set('c','c', epsilon=1.0, sigma=1.0, alpha=1.0)\n",
    "#lj.pair_coeff.set('d','d', epsilon=1.0, sigma=1.0, alpha=1.0)\n",
    "for i in range(NChr):\n",
    "    for j in range(i+1,NChr): \n",
    "        lj.pair_coeff.set(chromosome[i],chromosome[j], epsilon=1.0, sigma=1.0, alpha=0.0, r_cut=2**(1.0/6.0))\n",
    "#lj.pair_coeff.set('b','c', epsilon=1.0, sigma=1.0, alpha=0.0, r_cut=2**(1.0/6.0))\n",
    "#lj.pair_coeff.set('b','d', epsilon=1.0, sigma=1.0, alpha=0.0, r_cut=2**(1.0/6.0))\n",
    "#lj.pair_coeff.set('c','d', epsilon=1.0, sigma=1.0, alpha=0.0, r_cut=2**(1.0/6.0))\n",
    "lj.set_params(mode='shift')"
   ]
  },
  {
   "cell_type": "markdown",
   "metadata": {},
   "source": [
    "## Special Pairs will create our Contact Domains (not working yet)"
   ]
  },
  {
   "cell_type": "code",
   "execution_count": 6,
   "metadata": {},
   "outputs": [],
   "source": [
    "#CTCF = hoomd.md.special_pair()\n",
    "#lj_ctcf = hoomd.md.special_pair.lj(name=\"CTCF\")\n",
    "#lj_ctcf.pair_coeff.set('A','A', epsilon=1.0, sigma=1.0, r_cut=3)\n",
    "#lj_ctcf.set_params(mode='shift')"
   ]
  },
  {
   "cell_type": "markdown",
   "metadata": {},
   "source": [
    "## Integrate the simulation"
   ]
  },
  {
   "cell_type": "code",
   "execution_count": 7,
   "metadata": {},
   "outputs": [
    {
     "data": {
      "text/plain": [
       "<hoomd.md.integrate.nvt at 0x7f3d79c0c9d0>"
      ]
     },
     "execution_count": 7,
     "metadata": {},
     "output_type": "execute_result"
    }
   ],
   "source": [
    "all = group.all()\n",
    "# integrate NVT for a bunch of time steps\n",
    "hoomd.md.integrate.mode_standard(dt=0.005)\n",
    "hoomd.md.integrate.nvt(group=all, kT=1.2, tau=0.5)\n",
    "#hoomd.md.integrate.brownian(group=all, kT=1.2, seed=1)"
   ]
  },
  {
   "cell_type": "markdown",
   "metadata": {},
   "source": [
    "The results of this example may be visualized with VMD which can be installed from here: http://www.ks.uiuc.edu/Research/vmd/"
   ]
  },
  {
   "cell_type": "code",
   "execution_count": null,
   "metadata": {},
   "outputs": [
    {
     "name": "stdout",
     "output_type": "stream",
     "text": [
      "notice(2): -- Neighborlist exclusion statistics -- :\n",
      "notice(2): Particles with 1 exclusions             : 2\n",
      "notice(2): Particles with 2 exclusions             : 30844\n",
      "notice(2): Neighbors included by diameter          : no\n",
      "notice(2): Neighbors excluded when in the same body: no\n",
      "** starting run **\n",
      "notice(2): analyze.imd: listening on port 54321\n",
      "Time 00:00:10 | Step 4165 / 1000000 | TPS 416.436 | ETA 00:39:51\n",
      "Time 00:00:20 | Step 7727 / 1000000 | TPS 356.181 | ETA 00:46:25\n",
      "notice(2): analyze.imd: accepted connection\n",
      "Time 00:00:30 | Step 10057 / 1000000 | TPS 232.749 | ETA 01:10:53\n"
     ]
    },
    {
     "name": "stderr",
     "output_type": "stream",
     "text": [
      "**ERROR**: analyze.imd: I/O error while sending coordinates, disconnecting\n"
     ]
    }
   ],
   "source": [
    "#hoomd.dump.gsd(filename=\"hum_gen_24x1000.gsd\", overwrite=True, period=None, group=group.all(), time_step=0)\n",
    "hoomd.dump.gsd(\"gsd/24xchromosomes_1000_0.gsd\", period=None, group=all, overwrite=True, time_step=0);\n",
    "# setup the IMD server\n",
    "hoomd.analyze.imd(port=54321, period=1)\n",
    "# run a very long time so the simulation can be watched in VMD\n",
    "run(1e6)"
   ]
  },
  {
   "cell_type": "markdown",
   "metadata": {},
   "source": [
    "The results of this example may be visualized with VMD which can be installed from here: http://www.ks.uiuc.edu/Research/vmd/\n",
    "\n",
    "While running must execute the following command in a terminal:"
   ]
  },
  {
   "cell_type": "code",
   "execution_count": null,
   "metadata": {},
   "outputs": [],
   "source": [
    "!cat imd.vmd\n",
    "#vmd -e imd.vmd gsd/24xchromosomes_1000_0.gsd"
   ]
  },
  {
   "cell_type": "markdown",
   "metadata": {
    "collapsed": true
   },
   "source": [
    "![](snapshots/24xchromosomes.png)"
   ]
  },
  {
   "cell_type": "code",
   "execution_count": null,
   "metadata": {},
   "outputs": [],
   "source": []
  }
 ],
 "metadata": {
  "kernelspec": {
   "display_name": "Python 2",
   "language": "python",
   "name": "python2"
  },
  "language_info": {
   "codemirror_mode": {
    "name": "ipython",
    "version": 2
   },
   "file_extension": ".py",
   "mimetype": "text/x-python",
   "name": "python",
   "nbconvert_exporter": "python",
   "pygments_lexer": "ipython2",
   "version": "2.7.14"
  }
 },
 "nbformat": 4,
 "nbformat_minor": 2
}
