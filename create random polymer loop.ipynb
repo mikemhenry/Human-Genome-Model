{
 "cells": [
  {
   "cell_type": "markdown",
   "metadata": {},
   "source": [
    "# Random polymer loop\n",
    "This example shows you how to run a simple polymer simulation in hoomdd.\n",
    "\n",
    "Here is a script that generates a system of bead-spring polymers that self-assemble into a hex phase when run for a few million time steps. The polymers are A6B7A6 block copolymers in an implicit solvent. The script also shows a few examples of how writing python code in the script can be handy: here the concentration phi_P is a parameter and math operations are performed to calculate the length of the box.\n",
    "\n",
    "For more information on the model in this script, see\n",
    "\"Micellar crystals in solution from molecular dynamics simulations\"\n",
    "J. Chem. Phys. 128, 184906 (2008); DOI:10.1063/1.2913522\n",
    "http://link.aip.org/link/?JCPSA6/128/184906/1\n",
    "\n",
    "Any of the polymer systems in the paper could be easily run just by changing a few parameters in this script.\n",
    "from: https://lost-contact.mit.edu/afs//umich.edu/user/j/o/joaander/Public/hoomd-web/doc/page_example_scripts.html\n",
    "\n",
    "## Initialize\n",
    "First import hoomd and associated libraries and then initialize.  If no mode is given then the fastest processor cpu or gpu will be selected automatically."
   ]
  },
  {
   "cell_type": "code",
   "execution_count": 1,
   "metadata": {
    "scrolled": false
   },
   "outputs": [
    {
     "name": "stdout",
     "output_type": "stream",
     "text": [
      "HOOMD-blue v2.2.2-29-g1e86eec CUDA (8.0) DOUBLE HPMC_MIXED MPI SSE SSE2 \n",
      "Compiled: 01/29/18\n",
      "Copyright 2009-2017 The Regents of the University of Michigan.\n",
      "-----\n",
      "You are using HOOMD-blue. Please cite the following:\n",
      "* J A Anderson, C D Lorenz, and A Travesset. \"General purpose molecular dynamics\n",
      "  simulations fully implemented on graphics processing units\", Journal of\n",
      "  Computational Physics 227 (2008) 5342--5359\n",
      "* J Glaser, T D Nguyen, J A Anderson, P Liu, F Spiga, J A Millan, D C Morse, and\n",
      "  S C Glotzer. \"Strong scaling of general-purpose molecular dynamics simulations\n",
      "  on GPUs\", Computer Physics Communications 192 (2015) 97--107\n",
      "-----\n",
      "HOOMD-blue is running on the CPU\n"
     ]
    }
   ],
   "source": [
    "import hoomd\n",
    "from hoomd import *\n",
    "from hoomd import md\n",
    "from hoomd import deprecated\n",
    "#hoomd.context.initialize();\n",
    "hoomd.context.initialize(\"--mode=cpu\");\n",
    "#hoomd.context.initialize(\"--mode=gpu\");"
   ]
  },
  {
   "cell_type": "markdown",
   "metadata": {},
   "source": [
    "## Import other libraries and define parameters"
   ]
  },
  {
   "cell_type": "code",
   "execution_count": 2,
   "metadata": {},
   "outputs": [],
   "source": [
    "#import math\n",
    "import math\n",
    "# parameters (polymer physics)\n",
    "phi_P = 0.25 # this has to do with how good of a solvent the polymer is in and is only used to calculate the box size below\n",
    "n_poly = 1 # n_poly in the number of polymers in the simulation\n",
    "n_beads = 18"
   ]
  },
  {
   "cell_type": "markdown",
   "metadata": {},
   "source": [
    "## Define the polymer"
   ]
  },
  {
   "cell_type": "code",
   "execution_count": 3,
   "metadata": {},
   "outputs": [
    {
     "name": "stdout",
     "output_type": "stream",
     "text": [
      "notice(2): Group \"all\" created containing 20 particles\n"
     ]
    }
   ],
   "source": [
    "# This polymer can be made up of two different types A and B.  It's called a block copolymer.\n",
    "polymer1 = dict(bond_len=1.2, type=['B']*1 + ['A']*n_beads + ['B']*1,bond=\"linear\", count=n_poly)\n",
    "# perform some simple math to find the length of the box\n",
    "N = len(polymer1['type']) * polymer1['count']\n",
    "# generate the polymer system\n",
    "V=1000*math.pi * N / (6.0 * phi_P)\n",
    "L=round(V**(1.0/3.0))\n",
    "system=deprecated.init.create_random_polymers(\\\n",
    "                                              box=data.boxdim(L=L), \\\n",
    "                                              polymers=[polymer1],\\\n",
    "                                              separation=dict(A=0.35, B=0.35)\\\n",
    "                                              ,seed=12)"
   ]
  },
  {
   "cell_type": "markdown",
   "metadata": {},
   "source": [
    "## Setup the bonds and force fields"
   ]
  },
  {
   "cell_type": "code",
   "execution_count": 4,
   "metadata": {},
   "outputs": [],
   "source": [
    "# force field setup\n",
    "harmonic = md.bond.harmonic()\n",
    "harmonic.bond_coeff.set('polymer', k=330.0, r0=0.84)\n",
    "nl = md.nlist.cell();\n",
    "lj = md.pair.lj(r_cut=3.0,nlist=nl)\n",
    "lj.pair_coeff.set('A', 'A', epsilon=1.0, sigma=1.0, alpha=0.0)\n",
    "lj.pair_coeff.set('A', 'B', epsilon=1.0, sigma=1.0, alpha=0.0)\n",
    "lj.pair_coeff.set('B', 'B', epsilon=100.0, sigma=1.0, alpha=1.0)"
   ]
  },
  {
   "cell_type": "markdown",
   "metadata": {},
   "source": [
    "## Integrate the simulation"
   ]
  },
  {
   "cell_type": "code",
   "execution_count": 5,
   "metadata": {
    "scrolled": false
   },
   "outputs": [
    {
     "name": "stdout",
     "output_type": "stream",
     "text": [
      "('p1', 0, 19)\n",
      "notice(2): -- Neighborlist exclusion statistics -- :\n",
      "notice(2): Particles with 1 exclusions             : 2\n",
      "notice(2): Particles with 2 exclusions             : 18\n",
      "notice(2): Neighbors included by diameter          : no\n",
      "notice(2): Neighbors excluded when in the same body: no\n",
      "** starting run **\n",
      "Time 00:00:10 | Step 2284000 / 10000000 | TPS 228400 | ETA 00:00:33\n",
      "Time 00:00:20 | Step 4588870 / 10000000 | TPS 230487 | ETA 00:00:23\n",
      "Time 00:00:30 | Step 6861128 / 10000000 | TPS 227226 | ETA 00:00:13\n",
      "Time 00:00:40 | Step 9214337 / 10000000 | TPS 235321 | ETA 00:00:03\n",
      "Time 00:00:43 | Step 10000000 / 10000000 | TPS 229095 | ETA 00:00:00\n",
      "Average TPS: 230251\n",
      "---------\n",
      "-- Neighborlist stats:\n",
      "656147 normal updates / 100000 forced updates / 0 dangerous updates\n",
      "n_neigh_min: 0 / n_neigh_max: 17 / n_neigh_avg: 5.8\n",
      "shortest rebuild period: 5\n",
      "-- Cell list stats:\n",
      "Dimension: 10, 10, 10\n",
      "n_min    : 0 / n_max: 10 / n_avg: 0.02\n",
      "** run complete **\n"
     ]
    }
   ],
   "source": [
    "import numpy\n",
    "import math\n",
    "# integrate NVT for a bunch of time steps\n",
    "all = group.all()\n",
    "md.integrate.mode_standard(dt=0.005)\n",
    "md.integrate.nvt(group=all, kT=1.2, tau=0.5)\n",
    "\n",
    "#save a gsd polymer configuration every 100 timesteps\n",
    "dump.gsd(\"gsd/random_polymer_loop.gsd\", period=100, group=all, overwrite=True);\n",
    "\n",
    "#log position of particle 0\n",
    "polymers=['p1','p2','p3','p4','p5','p6','p7','p8','p9','p10']\n",
    "log = hoomd.analyze.log(filename=\"ree.log\",\n",
    "                         quantities=polymers[0:n_poly],\n",
    "                         period=100,\n",
    "                         overwrite=True);\n",
    "\n",
    "for i in range(n_poly):\n",
    "    print(polymers[i],(n_beads+2)*i,(n_beads+2)*i+n_beads+1)\n",
    "    log.register_callback(polymers[i], lambda timestep,i=i: math.sqrt( \\\n",
    "    # ((system.particles[(n_beads+2)*i].position[0]-system.particles[(n_beads+2)*i+n_beads+1].position[0])%L)**2\\\n",
    "    #+((system.particles[(n_beads+2)*i].position[1]-system.particles[(n_beads+2)*i+n_beads+1].position[1])%L)**2\\\n",
    "    #+((system.particles[(n_beads+2)*i].position[2]-system.particles[(n_beads+2)*i+n_beads+1].position[2])%L)**2));\n",
    "     (system.particles[(n_beads+2)*i].position[0]-system.particles[(n_beads+2)*i+n_beads+1].position[0])**2\\\n",
    "    +(system.particles[(n_beads+2)*i].position[1]-system.particles[(n_beads+2)*i+n_beads+1].position[1])**2\\\n",
    "    +(system.particles[(n_beads+2)*i].position[2]-system.particles[(n_beads+2)*i+n_beads+1].position[2])**2));\n",
    "\n",
    "#run(2000)\n",
    "\n",
    "#hoomd.dump.gsd(filename=\"gsd/random_polymer_loop_0.gsd\", overwrite=True, period=None, group=group.all(), time_step=0)\n",
    "# setup the IMD server\n",
    "#hoomd.analyze.imd(port=54321, period=10)\n",
    "# run a very long time so the simulation can be watched in VMD\n",
    "run(1e7)\n",
    "\n",
    "#vmd -e imd2.vmd gsd/create_random_polymer_loop_0.gsd\n",
    "#!cat imd2.vmd"
   ]
  },
  {
   "cell_type": "markdown",
   "metadata": {},
   "source": [
    "## Plot results and correlation function"
   ]
  },
  {
   "cell_type": "code",
   "execution_count": 6,
   "metadata": {},
   "outputs": [
    {
     "name": "stdout",
     "output_type": "stream",
     "text": [
      "timestep\tp1\n",
      "0\t5.750442173\n",
      "100\t5.646844543\n",
      "200\t5.818066178\n",
      "300\t5.825081794\n",
      "400\t5.843325415\n",
      "500\t5.846306899\n",
      "600\t6.089440699\n",
      "700\t7.015167726\n",
      "800\t7.479672179\n",
      "(100000, 1)\n"
     ]
    },
    {
     "data": {
      "image/png": "[encoded data removed]",
      "text/plain": [
       "<Figure size 560x308 with 1 Axes>"
      ]
     },
     "metadata": {},
     "output_type": "display_data"
    },
    {
     "data": {
      "image/png": "[encoded data removed]",
      "text/plain": [
       "<Figure size 560x308 with 1 Axes>"
      ]
     },
     "metadata": {},
     "output_type": "display_data"
    }
   ],
   "source": [
    "from matplotlib import pyplot\n",
    "%matplotlib inline\n",
    "!head ree.log\n",
    "data = numpy.genfromtxt(fname='ree.log',skip_header=True);\n",
    "t=numpy.ndarray.flatten(data[:,0])\n",
    "r_ee=data[:,1:]#/(101*(0.84**2))\n",
    "print(numpy.shape(r_ee))\n",
    "pyplot.figure(figsize=(4,2.2), dpi=140);\n",
    "#pyplot.plot(t,r_ee);\n",
    "for i in range(n_poly):\n",
    "    #pyplot.figure(figsize=(4,2.2), dpi=140);\n",
    "    pyplot.title(r'End to end distance $\\epsilon=100$')\n",
    "    pyplot.xlim(0,1e6)\n",
    "    pyplot.plot(t,r_ee[:,i]%22);\n",
    "    pyplot.xlabel(r'time step');\n",
    "    pyplot.ylabel(r'$r_{ee}$');\n",
    "#r_ee=r_ee[len(r_ee)/2:]\n",
    "pyplot.savefig('r_ee.png')\n",
    "def autocorr(x):\n",
    "    result = numpy.correlate(x, x, mode='full')/(numpy.average(x)**2)-1.0\n",
    "    return result[result.size/2:]\n",
    "pyplot.figure(figsize=(4,2.2), dpi=140);\n",
    "for i in range(n_poly):\n",
    "    #pyplot.figure(figsize=(4,2.2), dpi=140);\n",
    "    pyplot.title(r'$G(\\tau)=<\\delta r_{ee}(t+\\tau) \\delta r_{ee}(t)>/<r_{ee}>^2, \\epsilon=100$')\n",
    "    pyplot.xlim(1,1e6)\n",
    "    g=autocorr(numpy.ndarray.flatten(r_ee[:,i]))\n",
    "    pyplot.semilogx(t,g)\n",
    "    pyplot.xlabel(r'$\\tau$');\n",
    "    pyplot.ylabel(r'$g(\\tau)$');\n",
    "pyplot.savefig('g_tau.png')"
   ]
  },
  {
   "cell_type": "markdown",
   "metadata": {
    "collapsed": true
   },
   "source": [
    "The results of this example may be visualized with VMD which can be installed from here: http://www.ks.uiuc.edu/Research/vmd/"
   ]
  },
  {
   "cell_type": "code",
   "execution_count": 7,
   "metadata": {
    "scrolled": true
   },
   "outputs": [
    {
     "name": "stdout",
     "output_type": "stream",
     "text": [
      "/usr/local/lib/vmd/vmd_LINUXAMD64: /usr/lib/nvidia-390/libGL.so.1: no version information available (required by /usr/local/lib/vmd/vmd_LINUXAMD64)\n",
      "Info) VMD for LINUXAMD64, version 1.9.4a12 (December 21, 2017)\n",
      "Info) http://www.ks.uiuc.edu/Research/vmd/                         \n",
      "Info) Email questions and bug reports to vmd@ks.uiuc.edu           \n",
      "Info) Please include this reference in published work using VMD:   \n",
      "Info)    Humphrey, W., Dalke, A. and Schulten, K., `VMD - Visual   \n",
      "Info)    Molecular Dynamics', J. Molec. Graphics 1996, 14.1, 33-38.\n",
      "Info) -------------------------------------------------------------\n",
      "Info) Multithreading available, 4 CPUs detected.\n",
      "Info)   CPU features: SSE2 AVX AVX2 FMA \n",
      "Info) Free system memory: 11GB (69%)\n",
      "Info) Creating CUDA device pool and initializing hardware...\n",
      "Info) Detected 1 available CUDA accelerator:\n",
      "Info) [0] GeForce GTX 1060 6GB 10 SM_6.1 1.84 GHz, 5.9GB RAM, KTO, AE2, ZCP\n",
      "Warning) Detected X11 'Composite' extension: if incorrect display occurs\n",
      "Warning) try disabling this X server option.  Most OpenGL drivers\n",
      "Warning) disable stereoscopic display when 'Composite' is enabled.\n",
      "Info) OpenGL renderer: GeForce GTX 1060 6GB/PCIe/SSE2\n",
      "Info)   Features: STENCIL MSAA(4) MDE CVA MTX NPOT PP PS GLSL(OVFGS) \n",
      "Info)   Full GLSL rendering mode is available.\n",
      "Info)   Textures: 2-D (32768x32768), 3-D (16384x16384x16384), Multitexture (4)\n",
      "Info) Detected 1 available TachyonL/OptiX ray tracing accelerator\n",
      "Info)   Compiling 1 OptiX shaders on 1 target GPU...\n",
      "Info) Dynamically loaded 4 plugins in directory:\n",
      "Info) /usr/local/lib/vmd/plugins/LINUXAMD64/molfile\n",
      "Info) File loading in progress, please wait.\n",
      "Info) Using plugin gsd for structure file gsd/random_polymer_loop.gsd\n",
      "Info) Using plugin gsd for coordinates from file gsd/random_polymer_loop.gsd\n",
      "Info) Finished with coordinate file gsd/random_polymer_loop.gsd.\n",
      "Info) Analyzing structure ...\n",
      "Info)    Atoms: 20\n",
      "Info)    Bonds: 19\n",
      "Info)    Angles: 0  Dihedrals: 0  Impropers: 0  Cross-terms: 0\n",
      "Info)    Bondtypes: 1  Angletypes: 0  Dihedraltypes: 0  Impropertypes: 0\n",
      "Info)    Residues: 1\n",
      "Info)    Waters: 0\n",
      "Info)    Segments: 1\n",
      "Info)    Fragments: 1   Protein: 0   Nucleic: 0\n",
      "vmd > ^C\n",
      "vmd > "
     ]
    }
   ],
   "source": [
    "!vmd -e vdw.vmd gsd/random_polymer_loop.gsd"
   ]
  },
  {
   "cell_type": "markdown",
   "metadata": {
    "collapsed": true
   },
   "source": [
    "[](snapshots/random_polymer_loop.png)"
   ]
  },
  {
   "cell_type": "code",
   "execution_count": 8,
   "metadata": {},
   "outputs": [
    {
     "name": "stdout",
     "output_type": "stream",
     "text": [
      "/home/mattferguson/miniconda2/bin:/home/mattferguson/miniconda2/bin:/usr/local/cuda-8.0/bin:/home/mattferguson/bin:/home/mattferguson/.local/bin:/usr/local/sbin:/usr/local/bin:/usr/sbin:/usr/bin:/sbin:/bin:/usr/games:/usr/local/games:/snap/bin:NVIDIA_CUDA-8.0_Samples/bin/x86_64/linux/release/\r\n"
     ]
    }
   ],
   "source": [
    "!echo $PATH"
   ]
  },
  {
   "cell_type": "code",
   "execution_count": null,
   "metadata": {},
   "outputs": [],
   "source": []
  }
 ],
 "metadata": {
  "kernelspec": {
   "display_name": "Python 2",
   "language": "python",
   "name": "python2"
  },
  "language_info": {
   "codemirror_mode": {
    "name": "ipython",
    "version": 2
   },
   "file_extension": ".py",
   "mimetype": "text/x-python",
   "name": "python",
   "nbconvert_exporter": "python",
   "pygments_lexer": "ipython2",
   "version": "2.7.14"
  }
 },
 "nbformat": 4,
 "nbformat_minor": 2
}
