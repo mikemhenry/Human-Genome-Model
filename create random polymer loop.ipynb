{
 "cells": [
  {
   "cell_type": "markdown",
   "metadata": {},
   "source": [
    "# Random polymer\n",
    "This example shows you how to run a simple polymer simulation in hoomdd.\n",
    "\n",
    "Here is a script that generates a system of bead-spring polymers that self-assemble into a hex phase when run for a few million time steps. The polymers are A6B7A6 block copolymers in an implicit solvent. The script also shows a few examples of how writing python code in the script can be handy: here the concentration phi_P is a parameter and math operations are performed to calculate the length of the box.\n",
    "\n",
    "For more information on the model in this script, see\n",
    "\"Micellar crystals in solution from molecular dynamics simulations\"\n",
    "J. Chem. Phys. 128, 184906 (2008); DOI:10.1063/1.2913522\n",
    "http://link.aip.org/link/?JCPSA6/128/184906/1\n",
    "\n",
    "Any of the polymer systems in the paper could be easily run just by changing a few parameters in this script.\n",
    "from: https://lost-contact.mit.edu/afs//umich.edu/user/j/o/joaander/Public/hoomd-web/doc/page_example_scripts.html\n",
    "\n",
    "## Initialize\n",
    "First import hoomd and associated libraries and then initialize.  If no mode is given then the fastest processor cpu or gpu will be selected automatically."
   ]
  },
  {
   "cell_type": "code",
   "execution_count": 1,
   "metadata": {
    "scrolled": false
   },
   "outputs": [
    {
     "name": "stdout",
     "output_type": "stream",
     "text": [
      "HOOMD-blue 2.2.4-unknown CUDA (8.0) DOUBLE HPMC_MIXED SSE SSE2 SSE3 SSE4_1 SSE4_2 AVX AVX2 \n",
      "Compiled: 03/11/2018\n",
      "Copyright 2009-2017 The Regents of the University of Michigan.\n",
      "-----\n",
      "You are using HOOMD-blue. Please cite the following:\n",
      "* J A Anderson, C D Lorenz, and A Travesset. \"General purpose molecular dynamics\n",
      "  simulations fully implemented on graphics processing units\", Journal of\n",
      "  Computational Physics 227 (2008) 5342--5359\n",
      "* J Glaser, T D Nguyen, J A Anderson, P Liu, F Spiga, J A Millan, D C Morse, and\n",
      "  S C Glotzer. \"Strong scaling of general-purpose molecular dynamics simulations\n",
      "  on GPUs\", Computer Physics Communications 192 (2015) 97--107\n",
      "-----\n",
      "notice(2): NVIDIA driver not installed or is too old, ignoring any GPUs in the system.\n",
      "HOOMD-blue is running on the CPU\n"
     ]
    }
   ],
   "source": [
    "import hoomd\n",
    "from hoomd import *\n",
    "from hoomd import md\n",
    "from hoomd import deprecated\n",
    "#context.initialize();\n",
    "hoomd.context.initialize(\"--mode=cpu\");\n",
    "#hoomd.context.initialize(\"--mode=gpu\");"
   ]
  },
  {
   "cell_type": "markdown",
   "metadata": {},
   "source": [
    "## Import other libraries and define parameters"
   ]
  },
  {
   "cell_type": "code",
   "execution_count": 2,
   "metadata": {
    "collapsed": true
   },
   "outputs": [],
   "source": [
    "#import math\n",
    "import math\n",
    "# parameters (polymer physics)\n",
    "phi_P = 0.25 # this has to do with how good of a solvent the polymer is in and is only used to calculate the box size below\n",
    "n_poly = 10 # n_poly in the number of polymers in the simulation\n",
    "n_beads = 100"
   ]
  },
  {
   "cell_type": "markdown",
   "metadata": {},
   "source": [
    "## Define the polymer"
   ]
  },
  {
   "cell_type": "code",
   "execution_count": 3,
   "metadata": {},
   "outputs": [
    {
     "name": "stdout",
     "output_type": "stream",
     "text": [
      "notice(2): Group \"all\" created containing 1020 particles\n"
     ]
    }
   ],
   "source": [
    "# This polymer can be made up of two different types A and B.  It's called a block copolymer.\n",
    "polymer1 = dict(bond_len=1.2, type=['B']*1 + ['A']*n_beads + ['B']*1,bond=\"linear\", count=n_poly)\n",
    "# perform some simple math to find the length of the box\n",
    "N = len(polymer1['type']) * polymer1['count']\n",
    "# generate the polymer system\n",
    "system=deprecated.init.create_random_polymers(box=data.boxdim(volume=100*math.pi * N / (6.0 * phi_P)), polymers=[polymer1],separation=dict(A=0.35, B=0.35)\n",
    "                                              ,seed=12)\n"
   ]
  },
  {
   "cell_type": "markdown",
   "metadata": {},
   "source": [
    "## Setup the bonds and force fields"
   ]
  },
  {
   "cell_type": "code",
   "execution_count": 4,
   "metadata": {
    "collapsed": true
   },
   "outputs": [],
   "source": [
    "# force field setup\n",
    "harmonic = md.bond.harmonic()\n",
    "harmonic.bond_coeff.set('polymer', k=330.0, r0=0.84)\n",
    "nl = md.nlist.cell();\n",
    "lj = md.pair.lj(r_cut=3.0,nlist=nl)\n",
    "lj.pair_coeff.set('A', 'A', epsilon=1.0, sigma=1.0, alpha=0.0)\n",
    "lj.pair_coeff.set('A', 'B', epsilon=1.0, sigma=1.0, alpha=0.0)\n",
    "lj.pair_coeff.set('B', 'B', epsilon=10.0, sigma=1.0, alpha=1.0)"
   ]
  },
  {
   "cell_type": "markdown",
   "metadata": {},
   "source": [
    "## Integrate the simulation"
   ]
  },
  {
   "cell_type": "code",
   "execution_count": 5,
   "metadata": {
    "scrolled": true
   },
   "outputs": [
    {
     "name": "stdout",
     "output_type": "stream",
     "text": [
      "notice(2): -- Neighborlist exclusion statistics -- :\n",
      "notice(2): Particles with 1 exclusions             : 20\n",
      "notice(2): Particles with 2 exclusions             : 1000\n",
      "notice(2): Neighbors included by diameter          : no\n",
      "notice(2): Neighbors excluded when in the same body: no\n",
      "** starting run **\n",
      "Time 00:00:10 | Step 20366 / 100000 | TPS 2036.56 | ETA 00:00:39\n",
      "Time 00:00:20 | Step 41919 / 100000 | TPS 2155.04 | ETA 00:00:26\n",
      "Time 00:00:30 | Step 63381 / 100000 | TPS 2146.17 | ETA 00:00:17\n",
      "Time 00:00:40 | Step 85714 / 100000 | TPS 2233.26 | ETA 00:00:06\n",
      "Time 00:00:46 | Step 100000 / 100000 | TPS 2196.86 | ETA 00:00:00\n",
      "Average TPS: 2149.98\n",
      "---------\n",
      "-- Neighborlist stats:\n",
      "10044 normal updates / 1000 forced updates / 0 dangerous updates\n",
      "n_neigh_min: 0 / n_neigh_max: 23 / n_neigh_avg: 6.09216\n",
      "shortest rebuild period: 3\n",
      "-- Cell list stats:\n",
      "Dimension: 17, 17, 17\n",
      "n_min    : 0 / n_max: 14 / n_avg: 0.207612\n",
      "** run complete **\n"
     ]
    }
   ],
   "source": [
    "import numpy\n",
    "import math\n",
    "# integrate NVT for a bunch of time steps\n",
    "all = group.all()\n",
    "md.integrate.mode_standard(dt=0.005)\n",
    "md.integrate.nvt(group=all, kT=1.2, tau=0.5)\n",
    "\n",
    "#save a gsd polymer configuration every 100 timesteps\n",
    "dump.gsd(\"gsd/random_polymer_loop.gsd\", period=100, group=all, overwrite=True);\n",
    "\n",
    "#log position of particle 0\n",
    "polymers=['p1','p2','p3','p4','p5','p6','p7','p8','p9','p10']\n",
    "log = hoomd.analyze.log(filename=\"ree.log\",\n",
    "                         quantities=polymers,\n",
    "                         period=100,\n",
    "                         overwrite=True);\n",
    "for i in range(n_poly):\n",
    "    #print(polymers[i])\n",
    "    #print((n_beads+2)*i)\n",
    "    #print((n_beads+2)*i+n_beads+1)\n",
    "    log.register_callback(polymers[i], lambda timestep: math.sqrt( \\\n",
    "     (system.particles[(n_beads+2)*i].position[0]-system.particles[(n_beads+2)*i+n_beads+1].position[0])**2\\\n",
    "    +(system.particles[(n_beads+2)*i].position[1]-system.particles[(n_beads+2)*i+n_beads+1].position[1])**2\\\n",
    "    +(system.particles[(n_beads+2)*i].position[2]-system.particles[(n_beads+2)*i+n_beads+1].position[2])**2));\n",
    "\n",
    "#run(2000)\n",
    "# uncomment the next run() command if you have a few hours to spare\n",
    "# running this on a GPU the resulting dump files should show the\n",
    "# polymers self-assembling into the hexagonal phase\n",
    "run(1e5)"
   ]
  },
  {
   "cell_type": "code",
   "execution_count": 24,
   "metadata": {},
   "outputs": [
    {
     "data": {
      "image/png": "[encoded data removed]",
      "text/plain": [
       "<Figure size 560x308 with 1 Axes>"
      ]
     },
     "metadata": {},
     "output_type": "display_data"
    },
    {
     "data": {
      "image/png": "[encoded data removed]",
      "text/plain": [
       "<Figure size 560x308 with 1 Axes>"
      ]
     },
     "metadata": {},
     "output_type": "display_data"
    }
   ],
   "source": [
    "from matplotlib import pyplot\n",
    "%matplotlib inline\n",
    "#!head ree.log\n",
    "data = numpy.genfromtxt(fname='ree.log',skip_header=True);\n",
    "t=numpy.ndarray.flatten(data[:,0])\n",
    "r_ee=data[:,1:]#/(101*(0.84**2))\n",
    "pyplot.figure(figsize=(4,2.2), dpi=140);\n",
    "pyplot.plot(t,r_ee[:,0]);\n",
    "#for i in range(n_poly):\n",
    "    #pyplot.plot(t,r_ee[:,i]);\n",
    "pyplot.xlabel('time step');\n",
    "pyplot.ylabel('r_ee');\n",
    "#r_ee=r_ee[len(r_ee)/2:]\n",
    "def autocorr(x):\n",
    "    result = numpy.correlate(x, x, mode='full')/(numpy.average(x)**2)-1.0\n",
    "    return result[result.size/2:]\n",
    "g=autocorr(numpy.ndarray.flatten(r_ee[:,0]))\n",
    "pyplot.figure(figsize=(4,2.2), dpi=140);\n",
    "pyplot.plot(t,g)\n",
    "pyplot.xlabel('tau');\n",
    "pyplot.ylabel('g');"
   ]
  },
  {
   "cell_type": "markdown",
   "metadata": {
    "collapsed": true
   },
   "source": [
    "The results of this example may be visualized with VMD which can be installed from here: http://www.ks.uiuc.edu/Research/vmd/"
   ]
  },
  {
   "cell_type": "code",
   "execution_count": 7,
   "metadata": {},
   "outputs": [
    {
     "name": "stdout",
     "output_type": "stream",
     "text": [
      "Info) VMD for MACOSXX86, version 1.9.4a12 (December 21, 2017)\n",
      "Info) http://www.ks.uiuc.edu/Research/vmd/                         \n",
      "Info) Email questions and bug reports to vmd@ks.uiuc.edu           \n",
      "Info) Please include this reference in published work using VMD:   \n",
      "Info)    Humphrey, W., Dalke, A. and Schulten, K., `VMD - Visual   \n",
      "Info)    Molecular Dynamics', J. Molec. Graphics 1996, 14.1, 33-38.\n",
      "Info) -------------------------------------------------------------\n",
      "Info) Multithreading available, 4 CPUs detected.\n",
      "Info) OpenGL renderer: Intel HD Graphics 5000 OpenGL Engine\n",
      "Info)   Features: STENCIL MDE MTX NPOT PP PS GLSL(OVF) \n",
      "Info)   Full GLSL rendering mode is available.\n",
      "Info)   Textures: 2-D (16384x16384), 3-D (2048x2048x2048), Multitexture (8)\n",
      "Info) Dynamically loaded 4 plugins in directory:\n",
      "Info) /Applications/VMD 1.9.4.app/Contents/vmd/plugins/MACOSXX86/molfile\n",
      "Info) File loading in progress, please wait.\n",
      "Info) Using plugin gsd for structure file gsd/random_polymer_loop.gsd\n",
      "Info) Using plugin gsd for coordinates from file gsd/random_polymer_loop.gsd\n",
      "Info) Finished with coordinate file gsd/random_polymer_loop.gsd.\n",
      "Info) Analyzing structure ...\n",
      "Info)    Atoms: 1020\n",
      "Info)    Bonds: 1010\n",
      "Info)    Angles: 0  Dihedrals: 0  Impropers: 0  Cross-terms: 0\n",
      "Info)    Bondtypes: 1  Angletypes: 0  Dihedraltypes: 0  Impropertypes: 0\n",
      "Info)    Residues: 10\n",
      "Info)    Waters: 0\n",
      "Info)    Segments: 1\n",
      "Info)    Fragments: 10   Protein: 0   Nucleic: 0\n",
      "vmd > Info) VMD for MACOSXX86, version 1.9.4a12 (December 21, 2017)\n",
      "Info) Exiting normally.\n"
     ]
    }
   ],
   "source": [
    "!vmd -e vdw.vmd gsd/random_polymer_loop.gsd"
   ]
  },
  {
   "cell_type": "markdown",
   "metadata": {
    "collapsed": true
   },
   "source": [
    "![](snapshots/random_polymer_loop.png)"
   ]
  },
  {
   "cell_type": "code",
   "execution_count": 8,
   "metadata": {},
   "outputs": [
    {
     "name": "stdout",
     "output_type": "stream",
     "text": [
      "/anaconda/bin:/usr/local/cuda/bin:/usr/local/bin:/usr/bin:/bin:/usr/sbin:/sbin:/opt/X11/bin:/opt/local/bin:/opt/local/sbin:NVIDIA_CUDA-8.0_Samples/bin/x86_64/darwin/release/:/Users/mattferguson/bin:/anaconda/bin\r\n"
     ]
    }
   ],
   "source": [
    "!echo $PATH"
   ]
  }
 ],
 "metadata": {
  "kernelspec": {
   "display_name": "Python 2",
   "language": "python",
   "name": "python2"
  },
  "language_info": {
   "codemirror_mode": {
    "name": "ipython",
    "version": 2
   },
   "file_extension": ".py",
   "mimetype": "text/x-python",
   "name": "python",
   "nbconvert_exporter": "python",
   "pygments_lexer": "ipython2",
   "version": "2.7.14"
  }
 },
 "nbformat": 4,
 "nbformat_minor": 2
}
