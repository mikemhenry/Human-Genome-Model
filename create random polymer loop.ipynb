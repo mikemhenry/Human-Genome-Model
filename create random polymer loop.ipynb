{
 "cells": [
  {
   "cell_type": "markdown",
   "metadata": {},
   "source": [
    "# Random polymer\n",
    "This example shows you how to run a simple polymer simulation in hoomdd.\n",
    "\n",
    "Here is a script that generates a system of bead-spring polymers that self-assemble into a hex phase when run for a few million time steps. The polymers are A6B7A6 block copolymers in an implicit solvent. The script also shows a few examples of how writing python code in the script can be handy: here the concentration phi_P is a parameter and math operations are performed to calculate the length of the box.\n",
    "\n",
    "For more information on the model in this script, see\n",
    "\"Micellar crystals in solution from molecular dynamics simulations\"\n",
    "J. Chem. Phys. 128, 184906 (2008); DOI:10.1063/1.2913522\n",
    "http://link.aip.org/link/?JCPSA6/128/184906/1\n",
    "\n",
    "Any of the polymer systems in the paper could be easily run just by changing a few parameters in this script.\n",
    "from: https://lost-contact.mit.edu/afs//umich.edu/user/j/o/joaander/Public/hoomd-web/doc/page_example_scripts.html\n",
    "\n",
    "## Initialize\n",
    "First import hoomd and associated libraries and then initialize.  If no mode is given then the fastest processor cpu or gpu will be selected automatically."
   ]
  },
  {
   "cell_type": "code",
   "execution_count": 1,
   "metadata": {
    "scrolled": false
   },
   "outputs": [
    {
     "name": "stdout",
     "output_type": "stream",
     "text": [
      "HOOMD-blue v2.2.2-29-g1e86eec CUDA (8.0) DOUBLE HPMC_MIXED MPI SSE SSE2 \n",
      "Compiled: 01/29/18\n",
      "Copyright 2009-2017 The Regents of the University of Michigan.\n",
      "-----\n",
      "You are using HOOMD-blue. Please cite the following:\n",
      "* J A Anderson, C D Lorenz, and A Travesset. \"General purpose molecular dynamics\n",
      "  simulations fully implemented on graphics processing units\", Journal of\n",
      "  Computational Physics 227 (2008) 5342--5359\n",
      "* J Glaser, T D Nguyen, J A Anderson, P Liu, F Spiga, J A Millan, D C Morse, and\n",
      "  S C Glotzer. \"Strong scaling of general-purpose molecular dynamics simulations\n",
      "  on GPUs\", Computer Physics Communications 192 (2015) 97--107\n",
      "-----\n",
      "notice(2): This system is not compute exclusive, using local rank to select GPUs\n",
      "notice(2): Unable to identify node local rank information\n",
      "notice(2): Using global rank to select GPUs\n",
      "HOOMD-blue is running on the following GPU(s):\n",
      " [0]  GeForce GTX 1060 6GB  10 SM_6.1 @ 1.84 GHz, 6075 MiB DRAM, DIS\n"
     ]
    }
   ],
   "source": [
    "import hoomd\n",
    "from hoomd import *\n",
    "from hoomd import md\n",
    "from hoomd import deprecated\n",
    "#context.initialize();\n",
    "#hoomd.context.initialize(\"--mode=cpu\");\n",
    "hoomd.context.initialize(\"--mode=gpu\");"
   ]
  },
  {
   "cell_type": "markdown",
   "metadata": {},
   "source": [
    "## Import other libraries and define parameters"
   ]
  },
  {
   "cell_type": "code",
   "execution_count": 2,
   "metadata": {},
   "outputs": [],
   "source": [
    "#import math\n",
    "import math\n",
    "# parameters (polymer physics)\n",
    "phi_P = 0.25 # this has to do with how good of a solvent the polymer is in and is only used to calculate the box size below\n",
    "n_poly = 1 # n_poly in the number of polymers in the simulation"
   ]
  },
  {
   "cell_type": "markdown",
   "metadata": {},
   "source": [
    "## Define the polymer"
   ]
  },
  {
   "cell_type": "code",
   "execution_count": 3,
   "metadata": {},
   "outputs": [
    {
     "name": "stdout",
     "output_type": "stream",
     "text": [
      "notice(2): Group \"all\" created containing 102 particles\n"
     ]
    }
   ],
   "source": [
    "# This polymer can be made up of two different types A and B.  It's called a block copolymer.\n",
    "polymer1 = dict(bond_len=1.2, type=['B']*1 + ['A']*100 + ['B']*1,bond=\"linear\", count=n_poly)\n",
    "# perform some simple math to find the length of the box\n",
    "N = len(polymer1['type']) * polymer1['count']\n",
    "# generate the polymer system\n",
    "system=deprecated.init.create_random_polymers(box=data.boxdim(volume=100*math.pi * N / (6.0 * phi_P)), polymers=[polymer1],separation=dict(A=0.35, B=0.35),seed=12)\n"
   ]
  },
  {
   "cell_type": "markdown",
   "metadata": {},
   "source": [
    "## Setup the bonds and force fields"
   ]
  },
  {
   "cell_type": "code",
   "execution_count": 4,
   "metadata": {},
   "outputs": [],
   "source": [
    "# force field setup\n",
    "harmonic = md.bond.harmonic()\n",
    "harmonic.bond_coeff.set('polymer', k=330.0, r0=0.84)\n",
    "nl = md.nlist.cell();\n",
    "lj = md.pair.lj(r_cut=3.0,nlist=nl)\n",
    "lj.pair_coeff.set('A', 'A', epsilon=1.0, sigma=1.0, alpha=0.0)\n",
    "lj.pair_coeff.set('A', 'B', epsilon=1.0, sigma=1.0, alpha=0.0)\n",
    "lj.pair_coeff.set('B', 'B', epsilon=100.0, sigma=1.0, alpha=1.0)"
   ]
  },
  {
   "cell_type": "markdown",
   "metadata": {},
   "source": [
    "## Integrate the simulation"
   ]
  },
  {
   "cell_type": "code",
   "execution_count": 5,
   "metadata": {
    "scrolled": false
   },
   "outputs": [
    {
     "name": "stdout",
     "output_type": "stream",
     "text": [
      "notice(2): -- Neighborlist exclusion statistics -- :\n",
      "notice(2): Particles with 1 exclusions             : 2\n",
      "notice(2): Particles with 2 exclusions             : 100\n",
      "notice(2): Neighbors included by diameter          : no\n",
      "notice(2): Neighbors excluded when in the same body: no\n",
      "** starting run **\n",
      "Time 00:00:10 | Step 165798 / 10000000 | TPS 16579.7 | ETA 00:09:53\n",
      "Time 00:00:20 | Step 344238 / 10000000 | TPS 17843.9 | ETA 00:09:01\n",
      "Time 00:00:30 | Step 516330 / 10000000 | TPS 17209.2 | ETA 00:09:11\n",
      "Time 00:00:40 | Step 696860 / 10000000 | TPS 18053 | ETA 00:08:35\n",
      "Time 00:00:50 | Step 875230 / 10000000 | TPS 17837 | ETA 00:08:31\n",
      "Time 00:01:00 | Step 1058186 / 10000000 | TPS 18295.6 | ETA 00:08:08\n",
      "Time 00:01:10 | Step 1237259 / 10000000 | TPS 17907.2 | ETA 00:08:09\n",
      "Time 00:01:20 | Step 1414191 / 10000000 | TPS 17693.1 | ETA 00:08:05\n",
      "Time 00:01:30 | Step 1589656 / 10000000 | TPS 17546.4 | ETA 00:07:59\n",
      "Time 00:01:40 | Step 1765625 / 10000000 | TPS 17596.9 | ETA 00:07:47\n",
      "Time 00:01:50 | Step 1941803 / 10000000 | TPS 17617.8 | ETA 00:07:37\n",
      "Time 00:02:00 | Step 2123840 / 10000000 | TPS 18203.7 | ETA 00:07:12\n",
      "Time 00:02:10 | Step 2304965 / 10000000 | TPS 18112.5 | ETA 00:07:04\n",
      "Time 00:02:20 | Step 2483684 / 10000000 | TPS 17871.9 | ETA 00:07:00\n",
      "Time 00:02:30 | Step 2662965 / 10000000 | TPS 17928 | ETA 00:06:49\n",
      "Time 00:02:40 | Step 2844470 / 10000000 | TPS 18150.5 | ETA 00:06:34\n",
      "Time 00:02:50 | Step 3025086 / 10000000 | TPS 18061.5 | ETA 00:06:26\n",
      "Time 00:03:00 | Step 3206530 / 10000000 | TPS 18144.4 | ETA 00:06:14\n",
      "Time 00:03:10 | Step 3387114 / 10000000 | TPS 18058.4 | ETA 00:06:06\n",
      "Time 00:03:20 | Step 3562758 / 10000000 | TPS 17564.4 | ETA 00:06:06\n",
      "Time 00:03:30 | Step 3734853 / 10000000 | TPS 17209.3 | ETA 00:06:04\n",
      "Time 00:03:40 | Step 3914911 / 10000000 | TPS 18005.7 | ETA 00:05:37\n",
      "Time 00:03:50 | Step 4090103 / 10000000 | TPS 17519.1 | ETA 00:05:37\n",
      "Time 00:04:00 | Step 4264524 / 10000000 | TPS 17442 | ETA 00:05:28\n",
      "Time 00:04:10 | Step 4443339 / 10000000 | TPS 17881.5 | ETA 00:05:10\n",
      "Time 00:04:20 | Step 4623051 / 10000000 | TPS 17971.1 | ETA 00:04:59\n",
      "Time 00:04:30 | Step 4806201 / 10000000 | TPS 18314.7 | ETA 00:04:43\n",
      "Time 00:04:40 | Step 4989060 / 10000000 | TPS 18285.8 | ETA 00:04:34\n",
      "Time 00:04:50 | Step 5167448 / 10000000 | TPS 17838.7 | ETA 00:04:30\n",
      "Time 00:05:00 | Step 5349580 / 10000000 | TPS 18213.2 | ETA 00:04:15\n",
      "Time 00:05:10 | Step 5531671 / 10000000 | TPS 18209.1 | ETA 00:04:05\n",
      "Time 00:05:20 | Step 5704501 / 10000000 | TPS 17282.9 | ETA 00:04:08\n",
      "Time 00:05:30 | Step 5879448 / 10000000 | TPS 17494.7 | ETA 00:03:55\n",
      "Time 00:05:40 | Step 6063243 / 10000000 | TPS 18379.5 | ETA 00:03:34\n",
      "Time 00:05:50 | Step 6250442 / 10000000 | TPS 18719.8 | ETA 00:03:20\n",
      "Time 00:06:00 | Step 6424501 / 10000000 | TPS 17405.6 | ETA 00:03:25\n",
      "Time 00:06:10 | Step 6594764 / 10000000 | TPS 17026.2 | ETA 00:03:19\n",
      "Time 00:06:20 | Step 6770983 / 10000000 | TPS 17621.8 | ETA 00:03:03\n",
      "Time 00:06:30 | Step 6949236 / 10000000 | TPS 17825.2 | ETA 00:02:51\n",
      "Time 00:06:40 | Step 7138154 / 10000000 | TPS 18891.7 | ETA 00:02:31\n",
      "Time 00:06:50 | Step 7322400 / 10000000 | TPS 18424.6 | ETA 00:02:25\n",
      "Time 00:07:00 | Step 7505731 / 10000000 | TPS 18333.1 | ETA 00:02:16\n",
      "Time 00:07:10 | Step 7691651 / 10000000 | TPS 18591.9 | ETA 00:02:04\n",
      "Time 00:07:20 | Step 7875513 / 10000000 | TPS 18386.2 | ETA 00:01:55\n",
      "Time 00:07:30 | Step 8057854 / 10000000 | TPS 18234.1 | ETA 00:01:46\n",
      "Time 00:07:40 | Step 8242208 / 10000000 | TPS 18435.4 | ETA 00:01:35\n",
      "Time 00:07:50 | Step 8426993 / 10000000 | TPS 18478.5 | ETA 00:01:25\n",
      "Time 00:08:00 | Step 8611640 / 10000000 | TPS 18464.7 | ETA 00:01:15\n",
      "Time 00:08:10 | Step 8797242 / 10000000 | TPS 18560.1 | ETA 00:01:04\n",
      "Time 00:08:20 | Step 8981667 / 10000000 | TPS 18442.4 | ETA 00:00:55\n",
      "Time 00:08:30 | Step 9164574 / 10000000 | TPS 18290.7 | ETA 00:00:45\n",
      "Time 00:08:40 | Step 9349387 / 10000000 | TPS 18481.2 | ETA 00:00:35\n",
      "Time 00:08:50 | Step 9534222 / 10000000 | TPS 18483.5 | ETA 00:00:25\n",
      "Time 00:09:00 | Step 9715010 / 10000000 | TPS 18078.7 | ETA 00:00:15\n",
      "Time 00:09:10 | Step 9891573 / 10000000 | TPS 17656.2 | ETA 00:00:06\n",
      "Time 00:09:15 | Step 10000000 / 10000000 | TPS 18475.6 | ETA 00:00:00\n",
      "Average TPS: 17989.8\n",
      "---------\n",
      "-- Neighborlist stats:\n",
      "872347 normal updates / 33334 forced updates / 0 dangerous updates\n",
      "n_neigh_min: 6 / n_neigh_max: 20 / n_neigh_avg: 11.5882\n",
      "shortest rebuild period: 3\n",
      "-- Cell list stats:\n",
      "Dimension: 8, 8, 8\n",
      "n_min    : 0 / n_max: 13 / n_avg: 0.199219\n",
      "** run complete **\n",
      "timestep\tp0x\tp0y\tp0z\tplx\tply\tplz\tree\n",
      "0\t6.660713406\t-1.492197464\t-9.596022314\t-13.61296298\t-4.428102141\t12.24182682\t29.94216334\n",
      "100\t6.737157153\t-0.9728339432\t-9.446429146\t13.84605798\t-6.035032874\t11.67001287\t22.84877355\n",
      "200\t6.726195426\t-0.9665822364\t-9.503528784\t13.85681634\t-6.136847973\t11.64003165\t22.90474951\n",
      "300\t6.687547899\t-0.9252880728\t-9.518205993\t13.86178446\t-6.133308693\t11.64605995\t22.94600841\n",
      "400\t6.638130898\t-0.8817881959\t-9.536665272\t-13.86226321\t-6.14811608\t11.63845128\t29.9397049\n",
      "500\t6.564151974\t-0.8244258631\t-9.568851169\t-13.82536802\t-6.164860282\t11.6312604\t29.89477372\n",
      "600\t6.407519858\t-0.7339049116\t-9.672842124\t-13.74473682\t-6.193609247\t11.62151985\t29.82233513\n",
      "700\t6.488546032\t-0.8766637549\t-10.50653723\t-13.82233036\t-6.033096229\t11.69107173\t30.52628932\n",
      "800\t7.04601661\t-3.093331517\t-11.03315408\t13.24811419\t-6.183259889\t11.16112535\t23.25080023\n"
     ]
    }
   ],
   "source": [
    "import numpy\n",
    "import math\n",
    "# integrate NVT for a bunch of time steps\n",
    "all = group.all()\n",
    "md.integrate.mode_standard(dt=0.005)\n",
    "md.integrate.nvt(group=all, kT=1.2, tau=0.5)\n",
    "\n",
    "#save a gsd polymer configuration every 100 timesteps\n",
    "dump.gsd(\"gsd/random_polymer_loop.gsd\", period=100, group=all, overwrite=True);\n",
    "\n",
    "#log position of particle 0\n",
    "log = hoomd.analyze.log(filename=\"pxyz.log\",\n",
    "                         quantities=['p0x', 'p0y', 'p0z','plx','ply','plz','ree'],\n",
    "                         period=100,\n",
    "                         overwrite=True);\n",
    "log.register_callback('p0x', lambda timestep: system.particles[0].position[0]);\n",
    "log.register_callback('p0y', lambda timestep: system.particles[0].position[1]);\n",
    "log.register_callback('p0z', lambda timestep: system.particles[0].position[2]);\n",
    "log.register_callback('plx', lambda timestep: system.particles[101].position[0]);\n",
    "log.register_callback('ply', lambda timestep: system.particles[101].position[1]);\n",
    "log.register_callback('plz', lambda timestep: system.particles[101].position[2]);\n",
    "log.register_callback('ree', lambda timestep: math.sqrt((log.query('p0x')-log.query('plx'))**2+(log.query('p0y')-log.query('ply'))**2+(log.query('p0z')-log.query('plz'))**2) );\n",
    "\n",
    "#run(2000)\n",
    "# uncomment the next run() command if you have a few hours to spare\n",
    "# running this on a GPU the resulting dump files should show the\n",
    "# polymers self-assembling into the hexagonal phase\n",
    "run(10e6)\n",
    "!head pxyz.log"
   ]
  },
  {
   "cell_type": "markdown",
   "metadata": {
    "collapsed": true
   },
   "source": [
    "The results of this example may be visualized with VMD which can be installed from here: http://www.ks.uiuc.edu/Research/vmd/"
   ]
  },
  {
   "cell_type": "code",
   "execution_count": 6,
   "metadata": {},
   "outputs": [],
   "source": [
    "#!vmd -e vdw.vmd gsd/random_polymer_loop.gsd"
   ]
  },
  {
   "cell_type": "markdown",
   "metadata": {
    "collapsed": true
   },
   "source": [
    "![](snapshots/random_polymer_loop.png)"
   ]
  },
  {
   "cell_type": "code",
   "execution_count": 7,
   "metadata": {},
   "outputs": [
    {
     "name": "stdout",
     "output_type": "stream",
     "text": [
      "/home/mattferguson/miniconda2/bin:/home/mattferguson/miniconda2/bin:/usr/local/cuda-8.0/bin:/home/mattferguson/bin:/home/mattferguson/.local/bin:/usr/local/sbin:/usr/local/bin:/usr/sbin:/usr/bin:/sbin:/bin:/usr/games:/usr/local/games:/snap/bin:NVIDIA_CUDA-8.0_Samples/bin/x86_64/linux/release/\r\n"
     ]
    }
   ],
   "source": [
    "!echo $PATH"
   ]
  },
  {
   "cell_type": "code",
   "execution_count": 8,
   "metadata": {},
   "outputs": [
    {
     "data": {
      "image/png": "[encoded data removed]",
      "text/plain": [
       "<Figure size 560x308 with 1 Axes>"
      ]
     },
     "metadata": {},
     "output_type": "display_data"
    }
   ],
   "source": [
    "from matplotlib import pyplot\n",
    "%matplotlib inline\n",
    "data = numpy.genfromtxt(fname='pxyz.log', skip_header=True);\n",
    "pyplot.figure(figsize=(4,2.2), dpi=140);\n",
    "pyplot.plot(data[:,0], data[:,7]);\n",
    "pyplot.xlabel('time step');\n",
    "pyplot.ylabel('r_ee');"
   ]
  }
 ],
 "metadata": {
  "kernelspec": {
   "display_name": "Python 2",
   "language": "python",
   "name": "python2"
  },
  "language_info": {
   "codemirror_mode": {
    "name": "ipython",
    "version": 2
   },
   "file_extension": ".py",
   "mimetype": "text/x-python",
   "name": "python",
   "nbconvert_exporter": "python",
   "pygments_lexer": "ipython2",
   "version": "2.7.14"
  }
 },
 "nbformat": 4,
 "nbformat_minor": 2
}
